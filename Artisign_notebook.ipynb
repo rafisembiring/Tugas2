{
  "nbformat": 4,
  "nbformat_minor": 0,
  "metadata": {
    "colab": {
      "provenance": [],
      "machine_shape": "hm",
      "gpuType": "T4",
      "include_colab_link": true
    },
    "kernelspec": {
      "name": "python3",
      "display_name": "Python 3"
    },
    "language_info": {
      "name": "python"
    },
    "accelerator": "GPU",
    "widgets": {
      "application/vnd.jupyter.widget-state+json": {
        "989f4ee621cb4a24a2be1ad0662aa1a8": {
          "model_module": "@jupyter-widgets/controls",
          "model_name": "HBoxModel",
          "model_module_version": "1.5.0",
          "state": {
            "_dom_classes": [],
            "_model_module": "@jupyter-widgets/controls",
            "_model_module_version": "1.5.0",
            "_model_name": "HBoxModel",
            "_view_count": null,
            "_view_module": "@jupyter-widgets/controls",
            "_view_module_version": "1.5.0",
            "_view_name": "HBoxView",
            "box_style": "",
            "children": [
              "IPY_MODEL_ee340c05bf0b4a91a3e30f03bfc40c56",
              "IPY_MODEL_e03bb1fa0f6f4c1f9b70fcae9b8cc2fd",
              "IPY_MODEL_fb503095f9a345eba736cfff41ec688a"
            ],
            "layout": "IPY_MODEL_0e0f8a1302cf403d94059d79fca26e6f"
          }
        },
        "ee340c05bf0b4a91a3e30f03bfc40c56": {
          "model_module": "@jupyter-widgets/controls",
          "model_name": "HTMLModel",
          "model_module_version": "1.5.0",
          "state": {
            "_dom_classes": [],
            "_model_module": "@jupyter-widgets/controls",
            "_model_module_version": "1.5.0",
            "_model_name": "HTMLModel",
            "_view_count": null,
            "_view_module": "@jupyter-widgets/controls",
            "_view_module_version": "1.5.0",
            "_view_name": "HTMLView",
            "description": "",
            "description_tooltip": null,
            "layout": "IPY_MODEL_3b97795effda4b23a7562e6bd7c6b247",
            "placeholder": "​",
            "style": "IPY_MODEL_ab786f19badb49408995af7cbc6fd64b",
            "value": "100%"
          }
        },
        "e03bb1fa0f6f4c1f9b70fcae9b8cc2fd": {
          "model_module": "@jupyter-widgets/controls",
          "model_name": "FloatProgressModel",
          "model_module_version": "1.5.0",
          "state": {
            "_dom_classes": [],
            "_model_module": "@jupyter-widgets/controls",
            "_model_module_version": "1.5.0",
            "_model_name": "FloatProgressModel",
            "_view_count": null,
            "_view_module": "@jupyter-widgets/controls",
            "_view_module_version": "1.5.0",
            "_view_name": "ProgressView",
            "bar_style": "success",
            "description": "",
            "description_tooltip": null,
            "layout": "IPY_MODEL_1207e6aa98194114af3d1d5fad1093f0",
            "max": 26,
            "min": 0,
            "orientation": "horizontal",
            "style": "IPY_MODEL_33be1645646947c4951c4182e20cff03",
            "value": 26
          }
        },
        "fb503095f9a345eba736cfff41ec688a": {
          "model_module": "@jupyter-widgets/controls",
          "model_name": "HTMLModel",
          "model_module_version": "1.5.0",
          "state": {
            "_dom_classes": [],
            "_model_module": "@jupyter-widgets/controls",
            "_model_module_version": "1.5.0",
            "_model_name": "HTMLModel",
            "_view_count": null,
            "_view_module": "@jupyter-widgets/controls",
            "_view_module_version": "1.5.0",
            "_view_name": "HTMLView",
            "description": "",
            "description_tooltip": null,
            "layout": "IPY_MODEL_57b4850a64fd45ed9797bd0888b55be9",
            "placeholder": "​",
            "style": "IPY_MODEL_3a10cf4ae39548329a2c1b58d3a7b685",
            "value": " 26/26 [05:40&lt;00:00, 12.44s/it]"
          }
        },
        "0e0f8a1302cf403d94059d79fca26e6f": {
          "model_module": "@jupyter-widgets/base",
          "model_name": "LayoutModel",
          "model_module_version": "1.2.0",
          "state": {
            "_model_module": "@jupyter-widgets/base",
            "_model_module_version": "1.2.0",
            "_model_name": "LayoutModel",
            "_view_count": null,
            "_view_module": "@jupyter-widgets/base",
            "_view_module_version": "1.2.0",
            "_view_name": "LayoutView",
            "align_content": null,
            "align_items": null,
            "align_self": null,
            "border": null,
            "bottom": null,
            "display": null,
            "flex": null,
            "flex_flow": null,
            "grid_area": null,
            "grid_auto_columns": null,
            "grid_auto_flow": null,
            "grid_auto_rows": null,
            "grid_column": null,
            "grid_gap": null,
            "grid_row": null,
            "grid_template_areas": null,
            "grid_template_columns": null,
            "grid_template_rows": null,
            "height": null,
            "justify_content": null,
            "justify_items": null,
            "left": null,
            "margin": null,
            "max_height": null,
            "max_width": null,
            "min_height": null,
            "min_width": null,
            "object_fit": null,
            "object_position": null,
            "order": null,
            "overflow": null,
            "overflow_x": null,
            "overflow_y": null,
            "padding": null,
            "right": null,
            "top": null,
            "visibility": null,
            "width": null
          }
        },
        "3b97795effda4b23a7562e6bd7c6b247": {
          "model_module": "@jupyter-widgets/base",
          "model_name": "LayoutModel",
          "model_module_version": "1.2.0",
          "state": {
            "_model_module": "@jupyter-widgets/base",
            "_model_module_version": "1.2.0",
            "_model_name": "LayoutModel",
            "_view_count": null,
            "_view_module": "@jupyter-widgets/base",
            "_view_module_version": "1.2.0",
            "_view_name": "LayoutView",
            "align_content": null,
            "align_items": null,
            "align_self": null,
            "border": null,
            "bottom": null,
            "display": null,
            "flex": null,
            "flex_flow": null,
            "grid_area": null,
            "grid_auto_columns": null,
            "grid_auto_flow": null,
            "grid_auto_rows": null,
            "grid_column": null,
            "grid_gap": null,
            "grid_row": null,
            "grid_template_areas": null,
            "grid_template_columns": null,
            "grid_template_rows": null,
            "height": null,
            "justify_content": null,
            "justify_items": null,
            "left": null,
            "margin": null,
            "max_height": null,
            "max_width": null,
            "min_height": null,
            "min_width": null,
            "object_fit": null,
            "object_position": null,
            "order": null,
            "overflow": null,
            "overflow_x": null,
            "overflow_y": null,
            "padding": null,
            "right": null,
            "top": null,
            "visibility": null,
            "width": null
          }
        },
        "ab786f19badb49408995af7cbc6fd64b": {
          "model_module": "@jupyter-widgets/controls",
          "model_name": "DescriptionStyleModel",
          "model_module_version": "1.5.0",
          "state": {
            "_model_module": "@jupyter-widgets/controls",
            "_model_module_version": "1.5.0",
            "_model_name": "DescriptionStyleModel",
            "_view_count": null,
            "_view_module": "@jupyter-widgets/base",
            "_view_module_version": "1.2.0",
            "_view_name": "StyleView",
            "description_width": ""
          }
        },
        "1207e6aa98194114af3d1d5fad1093f0": {
          "model_module": "@jupyter-widgets/base",
          "model_name": "LayoutModel",
          "model_module_version": "1.2.0",
          "state": {
            "_model_module": "@jupyter-widgets/base",
            "_model_module_version": "1.2.0",
            "_model_name": "LayoutModel",
            "_view_count": null,
            "_view_module": "@jupyter-widgets/base",
            "_view_module_version": "1.2.0",
            "_view_name": "LayoutView",
            "align_content": null,
            "align_items": null,
            "align_self": null,
            "border": null,
            "bottom": null,
            "display": null,
            "flex": null,
            "flex_flow": null,
            "grid_area": null,
            "grid_auto_columns": null,
            "grid_auto_flow": null,
            "grid_auto_rows": null,
            "grid_column": null,
            "grid_gap": null,
            "grid_row": null,
            "grid_template_areas": null,
            "grid_template_columns": null,
            "grid_template_rows": null,
            "height": null,
            "justify_content": null,
            "justify_items": null,
            "left": null,
            "margin": null,
            "max_height": null,
            "max_width": null,
            "min_height": null,
            "min_width": null,
            "object_fit": null,
            "object_position": null,
            "order": null,
            "overflow": null,
            "overflow_x": null,
            "overflow_y": null,
            "padding": null,
            "right": null,
            "top": null,
            "visibility": null,
            "width": null
          }
        },
        "33be1645646947c4951c4182e20cff03": {
          "model_module": "@jupyter-widgets/controls",
          "model_name": "ProgressStyleModel",
          "model_module_version": "1.5.0",
          "state": {
            "_model_module": "@jupyter-widgets/controls",
            "_model_module_version": "1.5.0",
            "_model_name": "ProgressStyleModel",
            "_view_count": null,
            "_view_module": "@jupyter-widgets/base",
            "_view_module_version": "1.2.0",
            "_view_name": "StyleView",
            "bar_color": null,
            "description_width": ""
          }
        },
        "57b4850a64fd45ed9797bd0888b55be9": {
          "model_module": "@jupyter-widgets/base",
          "model_name": "LayoutModel",
          "model_module_version": "1.2.0",
          "state": {
            "_model_module": "@jupyter-widgets/base",
            "_model_module_version": "1.2.0",
            "_model_name": "LayoutModel",
            "_view_count": null,
            "_view_module": "@jupyter-widgets/base",
            "_view_module_version": "1.2.0",
            "_view_name": "LayoutView",
            "align_content": null,
            "align_items": null,
            "align_self": null,
            "border": null,
            "bottom": null,
            "display": null,
            "flex": null,
            "flex_flow": null,
            "grid_area": null,
            "grid_auto_columns": null,
            "grid_auto_flow": null,
            "grid_auto_rows": null,
            "grid_column": null,
            "grid_gap": null,
            "grid_row": null,
            "grid_template_areas": null,
            "grid_template_columns": null,
            "grid_template_rows": null,
            "height": null,
            "justify_content": null,
            "justify_items": null,
            "left": null,
            "margin": null,
            "max_height": null,
            "max_width": null,
            "min_height": null,
            "min_width": null,
            "object_fit": null,
            "object_position": null,
            "order": null,
            "overflow": null,
            "overflow_x": null,
            "overflow_y": null,
            "padding": null,
            "right": null,
            "top": null,
            "visibility": null,
            "width": null
          }
        },
        "3a10cf4ae39548329a2c1b58d3a7b685": {
          "model_module": "@jupyter-widgets/controls",
          "model_name": "DescriptionStyleModel",
          "model_module_version": "1.5.0",
          "state": {
            "_model_module": "@jupyter-widgets/controls",
            "_model_module_version": "1.5.0",
            "_model_name": "DescriptionStyleModel",
            "_view_count": null,
            "_view_module": "@jupyter-widgets/base",
            "_view_module_version": "1.2.0",
            "_view_name": "StyleView",
            "description_width": ""
          }
        },
        "10968437406e4bedbd987d37a172e904": {
          "model_module": "@jupyter-widgets/controls",
          "model_name": "HBoxModel",
          "model_module_version": "1.5.0",
          "state": {
            "_dom_classes": [],
            "_model_module": "@jupyter-widgets/controls",
            "_model_module_version": "1.5.0",
            "_model_name": "HBoxModel",
            "_view_count": null,
            "_view_module": "@jupyter-widgets/controls",
            "_view_module_version": "1.5.0",
            "_view_name": "HBoxView",
            "box_style": "",
            "children": [
              "IPY_MODEL_40e0519bd2c54549a20b9a635107c323",
              "IPY_MODEL_a546d593383942169f7a1497b399251c",
              "IPY_MODEL_d15148dc52104510b87d2fb37654abcf"
            ],
            "layout": "IPY_MODEL_7a56e8cce57e4cbdab6d5af3bbeeb90d"
          }
        },
        "40e0519bd2c54549a20b9a635107c323": {
          "model_module": "@jupyter-widgets/controls",
          "model_name": "HTMLModel",
          "model_module_version": "1.5.0",
          "state": {
            "_dom_classes": [],
            "_model_module": "@jupyter-widgets/controls",
            "_model_module_version": "1.5.0",
            "_model_name": "HTMLModel",
            "_view_count": null,
            "_view_module": "@jupyter-widgets/controls",
            "_view_module_version": "1.5.0",
            "_view_name": "HTMLView",
            "description": "",
            "description_tooltip": null,
            "layout": "IPY_MODEL_4d11ffd58ffb4468a9fec6969ed6e607",
            "placeholder": "​",
            "style": "IPY_MODEL_1b994e8e406d419c8c97b1af2d35572c",
            "value": "100%"
          }
        },
        "a546d593383942169f7a1497b399251c": {
          "model_module": "@jupyter-widgets/controls",
          "model_name": "FloatProgressModel",
          "model_module_version": "1.5.0",
          "state": {
            "_dom_classes": [],
            "_model_module": "@jupyter-widgets/controls",
            "_model_module_version": "1.5.0",
            "_model_name": "FloatProgressModel",
            "_view_count": null,
            "_view_module": "@jupyter-widgets/controls",
            "_view_module_version": "1.5.0",
            "_view_name": "ProgressView",
            "bar_style": "success",
            "description": "",
            "description_tooltip": null,
            "layout": "IPY_MODEL_5901ea97121d49c9be3065f2797d07ce",
            "max": 40,
            "min": 0,
            "orientation": "horizontal",
            "style": "IPY_MODEL_0c42709fc06546ce873f537bfa348e90",
            "value": 40
          }
        },
        "d15148dc52104510b87d2fb37654abcf": {
          "model_module": "@jupyter-widgets/controls",
          "model_name": "HTMLModel",
          "model_module_version": "1.5.0",
          "state": {
            "_dom_classes": [],
            "_model_module": "@jupyter-widgets/controls",
            "_model_module_version": "1.5.0",
            "_model_name": "HTMLModel",
            "_view_count": null,
            "_view_module": "@jupyter-widgets/controls",
            "_view_module_version": "1.5.0",
            "_view_name": "HTMLView",
            "description": "",
            "description_tooltip": null,
            "layout": "IPY_MODEL_d93db76e47d048a2b7fc1826936113b5",
            "placeholder": "​",
            "style": "IPY_MODEL_03e2e760efb24bd89ef589199120b9a0",
            "value": " 40/40 [27:19&lt;00:00, 41.63s/it]"
          }
        },
        "7a56e8cce57e4cbdab6d5af3bbeeb90d": {
          "model_module": "@jupyter-widgets/base",
          "model_name": "LayoutModel",
          "model_module_version": "1.2.0",
          "state": {
            "_model_module": "@jupyter-widgets/base",
            "_model_module_version": "1.2.0",
            "_model_name": "LayoutModel",
            "_view_count": null,
            "_view_module": "@jupyter-widgets/base",
            "_view_module_version": "1.2.0",
            "_view_name": "LayoutView",
            "align_content": null,
            "align_items": null,
            "align_self": null,
            "border": null,
            "bottom": null,
            "display": null,
            "flex": null,
            "flex_flow": null,
            "grid_area": null,
            "grid_auto_columns": null,
            "grid_auto_flow": null,
            "grid_auto_rows": null,
            "grid_column": null,
            "grid_gap": null,
            "grid_row": null,
            "grid_template_areas": null,
            "grid_template_columns": null,
            "grid_template_rows": null,
            "height": null,
            "justify_content": null,
            "justify_items": null,
            "left": null,
            "margin": null,
            "max_height": null,
            "max_width": null,
            "min_height": null,
            "min_width": null,
            "object_fit": null,
            "object_position": null,
            "order": null,
            "overflow": null,
            "overflow_x": null,
            "overflow_y": null,
            "padding": null,
            "right": null,
            "top": null,
            "visibility": null,
            "width": null
          }
        },
        "4d11ffd58ffb4468a9fec6969ed6e607": {
          "model_module": "@jupyter-widgets/base",
          "model_name": "LayoutModel",
          "model_module_version": "1.2.0",
          "state": {
            "_model_module": "@jupyter-widgets/base",
            "_model_module_version": "1.2.0",
            "_model_name": "LayoutModel",
            "_view_count": null,
            "_view_module": "@jupyter-widgets/base",
            "_view_module_version": "1.2.0",
            "_view_name": "LayoutView",
            "align_content": null,
            "align_items": null,
            "align_self": null,
            "border": null,
            "bottom": null,
            "display": null,
            "flex": null,
            "flex_flow": null,
            "grid_area": null,
            "grid_auto_columns": null,
            "grid_auto_flow": null,
            "grid_auto_rows": null,
            "grid_column": null,
            "grid_gap": null,
            "grid_row": null,
            "grid_template_areas": null,
            "grid_template_columns": null,
            "grid_template_rows": null,
            "height": null,
            "justify_content": null,
            "justify_items": null,
            "left": null,
            "margin": null,
            "max_height": null,
            "max_width": null,
            "min_height": null,
            "min_width": null,
            "object_fit": null,
            "object_position": null,
            "order": null,
            "overflow": null,
            "overflow_x": null,
            "overflow_y": null,
            "padding": null,
            "right": null,
            "top": null,
            "visibility": null,
            "width": null
          }
        },
        "1b994e8e406d419c8c97b1af2d35572c": {
          "model_module": "@jupyter-widgets/controls",
          "model_name": "DescriptionStyleModel",
          "model_module_version": "1.5.0",
          "state": {
            "_model_module": "@jupyter-widgets/controls",
            "_model_module_version": "1.5.0",
            "_model_name": "DescriptionStyleModel",
            "_view_count": null,
            "_view_module": "@jupyter-widgets/base",
            "_view_module_version": "1.2.0",
            "_view_name": "StyleView",
            "description_width": ""
          }
        },
        "5901ea97121d49c9be3065f2797d07ce": {
          "model_module": "@jupyter-widgets/base",
          "model_name": "LayoutModel",
          "model_module_version": "1.2.0",
          "state": {
            "_model_module": "@jupyter-widgets/base",
            "_model_module_version": "1.2.0",
            "_model_name": "LayoutModel",
            "_view_count": null,
            "_view_module": "@jupyter-widgets/base",
            "_view_module_version": "1.2.0",
            "_view_name": "LayoutView",
            "align_content": null,
            "align_items": null,
            "align_self": null,
            "border": null,
            "bottom": null,
            "display": null,
            "flex": null,
            "flex_flow": null,
            "grid_area": null,
            "grid_auto_columns": null,
            "grid_auto_flow": null,
            "grid_auto_rows": null,
            "grid_column": null,
            "grid_gap": null,
            "grid_row": null,
            "grid_template_areas": null,
            "grid_template_columns": null,
            "grid_template_rows": null,
            "height": null,
            "justify_content": null,
            "justify_items": null,
            "left": null,
            "margin": null,
            "max_height": null,
            "max_width": null,
            "min_height": null,
            "min_width": null,
            "object_fit": null,
            "object_position": null,
            "order": null,
            "overflow": null,
            "overflow_x": null,
            "overflow_y": null,
            "padding": null,
            "right": null,
            "top": null,
            "visibility": null,
            "width": null
          }
        },
        "0c42709fc06546ce873f537bfa348e90": {
          "model_module": "@jupyter-widgets/controls",
          "model_name": "ProgressStyleModel",
          "model_module_version": "1.5.0",
          "state": {
            "_model_module": "@jupyter-widgets/controls",
            "_model_module_version": "1.5.0",
            "_model_name": "ProgressStyleModel",
            "_view_count": null,
            "_view_module": "@jupyter-widgets/base",
            "_view_module_version": "1.2.0",
            "_view_name": "StyleView",
            "bar_color": null,
            "description_width": ""
          }
        },
        "d93db76e47d048a2b7fc1826936113b5": {
          "model_module": "@jupyter-widgets/base",
          "model_name": "LayoutModel",
          "model_module_version": "1.2.0",
          "state": {
            "_model_module": "@jupyter-widgets/base",
            "_model_module_version": "1.2.0",
            "_model_name": "LayoutModel",
            "_view_count": null,
            "_view_module": "@jupyter-widgets/base",
            "_view_module_version": "1.2.0",
            "_view_name": "LayoutView",
            "align_content": null,
            "align_items": null,
            "align_self": null,
            "border": null,
            "bottom": null,
            "display": null,
            "flex": null,
            "flex_flow": null,
            "grid_area": null,
            "grid_auto_columns": null,
            "grid_auto_flow": null,
            "grid_auto_rows": null,
            "grid_column": null,
            "grid_gap": null,
            "grid_row": null,
            "grid_template_areas": null,
            "grid_template_columns": null,
            "grid_template_rows": null,
            "height": null,
            "justify_content": null,
            "justify_items": null,
            "left": null,
            "margin": null,
            "max_height": null,
            "max_width": null,
            "min_height": null,
            "min_width": null,
            "object_fit": null,
            "object_position": null,
            "order": null,
            "overflow": null,
            "overflow_x": null,
            "overflow_y": null,
            "padding": null,
            "right": null,
            "top": null,
            "visibility": null,
            "width": null
          }
        },
        "03e2e760efb24bd89ef589199120b9a0": {
          "model_module": "@jupyter-widgets/controls",
          "model_name": "DescriptionStyleModel",
          "model_module_version": "1.5.0",
          "state": {
            "_model_module": "@jupyter-widgets/controls",
            "_model_module_version": "1.5.0",
            "_model_name": "DescriptionStyleModel",
            "_view_count": null,
            "_view_module": "@jupyter-widgets/base",
            "_view_module_version": "1.2.0",
            "_view_name": "StyleView",
            "description_width": ""
          }
        }
      }
    }
  },
  "cells": [
    {
      "cell_type": "markdown",
      "metadata": {
        "id": "view-in-github",
        "colab_type": "text"
      },
      "source": [
        "<a href=\"https://colab.research.google.com/github/rafisembiring/Tugas2/blob/main/Artisign_notebook.ipynb\" target=\"_parent\"><img src=\"https://colab.research.google.com/assets/colab-badge.svg\" alt=\"Open In Colab\"/></a>"
      ]
    },
    {
      "cell_type": "markdown",
      "source": [
        "#Artisign\n",
        "###Penerjemah Bahasa Isyarat Indonesia"
      ],
      "metadata": {
        "id": "_sAzFAeQtLxu"
      }
    },
    {
      "cell_type": "markdown",
      "source": [
        "## 1. Setup dan Import Library yang Diperlukan"
      ],
      "metadata": {
        "id": "O5gRamokvup8"
      }
    },
    {
      "cell_type": "code",
      "source": [
        "# 1. First clean up existing installations\n",
        "!pip uninstall -y mediapipe numpy opencv-python\n",
        "!pip cache purge\n",
        "\n",
        "# 2. Install compatible versions\n",
        "!pip install numpy==1.26.4  # Newer NumPy that works with Python 3.11\n",
        "!pip install mediapipe==0.10.21  # Latest available version\n",
        "!pip install opencv-python==4.9.0.80\n",
        "!pip install gradio flask\n",
        "\n",
        "# 3. Verify installation\n",
        "import numpy as np\n",
        "import mediapipe as mp\n",
        "import cv2\n",
        "\n",
        "print(\"NumPy:\", np.__version__)\n",
        "print(\"MediaPipe:\", mp.__version__)\n",
        "print(\"OpenCV:\", cv2.__version__)"
      ],
      "metadata": {
        "colab": {
          "base_uri": "https://localhost:8080/"
        },
        "id": "igOt-sHAtcRL",
        "outputId": "d9fa4ae1-cde2-441e-d029-a1aaf284583b"
      },
      "execution_count": null,
      "outputs": [
        {
          "output_type": "stream",
          "name": "stdout",
          "text": [
            "NumPy: 1.26.4\n",
            "MediaPipe: 0.10.21\n",
            "OpenCV: 4.9.0\n"
          ]
        }
      ]
    },
    {
      "cell_type": "code",
      "source": [
        "import os\n",
        "import numpy as np\n",
        "import cv2\n",
        "import mediapipe as mp\n",
        "import tensorflow as tf\n",
        "from tensorflow import keras\n",
        "from keras.models import Sequential, Model\n",
        "from keras.layers import Conv2D, MaxPooling2D, Dense, Dropout, Flatten, LSTM, TimeDistributed, Input, GlobalAveragePooling2D\n",
        "from keras.callbacks import EarlyStopping, ModelCheckpoint, ReduceLROnPlateau\n",
        "from keras.applications import MobileNetV2, EfficientNetB0\n",
        "from keras.optimizers import Adam\n",
        "from keras.utils import to_categorical\n",
        "import matplotlib.pyplot as plt\n",
        "from sklearn.model_selection import train_test_split\n",
        "from sklearn.metrics import confusion_matrix, classification_report\n",
        "import pandas as pd\n",
        "import zipfile\n",
        "import gradio as gr\n",
        "import json\n",
        "import time\n",
        "from glob import glob\n",
        "from tqdm.notebook import tqdm"
      ],
      "metadata": {
        "id": "_5JLtaxLtcLk"
      },
      "execution_count": null,
      "outputs": []
    },
    {
      "cell_type": "code",
      "source": [
        "physical_devices = tf.config.list_physical_devices('GPU')\n",
        "if len(physical_devices) > 0:\n",
        "    tf.config.experimental.set_memory_growth(physical_devices[0], True)\n",
        "    print(\"GPU tersedia untuk digunakan\")\n",
        "else:\n",
        "    print(\"GPU tidak tersedia, menggunakan CPU\")"
      ],
      "metadata": {
        "colab": {
          "base_uri": "https://localhost:8080/"
        },
        "id": "bfE4_BYJtcKB",
        "outputId": "babf44da-2dba-47d2-9bca-74428aa9d43c"
      },
      "execution_count": null,
      "outputs": [
        {
          "output_type": "stream",
          "name": "stdout",
          "text": [
            "GPU tersedia untuk digunakan\n"
          ]
        }
      ]
    },
    {
      "cell_type": "markdown",
      "source": [
        "## 2. Download dan Persiapkan Dataset"
      ],
      "metadata": {
        "id": "v_0ENUL3u8uX"
      }
    },
    {
      "cell_type": "code",
      "source": [
        "# Untuk menggunakan Kaggle API, upload file kaggle.json Anda di sini\n",
        "# atau gunakan metode yang sesuai untuk mengakses dataset Kaggle\n",
        "\n",
        "# Buat direktori untuk menyimpan kredensial Kaggle\n",
        "!mkdir -p ~/.kaggle\n",
        "\n",
        "# Alternatif: Upload kaggle.json secara manual dan salin ke folder .kaggle\n",
        "from google.colab import files\n",
        "uploaded = files.upload()\n",
        "!cp kaggle.json ~/.kaggle/\n",
        "\n",
        "# Atur permission file kaggle.json\n",
        "!chmod 600 ~/.kaggle/kaggle.json\n",
        "\n",
        "# Download dataset gambar dan video\n",
        "# Dataset 1: Indonesian Sign Language (BISINDO) - Gambar Statis\n",
        "!kaggle datasets download -d agungmrf/indonesian-sign-language-bisindo\n",
        "!unzip -q indonesian-sign-language-bisindo.zip -d bisindo_image_dataset\n",
        "\n",
        "# Dataset 2: BISINDO 40 Kata (MP4) - Video Dinamis\n",
        "!kaggle datasets download -d anggiyohanespardede/bisindo-40-kata-mp4\n",
        "!unzip -q bisindo-40-kata-mp4.zip -d bisindo_video_dataset\n",
        "\n",
        "# Eksplorasi struktur dataset\n",
        "print(\"Struktur dataset gambar:\")\n",
        "!ls -la bisindo_image_dataset\n",
        "\n",
        "print(\"\\nStruktur dataset video:\")\n",
        "!ls -la bisindo_video_dataset\n",
        "\n",
        "# Buat mapping kata-kata dalam dataset\n",
        "# Untuk dataset gambar\n",
        "image_classes = sorted(os.listdir('bisindo_image_dataset/bisindo/images/train'))\n",
        "image_classes_map = {cls: i for i, cls in enumerate(image_classes)}\n",
        "print(f\"Jumlah kelas dalam dataset gambar: {len(image_classes)}\")\n",
        "print(f\"Kelas dalam dataset gambar: {image_classes}\")\n",
        "\n",
        "# Untuk dataset video\n",
        "video_classes = sorted(os.listdir('bisindo_video_dataset/raw_video'))\n",
        "video_classes_map = {cls: i for i, cls in enumerate(video_classes)}\n",
        "print(f\"Jumlah kelas dalam dataset video: {len(video_classes)}\")\n",
        "print(f\"Kelas dalam dataset video: {video_classes}\")"
      ],
      "metadata": {
        "colab": {
          "base_uri": "https://localhost:8080/",
          "height": 541
        },
        "id": "T563fDAetcFw",
        "outputId": "579236d4-19cf-4c5e-f3df-f59cdf8b3c47"
      },
      "execution_count": null,
      "outputs": [
        {
          "output_type": "display_data",
          "data": {
            "text/plain": [
              "<IPython.core.display.HTML object>"
            ],
            "text/html": [
              "\n",
              "     <input type=\"file\" id=\"files-8f5d4a39-8ae8-4605-92e2-93e077b34046\" name=\"files[]\" multiple disabled\n",
              "        style=\"border:none\" />\n",
              "     <output id=\"result-8f5d4a39-8ae8-4605-92e2-93e077b34046\">\n",
              "      Upload widget is only available when the cell has been executed in the\n",
              "      current browser session. Please rerun this cell to enable.\n",
              "      </output>\n",
              "      <script>// Copyright 2017 Google LLC\n",
              "//\n",
              "// Licensed under the Apache License, Version 2.0 (the \"License\");\n",
              "// you may not use this file except in compliance with the License.\n",
              "// You may obtain a copy of the License at\n",
              "//\n",
              "//      http://www.apache.org/licenses/LICENSE-2.0\n",
              "//\n",
              "// Unless required by applicable law or agreed to in writing, software\n",
              "// distributed under the License is distributed on an \"AS IS\" BASIS,\n",
              "// WITHOUT WARRANTIES OR CONDITIONS OF ANY KIND, either express or implied.\n",
              "// See the License for the specific language governing permissions and\n",
              "// limitations under the License.\n",
              "\n",
              "/**\n",
              " * @fileoverview Helpers for google.colab Python module.\n",
              " */\n",
              "(function(scope) {\n",
              "function span(text, styleAttributes = {}) {\n",
              "  const element = document.createElement('span');\n",
              "  element.textContent = text;\n",
              "  for (const key of Object.keys(styleAttributes)) {\n",
              "    element.style[key] = styleAttributes[key];\n",
              "  }\n",
              "  return element;\n",
              "}\n",
              "\n",
              "// Max number of bytes which will be uploaded at a time.\n",
              "const MAX_PAYLOAD_SIZE = 100 * 1024;\n",
              "\n",
              "function _uploadFiles(inputId, outputId) {\n",
              "  const steps = uploadFilesStep(inputId, outputId);\n",
              "  const outputElement = document.getElementById(outputId);\n",
              "  // Cache steps on the outputElement to make it available for the next call\n",
              "  // to uploadFilesContinue from Python.\n",
              "  outputElement.steps = steps;\n",
              "\n",
              "  return _uploadFilesContinue(outputId);\n",
              "}\n",
              "\n",
              "// This is roughly an async generator (not supported in the browser yet),\n",
              "// where there are multiple asynchronous steps and the Python side is going\n",
              "// to poll for completion of each step.\n",
              "// This uses a Promise to block the python side on completion of each step,\n",
              "// then passes the result of the previous step as the input to the next step.\n",
              "function _uploadFilesContinue(outputId) {\n",
              "  const outputElement = document.getElementById(outputId);\n",
              "  const steps = outputElement.steps;\n",
              "\n",
              "  const next = steps.next(outputElement.lastPromiseValue);\n",
              "  return Promise.resolve(next.value.promise).then((value) => {\n",
              "    // Cache the last promise value to make it available to the next\n",
              "    // step of the generator.\n",
              "    outputElement.lastPromiseValue = value;\n",
              "    return next.value.response;\n",
              "  });\n",
              "}\n",
              "\n",
              "/**\n",
              " * Generator function which is called between each async step of the upload\n",
              " * process.\n",
              " * @param {string} inputId Element ID of the input file picker element.\n",
              " * @param {string} outputId Element ID of the output display.\n",
              " * @return {!Iterable<!Object>} Iterable of next steps.\n",
              " */\n",
              "function* uploadFilesStep(inputId, outputId) {\n",
              "  const inputElement = document.getElementById(inputId);\n",
              "  inputElement.disabled = false;\n",
              "\n",
              "  const outputElement = document.getElementById(outputId);\n",
              "  outputElement.innerHTML = '';\n",
              "\n",
              "  const pickedPromise = new Promise((resolve) => {\n",
              "    inputElement.addEventListener('change', (e) => {\n",
              "      resolve(e.target.files);\n",
              "    });\n",
              "  });\n",
              "\n",
              "  const cancel = document.createElement('button');\n",
              "  inputElement.parentElement.appendChild(cancel);\n",
              "  cancel.textContent = 'Cancel upload';\n",
              "  const cancelPromise = new Promise((resolve) => {\n",
              "    cancel.onclick = () => {\n",
              "      resolve(null);\n",
              "    };\n",
              "  });\n",
              "\n",
              "  // Wait for the user to pick the files.\n",
              "  const files = yield {\n",
              "    promise: Promise.race([pickedPromise, cancelPromise]),\n",
              "    response: {\n",
              "      action: 'starting',\n",
              "    }\n",
              "  };\n",
              "\n",
              "  cancel.remove();\n",
              "\n",
              "  // Disable the input element since further picks are not allowed.\n",
              "  inputElement.disabled = true;\n",
              "\n",
              "  if (!files) {\n",
              "    return {\n",
              "      response: {\n",
              "        action: 'complete',\n",
              "      }\n",
              "    };\n",
              "  }\n",
              "\n",
              "  for (const file of files) {\n",
              "    const li = document.createElement('li');\n",
              "    li.append(span(file.name, {fontWeight: 'bold'}));\n",
              "    li.append(span(\n",
              "        `(${file.type || 'n/a'}) - ${file.size} bytes, ` +\n",
              "        `last modified: ${\n",
              "            file.lastModifiedDate ? file.lastModifiedDate.toLocaleDateString() :\n",
              "                                    'n/a'} - `));\n",
              "    const percent = span('0% done');\n",
              "    li.appendChild(percent);\n",
              "\n",
              "    outputElement.appendChild(li);\n",
              "\n",
              "    const fileDataPromise = new Promise((resolve) => {\n",
              "      const reader = new FileReader();\n",
              "      reader.onload = (e) => {\n",
              "        resolve(e.target.result);\n",
              "      };\n",
              "      reader.readAsArrayBuffer(file);\n",
              "    });\n",
              "    // Wait for the data to be ready.\n",
              "    let fileData = yield {\n",
              "      promise: fileDataPromise,\n",
              "      response: {\n",
              "        action: 'continue',\n",
              "      }\n",
              "    };\n",
              "\n",
              "    // Use a chunked sending to avoid message size limits. See b/62115660.\n",
              "    let position = 0;\n",
              "    do {\n",
              "      const length = Math.min(fileData.byteLength - position, MAX_PAYLOAD_SIZE);\n",
              "      const chunk = new Uint8Array(fileData, position, length);\n",
              "      position += length;\n",
              "\n",
              "      const base64 = btoa(String.fromCharCode.apply(null, chunk));\n",
              "      yield {\n",
              "        response: {\n",
              "          action: 'append',\n",
              "          file: file.name,\n",
              "          data: base64,\n",
              "        },\n",
              "      };\n",
              "\n",
              "      let percentDone = fileData.byteLength === 0 ?\n",
              "          100 :\n",
              "          Math.round((position / fileData.byteLength) * 100);\n",
              "      percent.textContent = `${percentDone}% done`;\n",
              "\n",
              "    } while (position < fileData.byteLength);\n",
              "  }\n",
              "\n",
              "  // All done.\n",
              "  yield {\n",
              "    response: {\n",
              "      action: 'complete',\n",
              "    }\n",
              "  };\n",
              "}\n",
              "\n",
              "scope.google = scope.google || {};\n",
              "scope.google.colab = scope.google.colab || {};\n",
              "scope.google.colab._files = {\n",
              "  _uploadFiles,\n",
              "  _uploadFilesContinue,\n",
              "};\n",
              "})(self);\n",
              "</script> "
            ]
          },
          "metadata": {}
        },
        {
          "output_type": "stream",
          "name": "stdout",
          "text": [
            "Saving kaggle.json to kaggle.json\n",
            "Dataset URL: https://www.kaggle.com/datasets/agungmrf/indonesian-sign-language-bisindo\n",
            "License(s): unknown\n",
            "Downloading indonesian-sign-language-bisindo.zip to /content\n",
            " 99% 1.35G/1.36G [00:01<00:00, 889MB/s]\n",
            "100% 1.36G/1.36G [00:01<00:00, 920MB/s]\n",
            "Dataset URL: https://www.kaggle.com/datasets/anggiyohanespardede/bisindo-40-kata-mp4\n",
            "License(s): MIT\n",
            "Downloading bisindo-40-kata-mp4.zip to /content\n",
            " 92% 659M/719M [00:00<00:00, 1.15GB/s]\n",
            "100% 719M/719M [00:00<00:00, 1.03GB/s]\n",
            "Struktur dataset gambar:\n",
            "total 12\n",
            "drwxr-xr-x 3 root root 4096 May 15 03:35 .\n",
            "drwxr-xr-x 1 root root 4096 May 15 03:35 ..\n",
            "drwxr-xr-x 4 root root 4096 May 15 03:35 bisindo\n",
            "\n",
            "Struktur dataset video:\n",
            "total 12\n",
            "drwxr-xr-x  3 root root 4096 May 15 03:35 .\n",
            "drwxr-xr-x  1 root root 4096 May 15 03:35 ..\n",
            "drwxr-xr-x 42 root root 4096 May 15 03:35 raw_video\n",
            "Jumlah kelas dalam dataset gambar: 26\n",
            "Kelas dalam dataset gambar: ['A', 'B', 'C', 'D', 'E', 'F', 'G', 'H', 'I', 'J', 'K', 'L', 'M', 'N', 'O', 'P', 'Q', 'R', 'S', 'T', 'U', 'V', 'W', 'X', 'Y', 'Z']\n",
            "Jumlah kelas dalam dataset video: 40\n",
            "Kelas dalam dataset video: ['Apa', 'Apa Kabar', 'Bagaimana', 'Baik', 'Belajar', 'Berapa', 'Berdiri', 'Bingung', 'Dia', 'Dimana', 'Duduk', 'Halo', 'Kalian', 'Kami', 'Kamu', 'Kapan', 'Kemana', 'Kita', 'Makan', 'Mandi', 'Marah', 'Melihat', 'Membaca', 'Menulis', 'Mereka', 'Minum', 'Pendek', 'Ramah', 'Sabar', 'Saya', 'Sedih', 'Selamat Malam', 'Selamat Pagi', 'Selamat Siang', 'Selamat Sore', 'Senang', 'Siapa', 'Terima Kasih', 'Tidur', 'Tinggi']\n"
          ]
        }
      ]
    },
    {
      "cell_type": "markdown",
      "source": [
        "## 3. Preprocessing Data dan Ekstraksi Fitur"
      ],
      "metadata": {
        "id": "4VgCzfiovBNB"
      }
    },
    {
      "cell_type": "code",
      "source": [
        "mp_hands = mp.solutions.hands\n",
        "mp_drawing = mp.solutions.drawing_utils\n",
        "mp_drawing_styles = mp.solutions.drawing_styles\n",
        "\n",
        "# 3.1 Fungsi untuk ekstraksi landmark tangan\n",
        "def extract_hand_landmarks(image, hands_detector):\n",
        "    \"\"\"\n",
        "    Ekstrak landmark tangan dari sebuah gambar\n",
        "\n",
        "    Args:\n",
        "        image: Gambar input (BGR)\n",
        "        hands_detector: MediaPipe hands detector\n",
        "\n",
        "    Returns:\n",
        "        landmarks_list: List landmark tangan (jika terdeteksi)\n",
        "        processed_image: Gambar dengan visualisasi landmark\n",
        "    \"\"\"\n",
        "    # Konversi ke RGB untuk MediaPipe\n",
        "    image_rgb = cv2.cvtColor(image, cv2.COLOR_BGR2RGB)\n",
        "    h, w, _ = image.shape\n",
        "\n",
        "    # Proses deteksi tangan\n",
        "    results = hands_detector.process(image_rgb)\n",
        "\n",
        "    # Copy gambar untuk visualisasi\n",
        "    processed_image = image.copy()\n",
        "\n",
        "    landmarks_list = []\n",
        "\n",
        "    # Cek apakah tangan terdeteksi\n",
        "    if results.multi_hand_landmarks:\n",
        "        for hand_landmarks in results.multi_hand_landmarks:\n",
        "            # Visualisasi landmark pada gambar\n",
        "            mp_drawing.draw_landmarks(\n",
        "                processed_image,\n",
        "                hand_landmarks,\n",
        "                mp_hands.HAND_CONNECTIONS,\n",
        "                mp_drawing_styles.get_default_hand_landmarks_style(),\n",
        "                mp_drawing_styles.get_default_hand_connections_style()\n",
        "            )\n",
        "\n",
        "            # Ekstrak koordinat landmark (21 titik per tangan)\n",
        "            landmarks = []\n",
        "            for landmark in hand_landmarks.landmark:\n",
        "                # Normalisasi koordinat relatif terhadap ukuran gambar\n",
        "                landmarks.extend([landmark.x, landmark.y, landmark.z])\n",
        "\n",
        "            landmarks_list.append(landmarks)\n",
        "\n",
        "    return landmarks_list, processed_image\n",
        "\n",
        "# 3.2 Preprocessing untuk Dataset Gambar\n",
        "def preprocess_image_dataset(dataset_path, target_size=(224, 224), max_samples_per_class=500):\n",
        "    \"\"\"\n",
        "    Preprocess dataset gambar dan ekstrak fitur landmark tangan\n",
        "\n",
        "    Args:\n",
        "        dataset_path: Path ke dataset gambar\n",
        "        target_size: Ukuran gambar yang diinginkan untuk model\n",
        "        max_samples_per_class: Jumlah maksimum sampel per kelas\n",
        "\n",
        "    Returns:\n",
        "        X_landmarks: Fitur landmark tangan\n",
        "        X_images: Gambar yang sudah dipreprocessing\n",
        "        y: Label kelas\n",
        "        class_names: Nama kelas\n",
        "    \"\"\"\n",
        "    X_landmarks = []\n",
        "    X_images = []\n",
        "    y = []\n",
        "    class_names = []\n",
        "\n",
        "    # Inisialisasi MediaPipe Hands\n",
        "    with mp_hands.Hands(\n",
        "        static_image_mode=True,\n",
        "        max_num_hands=2,\n",
        "        min_detection_confidence=0.5) as hands:\n",
        "\n",
        "        # Untuk setiap kelas dalam dataset\n",
        "        classes = sorted(os.listdir(os.path.join(dataset_path, '/content/bisindo_image_dataset/bisindo/images/train')))\n",
        "\n",
        "        for class_idx, class_name in enumerate(tqdm(classes)):\n",
        "            class_names.append(class_name)\n",
        "            class_path = os.path.join(dataset_path, '/content/bisindo_image_dataset/bisindo/images/train', class_name)\n",
        "\n",
        "            # Ambil semua file gambar\n",
        "            image_files = [f for f in os.listdir(class_path) if f.endswith(('.jpg', '.jpeg', '.png'))]\n",
        "\n",
        "            # Batasi jumlah sampel per kelas\n",
        "            if len(image_files) > max_samples_per_class:\n",
        "                image_files = image_files[:max_samples_per_class]\n",
        "\n",
        "            for img_file in image_files:\n",
        "                img_path = os.path.join(class_path, img_file)\n",
        "\n",
        "                # Baca gambar\n",
        "                image = cv2.imread(img_path)\n",
        "                if image is None:\n",
        "                    continue\n",
        "\n",
        "                # Resize gambar\n",
        "                image = cv2.resize(image, target_size)\n",
        "\n",
        "                # Ekstrak landmark tangan\n",
        "                landmarks_list, processed_image = extract_hand_landmarks(image, hands)\n",
        "\n",
        "                if landmarks_list:\n",
        "                    # Gunakan landmark pertama jika ada\n",
        "                    # Normalisasi landmark untuk fitur\n",
        "                    X_landmarks.append(landmarks_list[0])  # 21 landmark x 3 (x,y,z) = 63 fitur\n",
        "\n",
        "                    # Normalisasi gambar\n",
        "                    norm_image = image / 255.0\n",
        "                    X_images.append(norm_image)\n",
        "\n",
        "                    # Label kelas\n",
        "                    y.append(class_idx)\n",
        "\n",
        "    # Konversi ke numpy array\n",
        "    X_landmarks = np.array(X_landmarks)\n",
        "    X_images = np.array(X_images)\n",
        "    y = np.array(y)\n",
        "\n",
        "    print(f\"Dataset gambar setelah preprocessing: {len(X_landmarks)} sampel dengan {len(class_names)} kelas\")\n",
        "\n",
        "    return X_landmarks, X_images, y, class_names\n",
        "\n",
        "# 3.3 Preprocessing untuk Dataset Video\n",
        "def preprocess_video_dataset(dataset_path, num_frames=30, target_size=(224, 224), max_videos_per_class=50):\n",
        "    \"\"\"\n",
        "    Preprocess dataset video dan ekstrak sequence landmark tangan\n",
        "\n",
        "    Args:\n",
        "        dataset_path: Path ke dataset video\n",
        "        num_frames: Jumlah frame yang diekstrak per video\n",
        "        target_size: Ukuran frame yang diinginkan\n",
        "        max_videos_per_class: Jumlah maksimum video per kelas\n",
        "\n",
        "    Returns:\n",
        "        X_video_sequences: Sequence fitur landmark tangan dari video\n",
        "        X_frames: Sample frame video yang sudah dipreprocessing\n",
        "        y_video: Label kelas\n",
        "        video_class_names: Nama kelas\n",
        "    \"\"\"\n",
        "    X_video_sequences = []\n",
        "    X_frames = []  # Sample frame untuk visualisasi\n",
        "    y_video = []\n",
        "    video_class_names = []\n",
        "\n",
        "    # Inisialisasi MediaPipe Hands\n",
        "    with mp_hands.Hands(\n",
        "        static_image_mode=False,\n",
        "        max_num_hands=2,\n",
        "        min_detection_confidence=0.5) as hands:\n",
        "\n",
        "        # Untuk setiap kelas dalam dataset video\n",
        "        classes = sorted(os.listdir(os.path.join(dataset_path, '/content/bisindo_video_dataset/raw_video')))\n",
        "\n",
        "        for class_idx, class_name in enumerate(tqdm(classes)):\n",
        "            video_class_names.append(class_name)\n",
        "            class_path = os.path.join(dataset_path, '/content/bisindo_video_dataset/raw_video', class_name)\n",
        "\n",
        "            # Ambil semua file video\n",
        "            video_files = [f for f in os.listdir(class_path) if f.endswith(('.mp4', '.avi', '.mov'))]\n",
        "\n",
        "            # Batasi jumlah video per kelas\n",
        "            if len(video_files) > max_videos_per_class:\n",
        "                video_files = video_files[:max_videos_per_class]\n",
        "\n",
        "            for video_file in video_files:\n",
        "                video_path = os.path.join(class_path, video_file)\n",
        "\n",
        "                # Buka video\n",
        "                cap = cv2.VideoCapture(video_path)\n",
        "\n",
        "                if not cap.isOpened():\n",
        "                    print(f\"Error membuka video: {video_path}\")\n",
        "                    continue\n",
        "\n",
        "                # Hitung jumlah frame dan durasi video\n",
        "                total_frames = int(cap.get(cv2.CAP_PROP_FRAME_COUNT))\n",
        "                fps = cap.get(cv2.CAP_PROP_FPS)\n",
        "\n",
        "                # Hitung interval untuk mengambil frame (distribusi merata)\n",
        "                if total_frames <= num_frames:\n",
        "                    frame_indices = range(total_frames)\n",
        "                else:\n",
        "                    frame_indices = np.linspace(0, total_frames-1, num_frames, dtype=int)\n",
        "\n",
        "                # Ekstrak landmark dari setiap frame yang dipilih\n",
        "                video_landmarks_sequence = []\n",
        "                sample_frame = None\n",
        "\n",
        "                for frame_idx in range(total_frames):\n",
        "                    ret, frame = cap.read()\n",
        "\n",
        "                    if not ret:\n",
        "                        break\n",
        "\n",
        "                    if frame_idx in frame_indices:\n",
        "                        # Resize frame\n",
        "                        frame = cv2.resize(frame, target_size)\n",
        "\n",
        "                        # Simpan frame pertama untuk visualisasi\n",
        "                        if sample_frame is None:\n",
        "                            sample_frame = frame.copy()\n",
        "\n",
        "                        # Ekstrak landmark\n",
        "                        landmarks_list, _ = extract_hand_landmarks(frame, hands)\n",
        "\n",
        "                        if landmarks_list:\n",
        "                            # Gunakan landmark tangan pertama\n",
        "                            video_landmarks_sequence.append(landmarks_list[0])\n",
        "                        else:\n",
        "                            # Jika tidak ada landmark terdeteksi, gunakan zeros\n",
        "                            video_landmarks_sequence.append(np.zeros(63))  # 21 landmark x 3 (x,y,z)\n",
        "\n",
        "                cap.release()\n",
        "\n",
        "                # Pastikan sequence memiliki panjang yang sama dengan num_frames\n",
        "                if len(video_landmarks_sequence) < num_frames:\n",
        "                    # Padding sequence jika kurang dari num_frames\n",
        "                    padding = [np.zeros(63) for _ in range(num_frames - len(video_landmarks_sequence))]\n",
        "                    video_landmarks_sequence.extend(padding)\n",
        "                elif len(video_landmarks_sequence) > num_frames:\n",
        "                    video_landmarks_sequence = video_landmarks_sequence[:num_frames]\n",
        "\n",
        "                # Tambahkan ke dataset\n",
        "                if sample_frame is not None:\n",
        "                    X_video_sequences.append(video_landmarks_sequence)\n",
        "                    X_frames.append(sample_frame / 255.0)  # Normalisasi\n",
        "                    y_video.append(class_idx)\n",
        "\n",
        "    # Konversi ke numpy array\n",
        "    X_video_sequences = np.array(X_video_sequences)\n",
        "    X_frames = np.array(X_frames)\n",
        "    y_video = np.array(y_video)\n",
        "\n",
        "    print(f\"Dataset video setelah preprocessing: {len(X_video_sequences)} sampel dengan {len(video_class_names)} kelas\")\n",
        "\n",
        "    return X_video_sequences, X_frames, y_video, video_class_names\n",
        "\n",
        "# 3.4 Visualisasi Hasil Preprocessing\n",
        "def visualize_preprocessing(sample_image, processed_image, landmarks=None, title=\"Sample Preprocessing\"):\n",
        "    \"\"\"\n",
        "    Visualisasi hasil preprocessing\n",
        "\n",
        "    Args:\n",
        "        sample_image: Gambar asli\n",
        "        processed_image: Gambar setelah preprocessing\n",
        "        landmarks: (optional) Landmark tangan untuk visualisasi\n",
        "        title: Judul visualisasi\n",
        "    \"\"\"\n",
        "    plt.figure(figsize=(12, 6))\n",
        "\n",
        "    plt.subplot(1, 2, 1)\n",
        "    plt.imshow(cv2.cvtColor(sample_image, cv2.COLOR_BGR2RGB))\n",
        "    plt.title(\"Original Image\")\n",
        "    plt.axis(\"off\")\n",
        "\n",
        "    plt.subplot(1, 2, 2)\n",
        "    plt.imshow(cv2.cvtColor(processed_image, cv2.COLOR_BGR2RGB))\n",
        "    plt.title(\"Processed Image with Hand Landmarks\")\n",
        "    plt.axis(\"off\")\n",
        "\n",
        "    plt.suptitle(title)\n",
        "    plt.tight_layout()\n",
        "    plt.show()\n",
        "\n",
        "# Jalankan preprocessing\n",
        "print(\"Memulai preprocessing dataset gambar...\")\n",
        "X_landmarks, X_images, y, class_names = preprocess_image_dataset('bisindo_image_dataset')\n",
        "\n",
        "print(\"\\nMemulai preprocessing dataset video...\")\n",
        "X_video_sequences, X_frames, y_video, video_class_names = preprocess_video_dataset('bisindo_video_dataset')\n",
        "\n",
        "# Visualisasi contoh hasil preprocessing\n",
        "if len(X_images) > 0:\n",
        "    idx = np.random.randint(0, len(X_images))\n",
        "    sample_img = (X_images[idx] * 255).astype(np.uint8)\n",
        "\n",
        "    with mp_hands.Hands(static_image_mode=True, max_num_hands=2) as hands:\n",
        "        landmarks_list, processed_img = extract_hand_landmarks(sample_img, hands)\n",
        "\n",
        "    visualize_preprocessing(sample_img, processed_img,\n",
        "                          title=f\"Sample dari kelas '{class_names[y[idx]]}'\")\n",
        "\n",
        "# One-hot encoding untuk label\n",
        "y_onehot = to_categorical(y, num_classes=len(class_names))\n",
        "y_video_onehot = to_categorical(y_video, num_classes=len(video_class_names))\n",
        "\n",
        "# Split dataset\n",
        "X_train, X_test, y_train, y_test = train_test_split(X_images, y_onehot, test_size=0.2, random_state=42)\n",
        "X_train, X_val, y_train, y_val = train_test_split(X_train, y_train, test_size=0.125, random_state=42)  # 10% dari total\n",
        "\n",
        "X_landmarks_train, X_landmarks_test, y_landmarks_train, y_landmarks_test = train_test_split(\n",
        "    X_landmarks, y_onehot, test_size=0.2, random_state=42)\n",
        "X_landmarks_train, X_landmarks_val, y_landmarks_train, y_landmarks_val = train_test_split(\n",
        "    X_landmarks_train, y_landmarks_train, test_size=0.125, random_state=42)\n",
        "\n",
        "# Split untuk dataset video\n",
        "X_video_train, X_video_test, y_video_train, y_video_test = train_test_split(\n",
        "    X_video_sequences, y_video_onehot, test_size=0.2, random_state=42)\n",
        "X_video_train, X_video_val, y_video_train, y_video_val = train_test_split(\n",
        "    X_video_train, y_video_train, test_size=0.125, random_state=42)\n",
        "\n",
        "# Simpan mapping kelas untuk digunakan dalam inferensi\n",
        "class_mapping = {i: name for i, name in enumerate(class_names)}\n",
        "video_class_mapping = {i: name for i, name in enumerate(video_class_names)}\n",
        "\n",
        "with open('image_class_mapping.json', 'w') as f:\n",
        "    json.dump(class_mapping, f)\n",
        "\n",
        "with open('video_class_mapping.json', 'w') as f:\n",
        "    json.dump(video_class_mapping, f)"
      ],
      "metadata": {
        "colab": {
          "base_uri": "https://localhost:8080/",
          "height": 763,
          "referenced_widgets": [
            "989f4ee621cb4a24a2be1ad0662aa1a8",
            "ee340c05bf0b4a91a3e30f03bfc40c56",
            "e03bb1fa0f6f4c1f9b70fcae9b8cc2fd",
            "fb503095f9a345eba736cfff41ec688a",
            "0e0f8a1302cf403d94059d79fca26e6f",
            "3b97795effda4b23a7562e6bd7c6b247",
            "ab786f19badb49408995af7cbc6fd64b",
            "1207e6aa98194114af3d1d5fad1093f0",
            "33be1645646947c4951c4182e20cff03",
            "57b4850a64fd45ed9797bd0888b55be9",
            "3a10cf4ae39548329a2c1b58d3a7b685",
            "10968437406e4bedbd987d37a172e904",
            "40e0519bd2c54549a20b9a635107c323",
            "a546d593383942169f7a1497b399251c",
            "d15148dc52104510b87d2fb37654abcf",
            "7a56e8cce57e4cbdab6d5af3bbeeb90d",
            "4d11ffd58ffb4468a9fec6969ed6e607",
            "1b994e8e406d419c8c97b1af2d35572c",
            "5901ea97121d49c9be3065f2797d07ce",
            "0c42709fc06546ce873f537bfa348e90",
            "d93db76e47d048a2b7fc1826936113b5",
            "03e2e760efb24bd89ef589199120b9a0"
          ]
        },
        "id": "Kq3XjCVqtcEc",
        "outputId": "ba6b9670-a97f-483f-8e80-1aad799afcd7"
      },
      "execution_count": null,
      "outputs": [
        {
          "output_type": "stream",
          "name": "stdout",
          "text": [
            "Memulai preprocessing dataset gambar...\n"
          ]
        },
        {
          "output_type": "display_data",
          "data": {
            "text/plain": [
              "  0%|          | 0/26 [00:00<?, ?it/s]"
            ],
            "application/vnd.jupyter.widget-view+json": {
              "version_major": 2,
              "version_minor": 0,
              "model_id": "989f4ee621cb4a24a2be1ad0662aa1a8"
            }
          },
          "metadata": {}
        },
        {
          "output_type": "stream",
          "name": "stdout",
          "text": [
            "Dataset gambar setelah preprocessing: 7969 sampel dengan 26 kelas\n",
            "\n",
            "Memulai preprocessing dataset video...\n"
          ]
        },
        {
          "output_type": "display_data",
          "data": {
            "text/plain": [
              "  0%|          | 0/40 [00:00<?, ?it/s]"
            ],
            "application/vnd.jupyter.widget-view+json": {
              "version_major": 2,
              "version_minor": 0,
              "model_id": "10968437406e4bedbd987d37a172e904"
            }
          },
          "metadata": {}
        },
        {
          "output_type": "stream",
          "name": "stdout",
          "text": [
            "Dataset video setelah preprocessing: 2000 sampel dengan 40 kelas\n"
          ]
        },
        {
          "output_type": "display_data",
          "data": {
            "text/plain": [
              "<Figure size 1200x600 with 2 Axes>"
            ],
            "image/png": "[encoded data removed]"
          },
          "metadata": {}
        }
      ]
    },
    {
      "cell_type": "markdown",
      "source": [
        "## 4. Pembuatan Model"
      ],
      "metadata": {
        "id": "6ruGunB0vFCu"
      }
    },
    {
      "cell_type": "code",
      "source": [
        "# 4.1 Model CNN untuk Gambar (Pilihan 1)\n",
        "def create_image_cnn_model(input_shape=(224, 224, 3), num_classes=len(class_names)):\n",
        "    \"\"\"\n",
        "    Buat model CNN untuk klasifikasi gambar menggunakan arsitektur MobileNetV2\n",
        "\n",
        "    Args:\n",
        "        input_shape: Bentuk input gambar\n",
        "        num_classes: Jumlah kelas output\n",
        "\n",
        "    Returns:\n",
        "        model: Model Keras yang sudah dikompilasi\n",
        "    \"\"\"\n",
        "    # Base model menggunakan MobileNetV2\n",
        "    base_model = MobileNetV2(input_shape=input_shape, include_top=False, weights='imagenet')\n",
        "\n",
        "    # Freeze beberapa layer base model\n",
        "    for layer in base_model.layers[:100]:\n",
        "        layer.trainable = False\n",
        "\n",
        "    # Buat model dengan tambahan layer untuk klasifikasi\n",
        "    model = Sequential([\n",
        "        base_model,\n",
        "        GlobalAveragePooling2D(),\n",
        "        Dense(512, activation='relu'),\n",
        "        Dropout(0.3),\n",
        "        Dense(256, activation='relu'),\n",
        "        Dropout(0.3),\n",
        "        Dense(num_classes, activation='softmax')\n",
        "    ])\n",
        "\n",
        "    # Kompilasi model\n",
        "    model.compile(\n",
        "        optimizer=Adam(learning_rate=0.001),\n",
        "        loss='categorical_crossentropy',\n",
        "        metrics=['accuracy']\n",
        "    )\n",
        "\n",
        "    return model\n",
        "\n",
        "# 4.2 Model untuk landmark tangan\n",
        "def create_landmark_model(input_shape=(63,), num_classes=len(class_names)):\n",
        "    \"\"\"\n",
        "    Buat model MLP untuk klasifikasi berdasarkan landmark tangan\n",
        "\n",
        "    Args:\n",
        "        input_shape: Bentuk input landmark\n",
        "        num_classes: Jumlah kelas output\n",
        "\n",
        "    Returns:\n",
        "        model: Model Keras yang sudah dikompilasi\n",
        "    \"\"\"\n",
        "    model = Sequential([\n",
        "        Dense(128, activation='relu', input_shape=input_shape),\n",
        "        Dropout(0.3),\n",
        "        Dense(256, activation='relu'),\n",
        "        Dropout(0.3),\n",
        "        Dense(128, activation='relu'),\n",
        "        Dropout(0.3),\n",
        "        Dense(num_classes, activation='softmax')\n",
        "    ])\n",
        "\n",
        "    model.compile(\n",
        "        optimizer=Adam(learning_rate=0.001),\n",
        "        loss='categorical_crossentropy',\n",
        "        metrics=['accuracy']\n",
        "    )\n",
        "\n",
        "    return model\n",
        "\n",
        "# 4.3 Model Hybrid CNN+LSTM untuk Video\n",
        "def create_video_model(input_shape=(30, 63), num_classes=len(video_class_names)):\n",
        "    \"\"\"\n",
        "    Buat model hybrid CNN+LSTM untuk klasifikasi video\n",
        "\n",
        "    Args:\n",
        "        input_shape: Bentuk input sequence landmark\n",
        "        num_classes: Jumlah kelas output\n",
        "\n",
        "    Returns:\n",
        "        model: Model Keras yang sudah dikompilasi\n",
        "    \"\"\"\n",
        "    model = Sequential([\n",
        "        # LSTM layers untuk sequence data\n",
        "        LSTM(128, return_sequences=True, input_shape=input_shape),\n",
        "        Dropout(0.3),\n",
        "        LSTM(256, return_sequences=False),\n",
        "        Dropout(0.3),\n",
        "        Dense(128, activation='relu'),\n",
        "        Dropout(0.3),\n",
        "        Dense(num_classes, activation='softmax')\n",
        "    ])\n",
        "\n",
        "    model.compile(\n",
        "        optimizer=Adam(learning_rate=0.001),\n",
        "        loss='categorical_crossentropy',\n",
        "        metrics=['accuracy']\n",
        "    )\n",
        "\n",
        "    return model\n",
        "\n",
        "# Buat ketiga model\n",
        "print(\"Membuat model CNN untuk gambar...\")\n",
        "image_model = create_image_cnn_model(input_shape=(224, 224, 3), num_classes=len(class_names))\n",
        "image_model.summary()\n",
        "\n",
        "print(\"\\nMembuat model landmark...\")\n",
        "landmark_model = create_landmark_model(input_shape=(63,), num_classes=len(class_names))\n",
        "landmark_model.summary()\n",
        "\n",
        "print(\"\\nMembuat model video...\")\n",
        "video_model = create_video_model(input_shape=(30, 63), num_classes=len(video_class_names))\n",
        "video_model.summary()"
      ],
      "metadata": {
        "colab": {
          "base_uri": "https://localhost:8080/",
          "height": 1000
        },
        "id": "yGiQf37Ytbzl",
        "outputId": "ddfa6dc9-8e5b-4464-e59b-4b448e487f1c"
      },
      "execution_count": null,
      "outputs": [
        {
          "output_type": "stream",
          "name": "stdout",
          "text": [
            "Membuat model CNN untuk gambar...\n"
          ]
        },
        {
          "output_type": "display_data",
          "data": {
            "text/plain": [
              "\u001b[1mModel: \"sequential\"\u001b[0m\n"
            ],
            "text/html": [
              "<pre style=\"white-space:pre;overflow-x:auto;line-height:normal;font-family:Menlo,'DejaVu Sans Mono',consolas,'Courier New',monospace\"><span style=\"font-weight: bold\">Model: \"sequential\"</span>\n",
              "</pre>\n"
            ]
          },
          "metadata": {}
        },
        {
          "output_type": "display_data",
          "data": {
            "text/plain": [
              "┏━━━━━━━━━━━━━━━━━━━━━━━━━━━━━━━━━┳━━━━━━━━━━━━━━━━━━━━━━━━┳━━━━━━━━━━━━━━━┓\n",
              "┃\u001b[1m \u001b[0m\u001b[1mLayer (type)                   \u001b[0m\u001b[1m \u001b[0m┃\u001b[1m \u001b[0m\u001b[1mOutput Shape          \u001b[0m\u001b[1m \u001b[0m┃\u001b[1m \u001b[0m\u001b[1m      Param #\u001b[0m\u001b[1m \u001b[0m┃\n",
              "┡━━━━━━━━━━━━━━━━━━━━━━━━━━━━━━━━━╇━━━━━━━━━━━━━━━━━━━━━━━━╇━━━━━━━━━━━━━━━┩\n",
              "│ mobilenetv2_1.00_224            │ (\u001b[38;5;45mNone\u001b[0m, \u001b[38;5;34m7\u001b[0m, \u001b[38;5;34m7\u001b[0m, \u001b[38;5;34m1280\u001b[0m)     │     \u001b[38;5;34m2,257,984\u001b[0m │\n",
              "│ (\u001b[38;5;33mFunctional\u001b[0m)                    │                        │               │\n",
              "├─────────────────────────────────┼────────────────────────┼───────────────┤\n",
              "│ global_average_pooling2d        │ (\u001b[38;5;45mNone\u001b[0m, \u001b[38;5;34m1280\u001b[0m)           │             \u001b[38;5;34m0\u001b[0m │\n",
              "│ (\u001b[38;5;33mGlobalAveragePooling2D\u001b[0m)        │                        │               │\n",
              "├─────────────────────────────────┼────────────────────────┼───────────────┤\n",
              "│ dense (\u001b[38;5;33mDense\u001b[0m)                   │ (\u001b[38;5;45mNone\u001b[0m, \u001b[38;5;34m512\u001b[0m)            │       \u001b[38;5;34m655,872\u001b[0m │\n",
              "├─────────────────────────────────┼────────────────────────┼───────────────┤\n",
              "│ dropout (\u001b[38;5;33mDropout\u001b[0m)               │ (\u001b[38;5;45mNone\u001b[0m, \u001b[38;5;34m512\u001b[0m)            │             \u001b[38;5;34m0\u001b[0m │\n",
              "├─────────────────────────────────┼────────────────────────┼───────────────┤\n",
              "│ dense_1 (\u001b[38;5;33mDense\u001b[0m)                 │ (\u001b[38;5;45mNone\u001b[0m, \u001b[38;5;34m256\u001b[0m)            │       \u001b[38;5;34m131,328\u001b[0m │\n",
              "├─────────────────────────────────┼────────────────────────┼───────────────┤\n",
              "│ dropout_1 (\u001b[38;5;33mDropout\u001b[0m)             │ (\u001b[38;5;45mNone\u001b[0m, \u001b[38;5;34m256\u001b[0m)            │             \u001b[38;5;34m0\u001b[0m │\n",
              "├─────────────────────────────────┼────────────────────────┼───────────────┤\n",
              "│ dense_2 (\u001b[38;5;33mDense\u001b[0m)                 │ (\u001b[38;5;45mNone\u001b[0m, \u001b[38;5;34m26\u001b[0m)             │         \u001b[38;5;34m6,682\u001b[0m │\n",
              "└─────────────────────────────────┴────────────────────────┴───────────────┘\n"
            ],
            "text/html": [
              "<pre style=\"white-space:pre;overflow-x:auto;line-height:normal;font-family:Menlo,'DejaVu Sans Mono',consolas,'Courier New',monospace\">┏━━━━━━━━━━━━━━━━━━━━━━━━━━━━━━━━━┳━━━━━━━━━━━━━━━━━━━━━━━━┳━━━━━━━━━━━━━━━┓\n",
              "┃<span style=\"font-weight: bold\"> Layer (type)                    </span>┃<span style=\"font-weight: bold\"> Output Shape           </span>┃<span style=\"font-weight: bold\">       Param # </span>┃\n",
              "┡━━━━━━━━━━━━━━━━━━━━━━━━━━━━━━━━━╇━━━━━━━━━━━━━━━━━━━━━━━━╇━━━━━━━━━━━━━━━┩\n",
              "│ mobilenetv2_1.00_224            │ (<span style=\"color: #00d7ff; text-decoration-color: #00d7ff\">None</span>, <span style=\"color: #00af00; text-decoration-color: #00af00\">7</span>, <span style=\"color: #00af00; text-decoration-color: #00af00\">7</span>, <span style=\"color: #00af00; text-decoration-color: #00af00\">1280</span>)     │     <span style=\"color: #00af00; text-decoration-color: #00af00\">2,257,984</span> │\n",
              "│ (<span style=\"color: #0087ff; text-decoration-color: #0087ff\">Functional</span>)                    │                        │               │\n",
              "├─────────────────────────────────┼────────────────────────┼───────────────┤\n",
              "│ global_average_pooling2d        │ (<span style=\"color: #00d7ff; text-decoration-color: #00d7ff\">None</span>, <span style=\"color: #00af00; text-decoration-color: #00af00\">1280</span>)           │             <span style=\"color: #00af00; text-decoration-color: #00af00\">0</span> │\n",
              "│ (<span style=\"color: #0087ff; text-decoration-color: #0087ff\">GlobalAveragePooling2D</span>)        │                        │               │\n",
              "├─────────────────────────────────┼────────────────────────┼───────────────┤\n",
              "│ dense (<span style=\"color: #0087ff; text-decoration-color: #0087ff\">Dense</span>)                   │ (<span style=\"color: #00d7ff; text-decoration-color: #00d7ff\">None</span>, <span style=\"color: #00af00; text-decoration-color: #00af00\">512</span>)            │       <span style=\"color: #00af00; text-decoration-color: #00af00\">655,872</span> │\n",
              "├─────────────────────────────────┼────────────────────────┼───────────────┤\n",
              "│ dropout (<span style=\"color: #0087ff; text-decoration-color: #0087ff\">Dropout</span>)               │ (<span style=\"color: #00d7ff; text-decoration-color: #00d7ff\">None</span>, <span style=\"color: #00af00; text-decoration-color: #00af00\">512</span>)            │             <span style=\"color: #00af00; text-decoration-color: #00af00\">0</span> │\n",
              "├─────────────────────────────────┼────────────────────────┼───────────────┤\n",
              "│ dense_1 (<span style=\"color: #0087ff; text-decoration-color: #0087ff\">Dense</span>)                 │ (<span style=\"color: #00d7ff; text-decoration-color: #00d7ff\">None</span>, <span style=\"color: #00af00; text-decoration-color: #00af00\">256</span>)            │       <span style=\"color: #00af00; text-decoration-color: #00af00\">131,328</span> │\n",
              "├─────────────────────────────────┼────────────────────────┼───────────────┤\n",
              "│ dropout_1 (<span style=\"color: #0087ff; text-decoration-color: #0087ff\">Dropout</span>)             │ (<span style=\"color: #00d7ff; text-decoration-color: #00d7ff\">None</span>, <span style=\"color: #00af00; text-decoration-color: #00af00\">256</span>)            │             <span style=\"color: #00af00; text-decoration-color: #00af00\">0</span> │\n",
              "├─────────────────────────────────┼────────────────────────┼───────────────┤\n",
              "│ dense_2 (<span style=\"color: #0087ff; text-decoration-color: #0087ff\">Dense</span>)                 │ (<span style=\"color: #00d7ff; text-decoration-color: #00d7ff\">None</span>, <span style=\"color: #00af00; text-decoration-color: #00af00\">26</span>)             │         <span style=\"color: #00af00; text-decoration-color: #00af00\">6,682</span> │\n",
              "└─────────────────────────────────┴────────────────────────┴───────────────┘\n",
              "</pre>\n"
            ]
          },
          "metadata": {}
        },
        {
          "output_type": "display_data",
          "data": {
            "text/plain": [
              "\u001b[1m Total params: \u001b[0m\u001b[38;5;34m3,051,866\u001b[0m (11.64 MB)\n"
            ],
            "text/html": [
              "<pre style=\"white-space:pre;overflow-x:auto;line-height:normal;font-family:Menlo,'DejaVu Sans Mono',consolas,'Courier New',monospace\"><span style=\"font-weight: bold\"> Total params: </span><span style=\"color: #00af00; text-decoration-color: #00af00\">3,051,866</span> (11.64 MB)\n",
              "</pre>\n"
            ]
          },
          "metadata": {}
        },
        {
          "output_type": "display_data",
          "data": {
            "text/plain": [
              "\u001b[1m Trainable params: \u001b[0m\u001b[38;5;34m2,655,322\u001b[0m (10.13 MB)\n"
            ],
            "text/html": [
              "<pre style=\"white-space:pre;overflow-x:auto;line-height:normal;font-family:Menlo,'DejaVu Sans Mono',consolas,'Courier New',monospace\"><span style=\"font-weight: bold\"> Trainable params: </span><span style=\"color: #00af00; text-decoration-color: #00af00\">2,655,322</span> (10.13 MB)\n",
              "</pre>\n"
            ]
          },
          "metadata": {}
        },
        {
          "output_type": "display_data",
          "data": {
            "text/plain": [
              "\u001b[1m Non-trainable params: \u001b[0m\u001b[38;5;34m396,544\u001b[0m (1.51 MB)\n"
            ],
            "text/html": [
              "<pre style=\"white-space:pre;overflow-x:auto;line-height:normal;font-family:Menlo,'DejaVu Sans Mono',consolas,'Courier New',monospace\"><span style=\"font-weight: bold\"> Non-trainable params: </span><span style=\"color: #00af00; text-decoration-color: #00af00\">396,544</span> (1.51 MB)\n",
              "</pre>\n"
            ]
          },
          "metadata": {}
        },
        {
          "output_type": "stream",
          "name": "stdout",
          "text": [
            "\n",
            "Membuat model landmark...\n"
          ]
        },
        {
          "output_type": "stream",
          "name": "stderr",
          "text": [
            "/usr/local/lib/python3.11/dist-packages/keras/src/layers/core/dense.py:87: UserWarning: Do not pass an `input_shape`/`input_dim` argument to a layer. When using Sequential models, prefer using an `Input(shape)` object as the first layer in the model instead.\n",
            "  super().__init__(activity_regularizer=activity_regularizer, **kwargs)\n"
          ]
        },
        {
          "output_type": "display_data",
          "data": {
            "text/plain": [
              "\u001b[1mModel: \"sequential_1\"\u001b[0m\n"
            ],
            "text/html": [
              "<pre style=\"white-space:pre;overflow-x:auto;line-height:normal;font-family:Menlo,'DejaVu Sans Mono',consolas,'Courier New',monospace\"><span style=\"font-weight: bold\">Model: \"sequential_1\"</span>\n",
              "</pre>\n"
            ]
          },
          "metadata": {}
        },
        {
          "output_type": "display_data",
          "data": {
            "text/plain": [
              "┏━━━━━━━━━━━━━━━━━━━━━━━━━━━━━━━━━┳━━━━━━━━━━━━━━━━━━━━━━━━┳━━━━━━━━━━━━━━━┓\n",
              "┃\u001b[1m \u001b[0m\u001b[1mLayer (type)                   \u001b[0m\u001b[1m \u001b[0m┃\u001b[1m \u001b[0m\u001b[1mOutput Shape          \u001b[0m\u001b[1m \u001b[0m┃\u001b[1m \u001b[0m\u001b[1m      Param #\u001b[0m\u001b[1m \u001b[0m┃\n",
              "┡━━━━━━━━━━━━━━━━━━━━━━━━━━━━━━━━━╇━━━━━━━━━━━━━━━━━━━━━━━━╇━━━━━━━━━━━━━━━┩\n",
              "│ dense_3 (\u001b[38;5;33mDense\u001b[0m)                 │ (\u001b[38;5;45mNone\u001b[0m, \u001b[38;5;34m128\u001b[0m)            │         \u001b[38;5;34m8,192\u001b[0m │\n",
              "├─────────────────────────────────┼────────────────────────┼───────────────┤\n",
              "│ dropout_2 (\u001b[38;5;33mDropout\u001b[0m)             │ (\u001b[38;5;45mNone\u001b[0m, \u001b[38;5;34m128\u001b[0m)            │             \u001b[38;5;34m0\u001b[0m │\n",
              "├─────────────────────────────────┼────────────────────────┼───────────────┤\n",
              "│ dense_4 (\u001b[38;5;33mDense\u001b[0m)                 │ (\u001b[38;5;45mNone\u001b[0m, \u001b[38;5;34m256\u001b[0m)            │        \u001b[38;5;34m33,024\u001b[0m │\n",
              "├─────────────────────────────────┼────────────────────────┼───────────────┤\n",
              "│ dropout_3 (\u001b[38;5;33mDropout\u001b[0m)             │ (\u001b[38;5;45mNone\u001b[0m, \u001b[38;5;34m256\u001b[0m)            │             \u001b[38;5;34m0\u001b[0m │\n",
              "├─────────────────────────────────┼────────────────────────┼───────────────┤\n",
              "│ dense_5 (\u001b[38;5;33mDense\u001b[0m)                 │ (\u001b[38;5;45mNone\u001b[0m, \u001b[38;5;34m128\u001b[0m)            │        \u001b[38;5;34m32,896\u001b[0m │\n",
              "├─────────────────────────────────┼────────────────────────┼───────────────┤\n",
              "│ dropout_4 (\u001b[38;5;33mDropout\u001b[0m)             │ (\u001b[38;5;45mNone\u001b[0m, \u001b[38;5;34m128\u001b[0m)            │             \u001b[38;5;34m0\u001b[0m │\n",
              "├─────────────────────────────────┼────────────────────────┼───────────────┤\n",
              "│ dense_6 (\u001b[38;5;33mDense\u001b[0m)                 │ (\u001b[38;5;45mNone\u001b[0m, \u001b[38;5;34m26\u001b[0m)             │         \u001b[38;5;34m3,354\u001b[0m │\n",
              "└─────────────────────────────────┴────────────────────────┴───────────────┘\n"
            ],
            "text/html": [
              "<pre style=\"white-space:pre;overflow-x:auto;line-height:normal;font-family:Menlo,'DejaVu Sans Mono',consolas,'Courier New',monospace\">┏━━━━━━━━━━━━━━━━━━━━━━━━━━━━━━━━━┳━━━━━━━━━━━━━━━━━━━━━━━━┳━━━━━━━━━━━━━━━┓\n",
              "┃<span style=\"font-weight: bold\"> Layer (type)                    </span>┃<span style=\"font-weight: bold\"> Output Shape           </span>┃<span style=\"font-weight: bold\">       Param # </span>┃\n",
              "┡━━━━━━━━━━━━━━━━━━━━━━━━━━━━━━━━━╇━━━━━━━━━━━━━━━━━━━━━━━━╇━━━━━━━━━━━━━━━┩\n",
              "│ dense_3 (<span style=\"color: #0087ff; text-decoration-color: #0087ff\">Dense</span>)                 │ (<span style=\"color: #00d7ff; text-decoration-color: #00d7ff\">None</span>, <span style=\"color: #00af00; text-decoration-color: #00af00\">128</span>)            │         <span style=\"color: #00af00; text-decoration-color: #00af00\">8,192</span> │\n",
              "├─────────────────────────────────┼────────────────────────┼───────────────┤\n",
              "│ dropout_2 (<span style=\"color: #0087ff; text-decoration-color: #0087ff\">Dropout</span>)             │ (<span style=\"color: #00d7ff; text-decoration-color: #00d7ff\">None</span>, <span style=\"color: #00af00; text-decoration-color: #00af00\">128</span>)            │             <span style=\"color: #00af00; text-decoration-color: #00af00\">0</span> │\n",
              "├─────────────────────────────────┼────────────────────────┼───────────────┤\n",
              "│ dense_4 (<span style=\"color: #0087ff; text-decoration-color: #0087ff\">Dense</span>)                 │ (<span style=\"color: #00d7ff; text-decoration-color: #00d7ff\">None</span>, <span style=\"color: #00af00; text-decoration-color: #00af00\">256</span>)            │        <span style=\"color: #00af00; text-decoration-color: #00af00\">33,024</span> │\n",
              "├─────────────────────────────────┼────────────────────────┼───────────────┤\n",
              "│ dropout_3 (<span style=\"color: #0087ff; text-decoration-color: #0087ff\">Dropout</span>)             │ (<span style=\"color: #00d7ff; text-decoration-color: #00d7ff\">None</span>, <span style=\"color: #00af00; text-decoration-color: #00af00\">256</span>)            │             <span style=\"color: #00af00; text-decoration-color: #00af00\">0</span> │\n",
              "├─────────────────────────────────┼────────────────────────┼───────────────┤\n",
              "│ dense_5 (<span style=\"color: #0087ff; text-decoration-color: #0087ff\">Dense</span>)                 │ (<span style=\"color: #00d7ff; text-decoration-color: #00d7ff\">None</span>, <span style=\"color: #00af00; text-decoration-color: #00af00\">128</span>)            │        <span style=\"color: #00af00; text-decoration-color: #00af00\">32,896</span> │\n",
              "├─────────────────────────────────┼────────────────────────┼───────────────┤\n",
              "│ dropout_4 (<span style=\"color: #0087ff; text-decoration-color: #0087ff\">Dropout</span>)             │ (<span style=\"color: #00d7ff; text-decoration-color: #00d7ff\">None</span>, <span style=\"color: #00af00; text-decoration-color: #00af00\">128</span>)            │             <span style=\"color: #00af00; text-decoration-color: #00af00\">0</span> │\n",
              "├─────────────────────────────────┼────────────────────────┼───────────────┤\n",
              "│ dense_6 (<span style=\"color: #0087ff; text-decoration-color: #0087ff\">Dense</span>)                 │ (<span style=\"color: #00d7ff; text-decoration-color: #00d7ff\">None</span>, <span style=\"color: #00af00; text-decoration-color: #00af00\">26</span>)             │         <span style=\"color: #00af00; text-decoration-color: #00af00\">3,354</span> │\n",
              "└─────────────────────────────────┴────────────────────────┴───────────────┘\n",
              "</pre>\n"
            ]
          },
          "metadata": {}
        },
        {
          "output_type": "display_data",
          "data": {
            "text/plain": [
              "\u001b[1m Total params: \u001b[0m\u001b[38;5;34m77,466\u001b[0m (302.60 KB)\n"
            ],
            "text/html": [
              "<pre style=\"white-space:pre;overflow-x:auto;line-height:normal;font-family:Menlo,'DejaVu Sans Mono',consolas,'Courier New',monospace\"><span style=\"font-weight: bold\"> Total params: </span><span style=\"color: #00af00; text-decoration-color: #00af00\">77,466</span> (302.60 KB)\n",
              "</pre>\n"
            ]
          },
          "metadata": {}
        },
        {
          "output_type": "display_data",
          "data": {
            "text/plain": [
              "\u001b[1m Trainable params: \u001b[0m\u001b[38;5;34m77,466\u001b[0m (302.60 KB)\n"
            ],
            "text/html": [
              "<pre style=\"white-space:pre;overflow-x:auto;line-height:normal;font-family:Menlo,'DejaVu Sans Mono',consolas,'Courier New',monospace\"><span style=\"font-weight: bold\"> Trainable params: </span><span style=\"color: #00af00; text-decoration-color: #00af00\">77,466</span> (302.60 KB)\n",
              "</pre>\n"
            ]
          },
          "metadata": {}
        },
        {
          "output_type": "display_data",
          "data": {
            "text/plain": [
              "\u001b[1m Non-trainable params: \u001b[0m\u001b[38;5;34m0\u001b[0m (0.00 B)\n"
            ],
            "text/html": [
              "<pre style=\"white-space:pre;overflow-x:auto;line-height:normal;font-family:Menlo,'DejaVu Sans Mono',consolas,'Courier New',monospace\"><span style=\"font-weight: bold\"> Non-trainable params: </span><span style=\"color: #00af00; text-decoration-color: #00af00\">0</span> (0.00 B)\n",
              "</pre>\n"
            ]
          },
          "metadata": {}
        },
        {
          "output_type": "stream",
          "name": "stdout",
          "text": [
            "\n",
            "Membuat model video...\n"
          ]
        },
        {
          "output_type": "stream",
          "name": "stderr",
          "text": [
            "/usr/local/lib/python3.11/dist-packages/keras/src/layers/rnn/rnn.py:200: UserWarning: Do not pass an `input_shape`/`input_dim` argument to a layer. When using Sequential models, prefer using an `Input(shape)` object as the first layer in the model instead.\n",
            "  super().__init__(**kwargs)\n"
          ]
        },
        {
          "output_type": "display_data",
          "data": {
            "text/plain": [
              "\u001b[1mModel: \"sequential_2\"\u001b[0m\n"
            ],
            "text/html": [
              "<pre style=\"white-space:pre;overflow-x:auto;line-height:normal;font-family:Menlo,'DejaVu Sans Mono',consolas,'Courier New',monospace\"><span style=\"font-weight: bold\">Model: \"sequential_2\"</span>\n",
              "</pre>\n"
            ]
          },
          "metadata": {}
        },
        {
          "output_type": "display_data",
          "data": {
            "text/plain": [
              "┏━━━━━━━━━━━━━━━━━━━━━━━━━━━━━━━━━┳━━━━━━━━━━━━━━━━━━━━━━━━┳━━━━━━━━━━━━━━━┓\n",
              "┃\u001b[1m \u001b[0m\u001b[1mLayer (type)                   \u001b[0m\u001b[1m \u001b[0m┃\u001b[1m \u001b[0m\u001b[1mOutput Shape          \u001b[0m\u001b[1m \u001b[0m┃\u001b[1m \u001b[0m\u001b[1m      Param #\u001b[0m\u001b[1m \u001b[0m┃\n",
              "┡━━━━━━━━━━━━━━━━━━━━━━━━━━━━━━━━━╇━━━━━━━━━━━━━━━━━━━━━━━━╇━━━━━━━━━━━━━━━┩\n",
              "│ lstm (\u001b[38;5;33mLSTM\u001b[0m)                     │ (\u001b[38;5;45mNone\u001b[0m, \u001b[38;5;34m30\u001b[0m, \u001b[38;5;34m128\u001b[0m)        │        \u001b[38;5;34m98,304\u001b[0m │\n",
              "├─────────────────────────────────┼────────────────────────┼───────────────┤\n",
              "│ dropout_5 (\u001b[38;5;33mDropout\u001b[0m)             │ (\u001b[38;5;45mNone\u001b[0m, \u001b[38;5;34m30\u001b[0m, \u001b[38;5;34m128\u001b[0m)        │             \u001b[38;5;34m0\u001b[0m │\n",
              "├─────────────────────────────────┼────────────────────────┼───────────────┤\n",
              "│ lstm_1 (\u001b[38;5;33mLSTM\u001b[0m)                   │ (\u001b[38;5;45mNone\u001b[0m, \u001b[38;5;34m256\u001b[0m)            │       \u001b[38;5;34m394,240\u001b[0m │\n",
              "├─────────────────────────────────┼────────────────────────┼───────────────┤\n",
              "│ dropout_6 (\u001b[38;5;33mDropout\u001b[0m)             │ (\u001b[38;5;45mNone\u001b[0m, \u001b[38;5;34m256\u001b[0m)            │             \u001b[38;5;34m0\u001b[0m │\n",
              "├─────────────────────────────────┼────────────────────────┼───────────────┤\n",
              "│ dense_7 (\u001b[38;5;33mDense\u001b[0m)                 │ (\u001b[38;5;45mNone\u001b[0m, \u001b[38;5;34m128\u001b[0m)            │        \u001b[38;5;34m32,896\u001b[0m │\n",
              "├─────────────────────────────────┼────────────────────────┼───────────────┤\n",
              "│ dropout_7 (\u001b[38;5;33mDropout\u001b[0m)             │ (\u001b[38;5;45mNone\u001b[0m, \u001b[38;5;34m128\u001b[0m)            │             \u001b[38;5;34m0\u001b[0m │\n",
              "├─────────────────────────────────┼────────────────────────┼───────────────┤\n",
              "│ dense_8 (\u001b[38;5;33mDense\u001b[0m)                 │ (\u001b[38;5;45mNone\u001b[0m, \u001b[38;5;34m40\u001b[0m)             │         \u001b[38;5;34m5,160\u001b[0m │\n",
              "└─────────────────────────────────┴────────────────────────┴───────────────┘\n"
            ],
            "text/html": [
              "<pre style=\"white-space:pre;overflow-x:auto;line-height:normal;font-family:Menlo,'DejaVu Sans Mono',consolas,'Courier New',monospace\">┏━━━━━━━━━━━━━━━━━━━━━━━━━━━━━━━━━┳━━━━━━━━━━━━━━━━━━━━━━━━┳━━━━━━━━━━━━━━━┓\n",
              "┃<span style=\"font-weight: bold\"> Layer (type)                    </span>┃<span style=\"font-weight: bold\"> Output Shape           </span>┃<span style=\"font-weight: bold\">       Param # </span>┃\n",
              "┡━━━━━━━━━━━━━━━━━━━━━━━━━━━━━━━━━╇━━━━━━━━━━━━━━━━━━━━━━━━╇━━━━━━━━━━━━━━━┩\n",
              "│ lstm (<span style=\"color: #0087ff; text-decoration-color: #0087ff\">LSTM</span>)                     │ (<span style=\"color: #00d7ff; text-decoration-color: #00d7ff\">None</span>, <span style=\"color: #00af00; text-decoration-color: #00af00\">30</span>, <span style=\"color: #00af00; text-decoration-color: #00af00\">128</span>)        │        <span style=\"color: #00af00; text-decoration-color: #00af00\">98,304</span> │\n",
              "├─────────────────────────────────┼────────────────────────┼───────────────┤\n",
              "│ dropout_5 (<span style=\"color: #0087ff; text-decoration-color: #0087ff\">Dropout</span>)             │ (<span style=\"color: #00d7ff; text-decoration-color: #00d7ff\">None</span>, <span style=\"color: #00af00; text-decoration-color: #00af00\">30</span>, <span style=\"color: #00af00; text-decoration-color: #00af00\">128</span>)        │             <span style=\"color: #00af00; text-decoration-color: #00af00\">0</span> │\n",
              "├─────────────────────────────────┼────────────────────────┼───────────────┤\n",
              "│ lstm_1 (<span style=\"color: #0087ff; text-decoration-color: #0087ff\">LSTM</span>)                   │ (<span style=\"color: #00d7ff; text-decoration-color: #00d7ff\">None</span>, <span style=\"color: #00af00; text-decoration-color: #00af00\">256</span>)            │       <span style=\"color: #00af00; text-decoration-color: #00af00\">394,240</span> │\n",
              "├─────────────────────────────────┼────────────────────────┼───────────────┤\n",
              "│ dropout_6 (<span style=\"color: #0087ff; text-decoration-color: #0087ff\">Dropout</span>)             │ (<span style=\"color: #00d7ff; text-decoration-color: #00d7ff\">None</span>, <span style=\"color: #00af00; text-decoration-color: #00af00\">256</span>)            │             <span style=\"color: #00af00; text-decoration-color: #00af00\">0</span> │\n",
              "├─────────────────────────────────┼────────────────────────┼───────────────┤\n",
              "│ dense_7 (<span style=\"color: #0087ff; text-decoration-color: #0087ff\">Dense</span>)                 │ (<span style=\"color: #00d7ff; text-decoration-color: #00d7ff\">None</span>, <span style=\"color: #00af00; text-decoration-color: #00af00\">128</span>)            │        <span style=\"color: #00af00; text-decoration-color: #00af00\">32,896</span> │\n",
              "├─────────────────────────────────┼────────────────────────┼───────────────┤\n",
              "│ dropout_7 (<span style=\"color: #0087ff; text-decoration-color: #0087ff\">Dropout</span>)             │ (<span style=\"color: #00d7ff; text-decoration-color: #00d7ff\">None</span>, <span style=\"color: #00af00; text-decoration-color: #00af00\">128</span>)            │             <span style=\"color: #00af00; text-decoration-color: #00af00\">0</span> │\n",
              "├─────────────────────────────────┼────────────────────────┼───────────────┤\n",
              "│ dense_8 (<span style=\"color: #0087ff; text-decoration-color: #0087ff\">Dense</span>)                 │ (<span style=\"color: #00d7ff; text-decoration-color: #00d7ff\">None</span>, <span style=\"color: #00af00; text-decoration-color: #00af00\">40</span>)             │         <span style=\"color: #00af00; text-decoration-color: #00af00\">5,160</span> │\n",
              "└─────────────────────────────────┴────────────────────────┴───────────────┘\n",
              "</pre>\n"
            ]
          },
          "metadata": {}
        },
        {
          "output_type": "display_data",
          "data": {
            "text/plain": [
              "\u001b[1m Total params: \u001b[0m\u001b[38;5;34m530,600\u001b[0m (2.02 MB)\n"
            ],
            "text/html": [
              "<pre style=\"white-space:pre;overflow-x:auto;line-height:normal;font-family:Menlo,'DejaVu Sans Mono',consolas,'Courier New',monospace\"><span style=\"font-weight: bold\"> Total params: </span><span style=\"color: #00af00; text-decoration-color: #00af00\">530,600</span> (2.02 MB)\n",
              "</pre>\n"
            ]
          },
          "metadata": {}
        },
        {
          "output_type": "display_data",
          "data": {
            "text/plain": [
              "\u001b[1m Trainable params: \u001b[0m\u001b[38;5;34m530,600\u001b[0m (2.02 MB)\n"
            ],
            "text/html": [
              "<pre style=\"white-space:pre;overflow-x:auto;line-height:normal;font-family:Menlo,'DejaVu Sans Mono',consolas,'Courier New',monospace\"><span style=\"font-weight: bold\"> Trainable params: </span><span style=\"color: #00af00; text-decoration-color: #00af00\">530,600</span> (2.02 MB)\n",
              "</pre>\n"
            ]
          },
          "metadata": {}
        },
        {
          "output_type": "display_data",
          "data": {
            "text/plain": [
              "\u001b[1m Non-trainable params: \u001b[0m\u001b[38;5;34m0\u001b[0m (0.00 B)\n"
            ],
            "text/html": [
              "<pre style=\"white-space:pre;overflow-x:auto;line-height:normal;font-family:Menlo,'DejaVu Sans Mono',consolas,'Courier New',monospace\"><span style=\"font-weight: bold\"> Non-trainable params: </span><span style=\"color: #00af00; text-decoration-color: #00af00\">0</span> (0.00 B)\n",
              "</pre>\n"
            ]
          },
          "metadata": {}
        }
      ]
    },
    {
      "cell_type": "markdown",
      "source": [
        "## 5. Training Model"
      ],
      "metadata": {
        "id": "GISFCxFBvH88"
      }
    },
    {
      "cell_type": "code",
      "source": [
        "# 5.1 Callbacks untuk training\n",
        "early_stopping = EarlyStopping(\n",
        "    monitor='val_loss',\n",
        "    patience=10,\n",
        "    restore_best_weights=True\n",
        ")\n",
        "\n",
        "reduce_lr = ReduceLROnPlateau(\n",
        "    monitor='val_loss',\n",
        "    factor=0.2,\n",
        "    patience=5,\n",
        "    min_lr=1e-6\n",
        ")\n",
        "\n",
        "# 5.2 Training Model CNN untuk Gambar\n",
        "image_model_checkpoint = ModelCheckpoint(\n",
        "    'best_image_model.h5',\n",
        "    monitor='val_accuracy',\n",
        "    save_best_only=True,\n",
        "    verbose=1\n",
        ")\n",
        "\n",
        "print(\"Training model CNN untuk gambar...\")\n",
        "image_history = image_model.fit(\n",
        "    X_train,\n",
        "    y_train,\n",
        "    batch_size=32,\n",
        "    epochs=50,\n",
        "    validation_data=(X_val, y_val),\n",
        "    callbacks=[early_stopping, reduce_lr, image_model_checkpoint]\n",
        ")\n",
        "\n",
        "# 5.3 Training Model Landmark\n",
        "landmark_model_checkpoint = ModelCheckpoint(\n",
        "    'best_landmark_model.h5',\n",
        "    monitor='val_accuracy',\n",
        "    save_best_only=True,\n",
        "    verbose=1\n",
        ")\n",
        "\n",
        "print(\"\\nTraining model landmark...\")\n",
        "landmark_history = landmark_model.fit(\n",
        "    X_landmarks_train,\n",
        "    y_landmarks_train,\n",
        "    batch_size=32,\n",
        "    epochs=50,\n",
        "    validation_data=(X_landmarks_val, y_landmarks_val),\n",
        "    callbacks=[early_stopping, reduce_lr, landmark_model_checkpoint]\n",
        ")\n",
        "\n",
        "# 5.4 Training Model Video\n",
        "video_model_checkpoint = ModelCheckpoint(\n",
        "    'best_video_model.h5',\n",
        "    monitor='val_accuracy',\n",
        "    save_best_only=True,\n",
        "    verbose=1\n",
        ")\n",
        "\n",
        "print(\"\\nTraining model video...\")\n",
        "video_history = video_model.fit(\n",
        "    X_video_train,\n",
        "    y_video_train,\n",
        "    batch_size=16,\n",
        "    epochs=50,\n",
        "    validation_data=(X_video_val, y_video_val),\n",
        "    callbacks=[early_stopping, reduce_lr, video_model_checkpoint]\n",
        ")"
      ],
      "metadata": {
        "colab": {
          "base_uri": "https://localhost:8080/"
        },
        "id": "toClDIYYtbp5",
        "outputId": "7979dbca-39bd-480b-c9d9-52138926657b"
      },
      "execution_count": null,
      "outputs": [
        {
          "output_type": "stream",
          "name": "stdout",
          "text": [
            "Training model CNN untuk gambar...\n",
            "Epoch 1/50\n",
            "\u001b[1m175/175\u001b[0m \u001b[32m━━━━━━━━━━━━━━━━━━━━\u001b[0m\u001b[37m\u001b[0m \u001b[1m0s\u001b[0m 99ms/step - accuracy: 0.6305 - loss: 1.3333\n",
            "Epoch 1: val_accuracy improved from -inf to 0.38269, saving model to best_image_model.h5\n"
          ]
        },
        {
          "output_type": "stream",
          "name": "stderr",
          "text": [
            "WARNING:absl:You are saving your model as an HDF5 file via `model.save()` or `keras.saving.save_model(model)`. This file format is considered legacy. We recommend using instead the native Keras format, e.g. `model.save('my_model.keras')` or `keras.saving.save_model(model, 'my_model.keras')`. \n"
          ]
        },
        {
          "output_type": "stream",
          "name": "stdout",
          "text": [
            "\b\b\b\b\b\b\b\b\b\b\b\b\b\b\b\b\b\b\b\b\b\b\b\b\b\b\b\b\b\b\b\b\b\b\b\b\b\b\b\b\b\b\b\b\b\b\b\b\b\b\b\b\b\b\b\b\b\b\b\b\b\b\b\b\b\b\b\b\b\b\b\b\b\b\b\r\u001b[1m175/175\u001b[0m \u001b[32m━━━━━━━━━━━━━━━━━━━━\u001b[0m\u001b[37m\u001b[0m \u001b[1m60s\u001b[0m 179ms/step - accuracy: 0.6314 - loss: 1.3299 - val_accuracy: 0.3827 - val_loss: 6.1124 - learning_rate: 0.0010\n",
            "Epoch 2/50\n",
            "\u001b[1m173/175\u001b[0m \u001b[32m━━━━━━━━━━━━━━━━━━━\u001b[0m\u001b[37m━\u001b[0m \u001b[1m0s\u001b[0m 26ms/step - accuracy: 0.9423 - loss: 0.2203\n",
            "Epoch 2: val_accuracy did not improve from 0.38269\n",
            "\u001b[1m175/175\u001b[0m \u001b[32m━━━━━━━━━━━━━━━━━━━━\u001b[0m\u001b[37m\u001b[0m \u001b[1m5s\u001b[0m 29ms/step - accuracy: 0.9422 - loss: 0.2203 - val_accuracy: 0.1932 - val_loss: 10.7761 - learning_rate: 0.0010\n",
            "Epoch 3/50\n",
            "\u001b[1m173/175\u001b[0m \u001b[32m━━━━━━━━━━━━━━━━━━━\u001b[0m\u001b[37m━\u001b[0m \u001b[1m0s\u001b[0m 26ms/step - accuracy: 0.9324 - loss: 0.2774\n",
            "Epoch 3: val_accuracy did not improve from 0.38269\n",
            "\u001b[1m175/175\u001b[0m \u001b[32m━━━━━━━━━━━━━━━━━━━━\u001b[0m\u001b[37m\u001b[0m \u001b[1m5s\u001b[0m 29ms/step - accuracy: 0.9327 - loss: 0.2762 - val_accuracy: 0.1895 - val_loss: 12.9847 - learning_rate: 0.0010\n",
            "Epoch 4/50\n",
            "\u001b[1m173/175\u001b[0m \u001b[32m━━━━━━━━━━━━━━━━━━━\u001b[0m\u001b[37m━\u001b[0m \u001b[1m0s\u001b[0m 26ms/step - accuracy: 0.9707 - loss: 0.1169\n",
            "Epoch 4: val_accuracy did not improve from 0.38269\n",
            "\u001b[1m175/175\u001b[0m \u001b[32m━━━━━━━━━━━━━━━━━━━━\u001b[0m\u001b[37m\u001b[0m \u001b[1m5s\u001b[0m 29ms/step - accuracy: 0.9706 - loss: 0.1171 - val_accuracy: 0.1606 - val_loss: 9.8715 - learning_rate: 0.0010\n",
            "Epoch 5/50\n",
            "\u001b[1m173/175\u001b[0m \u001b[32m━━━━━━━━━━━━━━━━━━━\u001b[0m\u001b[37m━\u001b[0m \u001b[1m0s\u001b[0m 26ms/step - accuracy: 0.9695 - loss: 0.1262\n",
            "Epoch 5: val_accuracy did not improve from 0.38269\n",
            "\u001b[1m175/175\u001b[0m \u001b[32m━━━━━━━━━━━━━━━━━━━━\u001b[0m\u001b[37m\u001b[0m \u001b[1m5s\u001b[0m 30ms/step - accuracy: 0.9696 - loss: 0.1258 - val_accuracy: 0.3350 - val_loss: 5.7546 - learning_rate: 0.0010\n",
            "Epoch 6/50\n",
            "\u001b[1m174/175\u001b[0m \u001b[32m━━━━━━━━━━━━━━━━━━━\u001b[0m\u001b[37m━\u001b[0m \u001b[1m0s\u001b[0m 26ms/step - accuracy: 0.9852 - loss: 0.0548\n",
            "Epoch 6: val_accuracy did not improve from 0.38269\n",
            "\u001b[1m175/175\u001b[0m \u001b[32m━━━━━━━━━━━━━━━━━━━━\u001b[0m\u001b[37m\u001b[0m \u001b[1m5s\u001b[0m 29ms/step - accuracy: 0.9852 - loss: 0.0549 - val_accuracy: 0.2083 - val_loss: 14.5239 - learning_rate: 0.0010\n",
            "Epoch 7/50\n",
            "\u001b[1m175/175\u001b[0m \u001b[32m━━━━━━━━━━━━━━━━━━━━\u001b[0m\u001b[37m\u001b[0m \u001b[1m0s\u001b[0m 26ms/step - accuracy: 0.9790 - loss: 0.0833\n",
            "Epoch 7: val_accuracy did not improve from 0.38269\n",
            "\u001b[1m175/175\u001b[0m \u001b[32m━━━━━━━━━━━━━━━━━━━━\u001b[0m\u001b[37m\u001b[0m \u001b[1m5s\u001b[0m 29ms/step - accuracy: 0.9790 - loss: 0.0834 - val_accuracy: 0.2974 - val_loss: 8.0677 - learning_rate: 0.0010\n",
            "Epoch 8/50\n",
            "\u001b[1m173/175\u001b[0m \u001b[32m━━━━━━━━━━━━━━━━━━━\u001b[0m\u001b[37m━\u001b[0m \u001b[1m0s\u001b[0m 26ms/step - accuracy: 0.9853 - loss: 0.0703\n",
            "Epoch 8: val_accuracy did not improve from 0.38269\n",
            "\u001b[1m175/175\u001b[0m \u001b[32m━━━━━━━━━━━━━━━━━━━━\u001b[0m\u001b[37m\u001b[0m \u001b[1m5s\u001b[0m 29ms/step - accuracy: 0.9853 - loss: 0.0703 - val_accuracy: 0.2622 - val_loss: 8.3471 - learning_rate: 0.0010\n",
            "Epoch 9/50\n",
            "\u001b[1m174/175\u001b[0m \u001b[32m━━━━━━━━━━━━━━━━━━━\u001b[0m\u001b[37m━\u001b[0m \u001b[1m0s\u001b[0m 26ms/step - accuracy: 0.9769 - loss: 0.0905\n",
            "Epoch 9: val_accuracy improved from 0.38269 to 0.41531, saving model to best_image_model.h5\n"
          ]
        },
        {
          "output_type": "stream",
          "name": "stderr",
          "text": [
            "WARNING:absl:You are saving your model as an HDF5 file via `model.save()` or `keras.saving.save_model(model)`. This file format is considered legacy. We recommend using instead the native Keras format, e.g. `model.save('my_model.keras')` or `keras.saving.save_model(model, 'my_model.keras')`. \n"
          ]
        },
        {
          "output_type": "stream",
          "name": "stdout",
          "text": [
            "\b\b\b\b\b\b\b\b\b\b\b\b\b\b\b\b\b\b\b\b\b\b\b\b\b\b\b\b\b\b\b\b\b\b\b\b\b\b\b\b\b\b\b\b\b\b\b\b\b\b\b\b\b\b\b\b\b\b\b\b\b\b\b\b\b\b\b\b\b\b\b\b\b\b\b\r\u001b[1m175/175\u001b[0m \u001b[32m━━━━━━━━━━━━━━━━━━━━\u001b[0m\u001b[37m\u001b[0m \u001b[1m6s\u001b[0m 32ms/step - accuracy: 0.9769 - loss: 0.0907 - val_accuracy: 0.4153 - val_loss: 5.0095 - learning_rate: 0.0010\n",
            "Epoch 10/50\n",
            "\u001b[1m174/175\u001b[0m \u001b[32m━━━━━━━━━━━━━━━━━━━\u001b[0m\u001b[37m━\u001b[0m \u001b[1m0s\u001b[0m 26ms/step - accuracy: 0.9861 - loss: 0.0575\n",
            "Epoch 10: val_accuracy did not improve from 0.41531\n",
            "\u001b[1m175/175\u001b[0m \u001b[32m━━━━━━━━━━━━━━━━━━━━\u001b[0m\u001b[37m\u001b[0m \u001b[1m5s\u001b[0m 29ms/step - accuracy: 0.9861 - loss: 0.0576 - val_accuracy: 0.3024 - val_loss: 9.7567 - learning_rate: 0.0010\n",
            "Epoch 11/50\n",
            "\u001b[1m173/175\u001b[0m \u001b[32m━━━━━━━━━━━━━━━━━━━\u001b[0m\u001b[37m━\u001b[0m \u001b[1m0s\u001b[0m 26ms/step - accuracy: 0.9806 - loss: 0.1022\n",
            "Epoch 11: val_accuracy did not improve from 0.41531\n",
            "\u001b[1m175/175\u001b[0m \u001b[32m━━━━━━━━━━━━━━━━━━━━\u001b[0m\u001b[37m\u001b[0m \u001b[1m5s\u001b[0m 29ms/step - accuracy: 0.9806 - loss: 0.1021 - val_accuracy: 0.1581 - val_loss: 11.8710 - learning_rate: 0.0010\n",
            "Epoch 12/50\n",
            "\u001b[1m173/175\u001b[0m \u001b[32m━━━━━━━━━━━━━━━━━━━\u001b[0m\u001b[37m━\u001b[0m \u001b[1m0s\u001b[0m 26ms/step - accuracy: 0.9861 - loss: 0.0697\n",
            "Epoch 12: val_accuracy improved from 0.41531 to 0.54705, saving model to best_image_model.h5\n"
          ]
        },
        {
          "output_type": "stream",
          "name": "stderr",
          "text": [
            "WARNING:absl:You are saving your model as an HDF5 file via `model.save()` or `keras.saving.save_model(model)`. This file format is considered legacy. We recommend using instead the native Keras format, e.g. `model.save('my_model.keras')` or `keras.saving.save_model(model, 'my_model.keras')`. \n"
          ]
        },
        {
          "output_type": "stream",
          "name": "stdout",
          "text": [
            "\b\b\b\b\b\b\b\b\b\b\b\b\b\b\b\b\b\b\b\b\b\b\b\b\b\b\b\b\b\b\b\b\b\b\b\b\b\b\b\b\b\b\b\b\b\b\b\b\b\b\b\b\b\b\b\b\b\b\b\b\b\b\b\b\b\b\b\b\b\b\b\b\b\b\b\r\u001b[1m175/175\u001b[0m \u001b[32m━━━━━━━━━━━━━━━━━━━━\u001b[0m\u001b[37m\u001b[0m \u001b[1m6s\u001b[0m 32ms/step - accuracy: 0.9862 - loss: 0.0692 - val_accuracy: 0.5471 - val_loss: 2.0511 - learning_rate: 0.0010\n",
            "Epoch 13/50\n",
            "\u001b[1m173/175\u001b[0m \u001b[32m━━━━━━━━━━━━━━━━━━━\u001b[0m\u001b[37m━\u001b[0m \u001b[1m0s\u001b[0m 26ms/step - accuracy: 0.9814 - loss: 0.0858\n",
            "Epoch 13: val_accuracy did not improve from 0.54705\n",
            "\u001b[1m175/175\u001b[0m \u001b[32m━━━━━━━━━━━━━━━━━━━━\u001b[0m\u001b[37m\u001b[0m \u001b[1m5s\u001b[0m 29ms/step - accuracy: 0.9815 - loss: 0.0858 - val_accuracy: 0.4655 - val_loss: 3.9457 - learning_rate: 0.0010\n",
            "Epoch 14/50\n",
            "\u001b[1m173/175\u001b[0m \u001b[32m━━━━━━━━━━━━━━━━━━━\u001b[0m\u001b[37m━\u001b[0m \u001b[1m0s\u001b[0m 26ms/step - accuracy: 0.9785 - loss: 0.1097\n",
            "Epoch 14: val_accuracy did not improve from 0.54705\n",
            "\u001b[1m175/175\u001b[0m \u001b[32m━━━━━━━━━━━━━━━━━━━━\u001b[0m\u001b[37m\u001b[0m \u001b[1m5s\u001b[0m 29ms/step - accuracy: 0.9786 - loss: 0.1091 - val_accuracy: 0.2459 - val_loss: 15.3830 - learning_rate: 0.0010\n",
            "Epoch 15/50\n",
            "\u001b[1m173/175\u001b[0m \u001b[32m━━━━━━━━━━━━━━━━━━━\u001b[0m\u001b[37m━\u001b[0m \u001b[1m0s\u001b[0m 26ms/step - accuracy: 0.9903 - loss: 0.0385\n",
            "Epoch 15: val_accuracy did not improve from 0.54705\n",
            "\u001b[1m175/175\u001b[0m \u001b[32m━━━━━━━━━━━━━━━━━━━━\u001b[0m\u001b[37m\u001b[0m \u001b[1m5s\u001b[0m 29ms/step - accuracy: 0.9903 - loss: 0.0384 - val_accuracy: 0.1669 - val_loss: 19.3423 - learning_rate: 0.0010\n",
            "Epoch 16/50\n",
            "\u001b[1m173/175\u001b[0m \u001b[32m━━━━━━━━━━━━━━━━━━━\u001b[0m\u001b[37m━\u001b[0m \u001b[1m0s\u001b[0m 26ms/step - accuracy: 0.9865 - loss: 0.0565\n",
            "Epoch 16: val_accuracy did not improve from 0.54705\n",
            "\u001b[1m175/175\u001b[0m \u001b[32m━━━━━━━━━━━━━━━━━━━━\u001b[0m\u001b[37m\u001b[0m \u001b[1m5s\u001b[0m 30ms/step - accuracy: 0.9865 - loss: 0.0564 - val_accuracy: 0.1945 - val_loss: 15.8295 - learning_rate: 0.0010\n",
            "Epoch 17/50\n",
            "\u001b[1m173/175\u001b[0m \u001b[32m━━━━━━━━━━━━━━━━━━━\u001b[0m\u001b[37m━\u001b[0m \u001b[1m0s\u001b[0m 27ms/step - accuracy: 0.9952 - loss: 0.0216\n",
            "Epoch 17: val_accuracy improved from 0.54705 to 0.56964, saving model to best_image_model.h5\n"
          ]
        },
        {
          "output_type": "stream",
          "name": "stderr",
          "text": [
            "WARNING:absl:You are saving your model as an HDF5 file via `model.save()` or `keras.saving.save_model(model)`. This file format is considered legacy. We recommend using instead the native Keras format, e.g. `model.save('my_model.keras')` or `keras.saving.save_model(model, 'my_model.keras')`. \n"
          ]
        },
        {
          "output_type": "stream",
          "name": "stdout",
          "text": [
            "\b\b\b\b\b\b\b\b\b\b\b\b\b\b\b\b\b\b\b\b\b\b\b\b\b\b\b\b\b\b\b\b\b\b\b\b\b\b\b\b\b\b\b\b\b\b\b\b\b\b\b\b\b\b\b\b\b\b\b\b\b\b\b\b\b\b\b\b\b\b\b\b\b\b\b\r\u001b[1m175/175\u001b[0m \u001b[32m━━━━━━━━━━━━━━━━━━━━\u001b[0m\u001b[37m\u001b[0m \u001b[1m6s\u001b[0m 32ms/step - accuracy: 0.9952 - loss: 0.0215 - val_accuracy: 0.5696 - val_loss: 4.0957 - learning_rate: 0.0010\n",
            "Epoch 18/50\n",
            "\u001b[1m173/175\u001b[0m \u001b[32m━━━━━━━━━━━━━━━━━━━\u001b[0m\u001b[37m━\u001b[0m \u001b[1m0s\u001b[0m 27ms/step - accuracy: 0.9992 - loss: 0.0038\n",
            "Epoch 18: val_accuracy improved from 0.56964 to 0.81430, saving model to best_image_model.h5\n"
          ]
        },
        {
          "output_type": "stream",
          "name": "stderr",
          "text": [
            "WARNING:absl:You are saving your model as an HDF5 file via `model.save()` or `keras.saving.save_model(model)`. This file format is considered legacy. We recommend using instead the native Keras format, e.g. `model.save('my_model.keras')` or `keras.saving.save_model(model, 'my_model.keras')`. \n"
          ]
        },
        {
          "output_type": "stream",
          "name": "stdout",
          "text": [
            "\b\b\b\b\b\b\b\b\b\b\b\b\b\b\b\b\b\b\b\b\b\b\b\b\b\b\b\b\b\b\b\b\b\b\b\b\b\b\b\b\b\b\b\b\b\b\b\b\b\b\b\b\b\b\b\b\b\b\b\b\b\b\b\b\b\b\b\b\b\b\b\b\b\b\b\r\u001b[1m175/175\u001b[0m \u001b[32m━━━━━━━━━━━━━━━━━━━━\u001b[0m\u001b[37m\u001b[0m \u001b[1m6s\u001b[0m 32ms/step - accuracy: 0.9992 - loss: 0.0038 - val_accuracy: 0.8143 - val_loss: 1.4433 - learning_rate: 2.0000e-04\n",
            "Epoch 19/50\n",
            "\u001b[1m173/175\u001b[0m \u001b[32m━━━━━━━━━━━━━━━━━━━\u001b[0m\u001b[37m━\u001b[0m \u001b[1m0s\u001b[0m 26ms/step - accuracy: 0.9998 - loss: 8.2866e-04\n",
            "Epoch 19: val_accuracy improved from 0.81430 to 0.94856, saving model to best_image_model.h5\n"
          ]
        },
        {
          "output_type": "stream",
          "name": "stderr",
          "text": [
            "WARNING:absl:You are saving your model as an HDF5 file via `model.save()` or `keras.saving.save_model(model)`. This file format is considered legacy. We recommend using instead the native Keras format, e.g. `model.save('my_model.keras')` or `keras.saving.save_model(model, 'my_model.keras')`. \n"
          ]
        },
        {
          "output_type": "stream",
          "name": "stdout",
          "text": [
            "\b\b\b\b\b\b\b\b\b\b\b\b\b\b\b\b\b\b\b\b\b\b\b\b\b\b\b\b\b\b\b\b\b\b\b\b\b\b\b\b\b\b\b\b\b\b\b\b\b\b\b\b\b\b\b\b\b\b\b\b\b\b\b\b\b\b\b\b\b\b\b\b\b\b\b\b\b\b\b\r\u001b[1m175/175\u001b[0m \u001b[32m━━━━━━━━━━━━━━━━━━━━\u001b[0m\u001b[37m\u001b[0m \u001b[1m6s\u001b[0m 32ms/step - accuracy: 0.9997 - loss: 8.3160e-04 - val_accuracy: 0.9486 - val_loss: 0.2385 - learning_rate: 2.0000e-04\n",
            "Epoch 20/50\n",
            "\u001b[1m173/175\u001b[0m \u001b[32m━━━━━━━━━━━━━━━━━━━\u001b[0m\u001b[37m━\u001b[0m \u001b[1m0s\u001b[0m 26ms/step - accuracy: 0.9997 - loss: 0.0011\n",
            "Epoch 20: val_accuracy improved from 0.94856 to 0.98620, saving model to best_image_model.h5\n"
          ]
        },
        {
          "output_type": "stream",
          "name": "stderr",
          "text": [
            "WARNING:absl:You are saving your model as an HDF5 file via `model.save()` or `keras.saving.save_model(model)`. This file format is considered legacy. We recommend using instead the native Keras format, e.g. `model.save('my_model.keras')` or `keras.saving.save_model(model, 'my_model.keras')`. \n"
          ]
        },
        {
          "output_type": "stream",
          "name": "stdout",
          "text": [
            "\b\b\b\b\b\b\b\b\b\b\b\b\b\b\b\b\b\b\b\b\b\b\b\b\b\b\b\b\b\b\b\b\b\b\b\b\b\b\b\b\b\b\b\b\b\b\b\b\b\b\b\b\b\b\b\b\b\b\b\b\b\b\b\b\b\b\b\b\b\b\b\b\b\b\b\r\u001b[1m175/175\u001b[0m \u001b[32m━━━━━━━━━━━━━━━━━━━━\u001b[0m\u001b[37m\u001b[0m \u001b[1m6s\u001b[0m 32ms/step - accuracy: 0.9997 - loss: 0.0011 - val_accuracy: 0.9862 - val_loss: 0.0489 - learning_rate: 2.0000e-04\n",
            "Epoch 21/50\n",
            "\u001b[1m173/175\u001b[0m \u001b[32m━━━━━━━━━━━━━━━━━━━\u001b[0m\u001b[37m━\u001b[0m \u001b[1m0s\u001b[0m 26ms/step - accuracy: 1.0000 - loss: 2.8476e-04\n",
            "Epoch 21: val_accuracy improved from 0.98620 to 0.99498, saving model to best_image_model.h5\n"
          ]
        },
        {
          "output_type": "stream",
          "name": "stderr",
          "text": [
            "WARNING:absl:You are saving your model as an HDF5 file via `model.save()` or `keras.saving.save_model(model)`. This file format is considered legacy. We recommend using instead the native Keras format, e.g. `model.save('my_model.keras')` or `keras.saving.save_model(model, 'my_model.keras')`. \n"
          ]
        },
        {
          "output_type": "stream",
          "name": "stdout",
          "text": [
            "\b\b\b\b\b\b\b\b\b\b\b\b\b\b\b\b\b\b\b\b\b\b\b\b\b\b\b\b\b\b\b\b\b\b\b\b\b\b\b\b\b\b\b\b\b\b\b\b\b\b\b\b\b\b\b\b\b\b\b\b\b\b\b\b\b\b\b\b\b\b\b\b\b\b\b\b\b\b\b\r\u001b[1m175/175\u001b[0m \u001b[32m━━━━━━━━━━━━━━━━━━━━\u001b[0m\u001b[37m\u001b[0m \u001b[1m6s\u001b[0m 32ms/step - accuracy: 1.0000 - loss: 2.8497e-04 - val_accuracy: 0.9950 - val_loss: 0.0217 - learning_rate: 2.0000e-04\n",
            "Epoch 22/50\n",
            "\u001b[1m173/175\u001b[0m \u001b[32m━━━━━━━━━━━━━━━━━━━\u001b[0m\u001b[37m━\u001b[0m \u001b[1m0s\u001b[0m 26ms/step - accuracy: 1.0000 - loss: 3.6839e-04\n",
            "Epoch 22: val_accuracy improved from 0.99498 to 0.99875, saving model to best_image_model.h5\n"
          ]
        },
        {
          "output_type": "stream",
          "name": "stderr",
          "text": [
            "WARNING:absl:You are saving your model as an HDF5 file via `model.save()` or `keras.saving.save_model(model)`. This file format is considered legacy. We recommend using instead the native Keras format, e.g. `model.save('my_model.keras')` or `keras.saving.save_model(model, 'my_model.keras')`. \n"
          ]
        },
        {
          "output_type": "stream",
          "name": "stdout",
          "text": [
            "\b\b\b\b\b\b\b\b\b\b\b\b\b\b\b\b\b\b\b\b\b\b\b\b\b\b\b\b\b\b\b\b\b\b\b\b\b\b\b\b\b\b\b\b\b\b\b\b\b\b\b\b\b\b\b\b\b\b\b\b\b\b\b\b\b\b\b\b\b\b\b\b\b\b\b\b\b\b\b\r\u001b[1m175/175\u001b[0m \u001b[32m━━━━━━━━━━━━━━━━━━━━\u001b[0m\u001b[37m\u001b[0m \u001b[1m6s\u001b[0m 32ms/step - accuracy: 1.0000 - loss: 3.6807e-04 - val_accuracy: 0.9987 - val_loss: 0.0103 - learning_rate: 2.0000e-04\n",
            "Epoch 23/50\n",
            "\u001b[1m173/175\u001b[0m \u001b[32m━━━━━━━━━━━━━━━━━━━\u001b[0m\u001b[37m━\u001b[0m \u001b[1m0s\u001b[0m 26ms/step - accuracy: 1.0000 - loss: 5.4034e-04\n",
            "Epoch 23: val_accuracy did not improve from 0.99875\n",
            "\u001b[1m175/175\u001b[0m \u001b[32m━━━━━━━━━━━━━━━━━━━━\u001b[0m\u001b[37m\u001b[0m \u001b[1m5s\u001b[0m 30ms/step - accuracy: 1.0000 - loss: 5.4192e-04 - val_accuracy: 0.9987 - val_loss: 0.0052 - learning_rate: 2.0000e-04\n",
            "Epoch 24/50\n",
            "\u001b[1m173/175\u001b[0m \u001b[32m━━━━━━━━━━━━━━━━━━━\u001b[0m\u001b[37m━\u001b[0m \u001b[1m0s\u001b[0m 26ms/step - accuracy: 1.0000 - loss: 4.5672e-04\n",
            "Epoch 24: val_accuracy did not improve from 0.99875\n",
            "\u001b[1m175/175\u001b[0m \u001b[32m━━━━━━━━━━━━━━━━━━━━\u001b[0m\u001b[37m\u001b[0m \u001b[1m5s\u001b[0m 30ms/step - accuracy: 1.0000 - loss: 4.6170e-04 - val_accuracy: 0.9987 - val_loss: 0.0017 - learning_rate: 2.0000e-04\n",
            "Epoch 25/50\n",
            "\u001b[1m173/175\u001b[0m \u001b[32m━━━━━━━━━━━━━━━━━━━\u001b[0m\u001b[37m━\u001b[0m \u001b[1m0s\u001b[0m 26ms/step - accuracy: 0.9998 - loss: 6.5153e-04\n",
            "Epoch 25: val_accuracy improved from 0.99875 to 1.00000, saving model to best_image_model.h5\n"
          ]
        },
        {
          "output_type": "stream",
          "name": "stderr",
          "text": [
            "WARNING:absl:You are saving your model as an HDF5 file via `model.save()` or `keras.saving.save_model(model)`. This file format is considered legacy. We recommend using instead the native Keras format, e.g. `model.save('my_model.keras')` or `keras.saving.save_model(model, 'my_model.keras')`. \n"
          ]
        },
        {
          "output_type": "stream",
          "name": "stdout",
          "text": [
            "\b\b\b\b\b\b\b\b\b\b\b\b\b\b\b\b\b\b\b\b\b\b\b\b\b\b\b\b\b\b\b\b\b\b\b\b\b\b\b\b\b\b\b\b\b\b\b\b\b\b\b\b\b\b\b\b\b\b\b\b\b\b\b\b\b\b\b\b\b\b\b\b\b\b\b\b\b\b\b\r\u001b[1m175/175\u001b[0m \u001b[32m━━━━━━━━━━━━━━━━━━━━\u001b[0m\u001b[37m\u001b[0m \u001b[1m6s\u001b[0m 32ms/step - accuracy: 0.9998 - loss: 6.5035e-04 - val_accuracy: 1.0000 - val_loss: 9.1266e-04 - learning_rate: 2.0000e-04\n",
            "Epoch 26/50\n",
            "\u001b[1m173/175\u001b[0m \u001b[32m━━━━━━━━━━━━━━━━━━━\u001b[0m\u001b[37m━\u001b[0m \u001b[1m0s\u001b[0m 26ms/step - accuracy: 1.0000 - loss: 1.4920e-04\n",
            "Epoch 26: val_accuracy did not improve from 1.00000\n",
            "\u001b[1m175/175\u001b[0m \u001b[32m━━━━━━━━━━━━━━━━━━━━\u001b[0m\u001b[37m\u001b[0m \u001b[1m5s\u001b[0m 30ms/step - accuracy: 1.0000 - loss: 1.5060e-04 - val_accuracy: 1.0000 - val_loss: 8.7439e-04 - learning_rate: 2.0000e-04\n",
            "Epoch 27/50\n",
            "\u001b[1m173/175\u001b[0m \u001b[32m━━━━━━━━━━━━━━━━━━━\u001b[0m\u001b[37m━\u001b[0m \u001b[1m0s\u001b[0m 26ms/step - accuracy: 1.0000 - loss: 1.0154e-04\n",
            "Epoch 27: val_accuracy did not improve from 1.00000\n",
            "\u001b[1m175/175\u001b[0m \u001b[32m━━━━━━━━━━━━━━━━━━━━\u001b[0m\u001b[37m\u001b[0m \u001b[1m5s\u001b[0m 30ms/step - accuracy: 1.0000 - loss: 1.0235e-04 - val_accuracy: 1.0000 - val_loss: 6.5426e-04 - learning_rate: 2.0000e-04\n",
            "Epoch 28/50\n",
            "\u001b[1m173/175\u001b[0m \u001b[32m━━━━━━━━━━━━━━━━━━━\u001b[0m\u001b[37m━\u001b[0m \u001b[1m0s\u001b[0m 26ms/step - accuracy: 1.0000 - loss: 2.8680e-04\n",
            "Epoch 28: val_accuracy did not improve from 1.00000\n",
            "\u001b[1m175/175\u001b[0m \u001b[32m━━━━━━━━━━━━━━━━━━━━\u001b[0m\u001b[37m\u001b[0m \u001b[1m5s\u001b[0m 29ms/step - accuracy: 1.0000 - loss: 2.8563e-04 - val_accuracy: 1.0000 - val_loss: 3.1884e-04 - learning_rate: 2.0000e-04\n",
            "Epoch 29/50\n",
            "\u001b[1m173/175\u001b[0m \u001b[32m━━━━━━━━━━━━━━━━━━━\u001b[0m\u001b[37m━\u001b[0m \u001b[1m0s\u001b[0m 27ms/step - accuracy: 1.0000 - loss: 1.8074e-04\n",
            "Epoch 29: val_accuracy did not improve from 1.00000\n",
            "\u001b[1m175/175\u001b[0m \u001b[32m━━━━━━━━━━━━━━━━━━━━\u001b[0m\u001b[37m\u001b[0m \u001b[1m5s\u001b[0m 30ms/step - accuracy: 1.0000 - loss: 1.8064e-04 - val_accuracy: 1.0000 - val_loss: 2.7240e-04 - learning_rate: 2.0000e-04\n",
            "Epoch 30/50\n",
            "\u001b[1m173/175\u001b[0m \u001b[32m━━━━━━━━━━━━━━━━━━━\u001b[0m\u001b[37m━\u001b[0m \u001b[1m0s\u001b[0m 26ms/step - accuracy: 1.0000 - loss: 1.4035e-04\n",
            "Epoch 30: val_accuracy did not improve from 1.00000\n",
            "\u001b[1m175/175\u001b[0m \u001b[32m━━━━━━━━━━━━━━━━━━━━\u001b[0m\u001b[37m\u001b[0m \u001b[1m5s\u001b[0m 29ms/step - accuracy: 1.0000 - loss: 1.4121e-04 - val_accuracy: 1.0000 - val_loss: 3.1993e-04 - learning_rate: 2.0000e-04\n",
            "Epoch 31/50\n",
            "\u001b[1m173/175\u001b[0m \u001b[32m━━━━━━━━━━━━━━━━━━━\u001b[0m\u001b[37m━\u001b[0m \u001b[1m0s\u001b[0m 26ms/step - accuracy: 1.0000 - loss: 6.3387e-05\n",
            "Epoch 31: val_accuracy did not improve from 1.00000\n",
            "\u001b[1m175/175\u001b[0m \u001b[32m━━━━━━━━━━━━━━━━━━━━\u001b[0m\u001b[37m\u001b[0m \u001b[1m5s\u001b[0m 29ms/step - accuracy: 1.0000 - loss: 6.3796e-05 - val_accuracy: 1.0000 - val_loss: 2.7923e-04 - learning_rate: 2.0000e-04\n",
            "Epoch 32/50\n",
            "\u001b[1m173/175\u001b[0m \u001b[32m━━━━━━━━━━━━━━━━━━━\u001b[0m\u001b[37m━\u001b[0m \u001b[1m0s\u001b[0m 26ms/step - accuracy: 1.0000 - loss: 3.2046e-04\n",
            "Epoch 32: val_accuracy did not improve from 1.00000\n",
            "\u001b[1m175/175\u001b[0m \u001b[32m━━━━━━━━━━━━━━━━━━━━\u001b[0m\u001b[37m\u001b[0m \u001b[1m5s\u001b[0m 30ms/step - accuracy: 1.0000 - loss: 3.1921e-04 - val_accuracy: 1.0000 - val_loss: 1.8941e-04 - learning_rate: 2.0000e-04\n",
            "Epoch 33/50\n",
            "\u001b[1m174/175\u001b[0m \u001b[32m━━━━━━━━━━━━━━━━━━━\u001b[0m\u001b[37m━\u001b[0m \u001b[1m0s\u001b[0m 26ms/step - accuracy: 0.9997 - loss: 0.0016\n",
            "Epoch 33: val_accuracy did not improve from 1.00000\n",
            "\u001b[1m175/175\u001b[0m \u001b[32m━━━━━━━━━━━━━━━━━━━━\u001b[0m\u001b[37m\u001b[0m \u001b[1m5s\u001b[0m 30ms/step - accuracy: 0.9997 - loss: 0.0016 - val_accuracy: 1.0000 - val_loss: 1.0312e-04 - learning_rate: 2.0000e-04\n",
            "Epoch 34/50\n",
            "\u001b[1m173/175\u001b[0m \u001b[32m━━━━━━━━━━━━━━━━━━━\u001b[0m\u001b[37m━\u001b[0m \u001b[1m0s\u001b[0m 27ms/step - accuracy: 1.0000 - loss: 1.6099e-04\n",
            "Epoch 34: val_accuracy did not improve from 1.00000\n",
            "\u001b[1m175/175\u001b[0m \u001b[32m━━━━━━━━━━━━━━━━━━━━\u001b[0m\u001b[37m\u001b[0m \u001b[1m5s\u001b[0m 30ms/step - accuracy: 1.0000 - loss: 1.6077e-04 - val_accuracy: 1.0000 - val_loss: 9.9401e-05 - learning_rate: 2.0000e-04\n",
            "Epoch 35/50\n",
            "\u001b[1m173/175\u001b[0m \u001b[32m━━━━━━━━━━━━━━━━━━━\u001b[0m\u001b[37m━\u001b[0m \u001b[1m0s\u001b[0m 26ms/step - accuracy: 1.0000 - loss: 1.0952e-04\n",
            "Epoch 35: val_accuracy did not improve from 1.00000\n",
            "\u001b[1m175/175\u001b[0m \u001b[32m━━━━━━━━━━━━━━━━━━━━\u001b[0m\u001b[37m\u001b[0m \u001b[1m5s\u001b[0m 29ms/step - accuracy: 1.0000 - loss: 1.0948e-04 - val_accuracy: 1.0000 - val_loss: 8.6958e-05 - learning_rate: 2.0000e-04\n",
            "Epoch 36/50\n",
            "\u001b[1m173/175\u001b[0m \u001b[32m━━━━━━━━━━━━━━━━━━━\u001b[0m\u001b[37m━\u001b[0m \u001b[1m0s\u001b[0m 26ms/step - accuracy: 1.0000 - loss: 3.1511e-05\n",
            "Epoch 36: val_accuracy did not improve from 1.00000\n",
            "\u001b[1m175/175\u001b[0m \u001b[32m━━━━━━━━━━━━━━━━━━━━\u001b[0m\u001b[37m\u001b[0m \u001b[1m5s\u001b[0m 30ms/step - accuracy: 1.0000 - loss: 3.1532e-05 - val_accuracy: 1.0000 - val_loss: 8.5280e-05 - learning_rate: 2.0000e-04\n",
            "Epoch 37/50\n",
            "\u001b[1m174/175\u001b[0m \u001b[32m━━━━━━━━━━━━━━━━━━━\u001b[0m\u001b[37m━\u001b[0m \u001b[1m0s\u001b[0m 26ms/step - accuracy: 1.0000 - loss: 1.7027e-04\n",
            "Epoch 37: val_accuracy did not improve from 1.00000\n",
            "\u001b[1m175/175\u001b[0m \u001b[32m━━━━━━━━━━━━━━━━━━━━\u001b[0m\u001b[37m\u001b[0m \u001b[1m5s\u001b[0m 29ms/step - accuracy: 1.0000 - loss: 1.7709e-04 - val_accuracy: 1.0000 - val_loss: 3.4559e-04 - learning_rate: 2.0000e-04\n",
            "Epoch 38/50\n",
            "\u001b[1m173/175\u001b[0m \u001b[32m━━━━━━━━━━━━━━━━━━━\u001b[0m\u001b[37m━\u001b[0m \u001b[1m0s\u001b[0m 27ms/step - accuracy: 0.9996 - loss: 0.0011\n",
            "Epoch 38: val_accuracy did not improve from 1.00000\n",
            "\u001b[1m175/175\u001b[0m \u001b[32m━━━━━━━━━━━━━━━━━━━━\u001b[0m\u001b[37m\u001b[0m \u001b[1m5s\u001b[0m 30ms/step - accuracy: 0.9996 - loss: 0.0011 - val_accuracy: 1.0000 - val_loss: 2.9388e-04 - learning_rate: 2.0000e-04\n",
            "Epoch 39/50\n",
            "\u001b[1m173/175\u001b[0m \u001b[32m━━━━━━━━━━━━━━━━━━━\u001b[0m\u001b[37m━\u001b[0m \u001b[1m0s\u001b[0m 26ms/step - accuracy: 1.0000 - loss: 7.1357e-05\n",
            "Epoch 39: val_accuracy did not improve from 1.00000\n",
            "\u001b[1m175/175\u001b[0m \u001b[32m━━━━━━━━━━━━━━━━━━━━\u001b[0m\u001b[37m\u001b[0m \u001b[1m5s\u001b[0m 29ms/step - accuracy: 1.0000 - loss: 7.1683e-05 - val_accuracy: 1.0000 - val_loss: 3.0862e-04 - learning_rate: 2.0000e-04\n",
            "Epoch 40/50\n",
            "\u001b[1m173/175\u001b[0m \u001b[32m━━━━━━━━━━━━━━━━━━━\u001b[0m\u001b[37m━\u001b[0m \u001b[1m0s\u001b[0m 26ms/step - accuracy: 1.0000 - loss: 1.0218e-04\n",
            "Epoch 40: val_accuracy did not improve from 1.00000\n",
            "\u001b[1m175/175\u001b[0m \u001b[32m━━━━━━━━━━━━━━━━━━━━\u001b[0m\u001b[37m\u001b[0m \u001b[1m5s\u001b[0m 29ms/step - accuracy: 1.0000 - loss: 1.0250e-04 - val_accuracy: 0.9987 - val_loss: 0.0012 - learning_rate: 2.0000e-04\n",
            "Epoch 41/50\n",
            "\u001b[1m174/175\u001b[0m \u001b[32m━━━━━━━━━━━━━━━━━━━\u001b[0m\u001b[37m━\u001b[0m \u001b[1m0s\u001b[0m 26ms/step - accuracy: 1.0000 - loss: 3.0509e-05\n",
            "Epoch 41: val_accuracy did not improve from 1.00000\n",
            "\u001b[1m175/175\u001b[0m \u001b[32m━━━━━━━━━━━━━━━━━━━━\u001b[0m\u001b[37m\u001b[0m \u001b[1m5s\u001b[0m 29ms/step - accuracy: 1.0000 - loss: 3.0553e-05 - val_accuracy: 1.0000 - val_loss: 0.0011 - learning_rate: 4.0000e-05\n",
            "Epoch 42/50\n",
            "\u001b[1m173/175\u001b[0m \u001b[32m━━━━━━━━━━━━━━━━━━━\u001b[0m\u001b[37m━\u001b[0m \u001b[1m0s\u001b[0m 26ms/step - accuracy: 1.0000 - loss: 7.3048e-05\n",
            "Epoch 42: val_accuracy did not improve from 1.00000\n",
            "\u001b[1m175/175\u001b[0m \u001b[32m━━━━━━━━━━━━━━━━━━━━\u001b[0m\u001b[37m\u001b[0m \u001b[1m5s\u001b[0m 29ms/step - accuracy: 1.0000 - loss: 7.4703e-05 - val_accuracy: 1.0000 - val_loss: 0.0011 - learning_rate: 4.0000e-05\n",
            "Epoch 43/50\n",
            "\u001b[1m173/175\u001b[0m \u001b[32m━━━━━━━━━━━━━━━━━━━\u001b[0m\u001b[37m━\u001b[0m \u001b[1m0s\u001b[0m 26ms/step - accuracy: 0.9997 - loss: 4.6854e-04\n",
            "Epoch 43: val_accuracy did not improve from 1.00000\n",
            "\u001b[1m175/175\u001b[0m \u001b[32m━━━━━━━━━━━━━━━━━━━━\u001b[0m\u001b[37m\u001b[0m \u001b[1m5s\u001b[0m 29ms/step - accuracy: 0.9997 - loss: 4.6564e-04 - val_accuracy: 1.0000 - val_loss: 8.5082e-04 - learning_rate: 4.0000e-05\n",
            "Epoch 44/50\n",
            "\u001b[1m173/175\u001b[0m \u001b[32m━━━━━━━━━━━━━━━━━━━\u001b[0m\u001b[37m━\u001b[0m \u001b[1m0s\u001b[0m 26ms/step - accuracy: 1.0000 - loss: 5.8882e-05\n",
            "Epoch 44: val_accuracy did not improve from 1.00000\n",
            "\u001b[1m175/175\u001b[0m \u001b[32m━━━━━━━━━━━━━━━━━━━━\u001b[0m\u001b[37m\u001b[0m \u001b[1m5s\u001b[0m 29ms/step - accuracy: 1.0000 - loss: 5.8890e-05 - val_accuracy: 1.0000 - val_loss: 7.3445e-04 - learning_rate: 4.0000e-05\n",
            "Epoch 45/50\n",
            "\u001b[1m173/175\u001b[0m \u001b[32m━━━━━━━━━━━━━━━━━━━\u001b[0m\u001b[37m━\u001b[0m \u001b[1m0s\u001b[0m 26ms/step - accuracy: 1.0000 - loss: 3.4424e-05\n",
            "Epoch 45: val_accuracy did not improve from 1.00000\n",
            "\u001b[1m175/175\u001b[0m \u001b[32m━━━━━━━━━━━━━━━━━━━━\u001b[0m\u001b[37m\u001b[0m \u001b[1m5s\u001b[0m 29ms/step - accuracy: 1.0000 - loss: 3.4552e-05 - val_accuracy: 1.0000 - val_loss: 6.4992e-04 - learning_rate: 4.0000e-05\n",
            "Epoch 46/50\n",
            "\u001b[1m173/175\u001b[0m \u001b[32m━━━━━━━━━━━━━━━━━━━\u001b[0m\u001b[37m━\u001b[0m \u001b[1m0s\u001b[0m 26ms/step - accuracy: 1.0000 - loss: 1.9411e-05\n",
            "Epoch 46: val_accuracy did not improve from 1.00000\n",
            "\u001b[1m175/175\u001b[0m \u001b[32m━━━━━━━━━━━━━━━━━━━━\u001b[0m\u001b[37m\u001b[0m \u001b[1m5s\u001b[0m 29ms/step - accuracy: 1.0000 - loss: 1.9584e-05 - val_accuracy: 1.0000 - val_loss: 6.2761e-04 - learning_rate: 8.0000e-06\n",
            "\n",
            "Training model landmark...\n",
            "Epoch 1/50\n",
            "\u001b[1m175/175\u001b[0m \u001b[32m━━━━━━━━━━━━━━━━━━━━\u001b[0m\u001b[37m\u001b[0m \u001b[1m0s\u001b[0m 14ms/step - accuracy: 0.0773 - loss: 3.1658\n",
            "Epoch 1: val_accuracy improved from -inf to 0.33877, saving model to best_landmark_model.h5\n"
          ]
        },
        {
          "output_type": "stream",
          "name": "stderr",
          "text": [
            "WARNING:absl:You are saving your model as an HDF5 file via `model.save()` or `keras.saving.save_model(model)`. This file format is considered legacy. We recommend using instead the native Keras format, e.g. `model.save('my_model.keras')` or `keras.saving.save_model(model, 'my_model.keras')`. \n"
          ]
        },
        {
          "output_type": "stream",
          "name": "stdout",
          "text": [
            "\b\b\b\b\b\b\b\b\b\b\b\b\b\b\b\b\b\b\b\b\b\b\b\b\b\b\b\b\b\b\b\b\b\b\b\b\b\b\b\b\b\b\b\b\b\b\b\b\b\b\b\b\b\b\b\b\b\b\b\b\b\b\b\b\b\b\b\b\b\b\b\b\b\b\b\r\u001b[1m175/175\u001b[0m \u001b[32m━━━━━━━━━━━━━━━━━━━━\u001b[0m\u001b[37m\u001b[0m \u001b[1m11s\u001b[0m 42ms/step - accuracy: 0.0777 - loss: 3.1647 - val_accuracy: 0.3388 - val_loss: 2.3271 - learning_rate: 0.0010\n",
            "Epoch 2/50\n",
            "\u001b[1m169/175\u001b[0m \u001b[32m━━━━━━━━━━━━━━━━━━━\u001b[0m\u001b[37m━\u001b[0m \u001b[1m0s\u001b[0m 2ms/step - accuracy: 0.3009 - loss: 2.3069\n",
            "Epoch 2: val_accuracy improved from 0.33877 to 0.51066, saving model to best_landmark_model.h5\n"
          ]
        },
        {
          "output_type": "stream",
          "name": "stderr",
          "text": [
            "WARNING:absl:You are saving your model as an HDF5 file via `model.save()` or `keras.saving.save_model(model)`. This file format is considered legacy. We recommend using instead the native Keras format, e.g. `model.save('my_model.keras')` or `keras.saving.save_model(model, 'my_model.keras')`. \n"
          ]
        },
        {
          "output_type": "stream",
          "name": "stdout",
          "text": [
            "\b\b\b\b\b\b\b\b\b\b\b\b\b\b\b\b\b\b\b\b\b\b\b\b\b\b\b\b\b\b\b\b\b\b\b\b\b\b\b\b\b\b\b\b\b\b\b\b\b\b\b\b\b\b\b\b\b\b\b\b\b\b\b\b\b\b\b\b\b\b\b\b\b\b\r\u001b[1m175/175\u001b[0m \u001b[32m━━━━━━━━━━━━━━━━━━━━\u001b[0m\u001b[37m\u001b[0m \u001b[1m1s\u001b[0m 3ms/step - accuracy: 0.3025 - loss: 2.3008 - val_accuracy: 0.5107 - val_loss: 1.7171 - learning_rate: 0.0010\n",
            "Epoch 3/50\n",
            "\u001b[1m167/175\u001b[0m \u001b[32m━━━━━━━━━━━━━━━━━━━\u001b[0m\u001b[37m━\u001b[0m \u001b[1m0s\u001b[0m 2ms/step - accuracy: 0.4188 - loss: 1.8159\n",
            "Epoch 3: val_accuracy improved from 0.51066 to 0.60853, saving model to best_landmark_model.h5\n"
          ]
        },
        {
          "output_type": "stream",
          "name": "stderr",
          "text": [
            "WARNING:absl:You are saving your model as an HDF5 file via `model.save()` or `keras.saving.save_model(model)`. This file format is considered legacy. We recommend using instead the native Keras format, e.g. `model.save('my_model.keras')` or `keras.saving.save_model(model, 'my_model.keras')`. \n"
          ]
        },
        {
          "output_type": "stream",
          "name": "stdout",
          "text": [
            "\b\b\b\b\b\b\b\b\b\b\b\b\b\b\b\b\b\b\b\b\b\b\b\b\b\b\b\b\b\b\b\b\b\b\b\b\b\b\b\b\b\b\b\b\b\b\b\b\b\b\b\b\b\b\b\b\b\b\b\b\b\b\b\b\b\b\b\b\b\b\b\b\b\b\r\u001b[1m175/175\u001b[0m \u001b[32m━━━━━━━━━━━━━━━━━━━━\u001b[0m\u001b[37m\u001b[0m \u001b[1m1s\u001b[0m 3ms/step - accuracy: 0.4203 - loss: 1.8123 - val_accuracy: 0.6085 - val_loss: 1.3786 - learning_rate: 0.0010\n",
            "Epoch 4/50\n",
            "\u001b[1m167/175\u001b[0m \u001b[32m━━━━━━━━━━━━━━━━━━━\u001b[0m\u001b[37m━\u001b[0m \u001b[1m0s\u001b[0m 2ms/step - accuracy: 0.5125 - loss: 1.5335\n",
            "Epoch 4: val_accuracy improved from 0.60853 to 0.67629, saving model to best_landmark_model.h5\n"
          ]
        },
        {
          "output_type": "stream",
          "name": "stderr",
          "text": [
            "WARNING:absl:You are saving your model as an HDF5 file via `model.save()` or `keras.saving.save_model(model)`. This file format is considered legacy. We recommend using instead the native Keras format, e.g. `model.save('my_model.keras')` or `keras.saving.save_model(model, 'my_model.keras')`. \n"
          ]
        },
        {
          "output_type": "stream",
          "name": "stdout",
          "text": [
            "\b\b\b\b\b\b\b\b\b\b\b\b\b\b\b\b\b\b\b\b\b\b\b\b\b\b\b\b\b\b\b\b\b\b\b\b\b\b\b\b\b\b\b\b\b\b\b\b\b\b\b\b\b\b\b\b\b\b\b\b\b\b\b\b\b\b\b\b\b\b\b\b\b\b\r\u001b[1m175/175\u001b[0m \u001b[32m━━━━━━━━━━━━━━━━━━━━\u001b[0m\u001b[37m\u001b[0m \u001b[1m1s\u001b[0m 3ms/step - accuracy: 0.5129 - loss: 1.5319 - val_accuracy: 0.6763 - val_loss: 1.1568 - learning_rate: 0.0010\n",
            "Epoch 5/50\n",
            "\u001b[1m167/175\u001b[0m \u001b[32m━━━━━━━━━━━━━━━━━━━\u001b[0m\u001b[37m━\u001b[0m \u001b[1m0s\u001b[0m 2ms/step - accuracy: 0.5713 - loss: 1.3792\n",
            "Epoch 5: val_accuracy improved from 0.67629 to 0.70263, saving model to best_landmark_model.h5\n"
          ]
        },
        {
          "output_type": "stream",
          "name": "stderr",
          "text": [
            "WARNING:absl:You are saving your model as an HDF5 file via `model.save()` or `keras.saving.save_model(model)`. This file format is considered legacy. We recommend using instead the native Keras format, e.g. `model.save('my_model.keras')` or `keras.saving.save_model(model, 'my_model.keras')`. \n"
          ]
        },
        {
          "output_type": "stream",
          "name": "stdout",
          "text": [
            "\b\b\b\b\b\b\b\b\b\b\b\b\b\b\b\b\b\b\b\b\b\b\b\b\b\b\b\b\b\b\b\b\b\b\b\b\b\b\b\b\b\b\b\b\b\b\b\b\b\b\b\b\b\b\b\b\b\b\b\b\b\b\b\b\b\b\b\b\b\b\b\b\b\b\r\u001b[1m175/175\u001b[0m \u001b[32m━━━━━━━━━━━━━━━━━━━━\u001b[0m\u001b[37m\u001b[0m \u001b[1m1s\u001b[0m 3ms/step - accuracy: 0.5714 - loss: 1.3779 - val_accuracy: 0.7026 - val_loss: 1.0092 - learning_rate: 0.0010\n",
            "Epoch 6/50\n",
            "\u001b[1m165/175\u001b[0m \u001b[32m━━━━━━━━━━━━━━━━━━\u001b[0m\u001b[37m━━\u001b[0m \u001b[1m0s\u001b[0m 2ms/step - accuracy: 0.6069 - loss: 1.2523\n",
            "Epoch 6: val_accuracy improved from 0.70263 to 0.74529, saving model to best_landmark_model.h5\n"
          ]
        },
        {
          "output_type": "stream",
          "name": "stderr",
          "text": [
            "WARNING:absl:You are saving your model as an HDF5 file via `model.save()` or `keras.saving.save_model(model)`. This file format is considered legacy. We recommend using instead the native Keras format, e.g. `model.save('my_model.keras')` or `keras.saving.save_model(model, 'my_model.keras')`. \n"
          ]
        },
        {
          "output_type": "stream",
          "name": "stdout",
          "text": [
            "\b\b\b\b\b\b\b\b\b\b\b\b\b\b\b\b\b\b\b\b\b\b\b\b\b\b\b\b\b\b\b\b\b\b\b\b\b\b\b\b\b\b\b\b\b\b\b\b\b\b\b\b\b\b\b\b\b\b\b\b\b\b\b\b\b\b\b\b\b\b\b\b\b\b\r\u001b[1m175/175\u001b[0m \u001b[32m━━━━━━━━━━━━━━━━━━━━\u001b[0m\u001b[37m\u001b[0m \u001b[1m1s\u001b[0m 3ms/step - accuracy: 0.6069 - loss: 1.2514 - val_accuracy: 0.7453 - val_loss: 0.8906 - learning_rate: 0.0010\n",
            "Epoch 7/50\n",
            "\u001b[1m158/175\u001b[0m \u001b[32m━━━━━━━━━━━━━━━━━━\u001b[0m\u001b[37m━━\u001b[0m \u001b[1m0s\u001b[0m 2ms/step - accuracy: 0.6324 - loss: 1.1650\n",
            "Epoch 7: val_accuracy did not improve from 0.74529\n",
            "\u001b[1m175/175\u001b[0m \u001b[32m━━━━━━━━━━━━━━━━━━━━\u001b[0m\u001b[37m\u001b[0m \u001b[1m1s\u001b[0m 3ms/step - accuracy: 0.6326 - loss: 1.1635 - val_accuracy: 0.7378 - val_loss: 0.8846 - learning_rate: 0.0010\n",
            "Epoch 8/50\n",
            "\u001b[1m160/175\u001b[0m \u001b[32m━━━━━━━━━━━━━━━━━━\u001b[0m\u001b[37m━━\u001b[0m \u001b[1m0s\u001b[0m 2ms/step - accuracy: 0.6502 - loss: 1.0868\n",
            "Epoch 8: val_accuracy improved from 0.74529 to 0.78670, saving model to best_landmark_model.h5\n"
          ]
        },
        {
          "output_type": "stream",
          "name": "stderr",
          "text": [
            "WARNING:absl:You are saving your model as an HDF5 file via `model.save()` or `keras.saving.save_model(model)`. This file format is considered legacy. We recommend using instead the native Keras format, e.g. `model.save('my_model.keras')` or `keras.saving.save_model(model, 'my_model.keras')`. \n"
          ]
        },
        {
          "output_type": "stream",
          "name": "stdout",
          "text": [
            "\b\b\b\b\b\b\b\b\b\b\b\b\b\b\b\b\b\b\b\b\b\b\b\b\b\b\b\b\b\b\b\b\b\b\b\b\b\b\b\b\b\b\b\b\b\b\b\b\b\b\b\b\b\b\b\b\b\b\b\b\b\b\b\b\b\b\b\b\b\b\b\b\b\b\r\u001b[1m175/175\u001b[0m \u001b[32m━━━━━━━━━━━━━━━━━━━━\u001b[0m\u001b[37m\u001b[0m \u001b[1m1s\u001b[0m 3ms/step - accuracy: 0.6512 - loss: 1.0858 - val_accuracy: 0.7867 - val_loss: 0.7832 - learning_rate: 0.0010\n",
            "Epoch 9/50\n",
            "\u001b[1m160/175\u001b[0m \u001b[32m━━━━━━━━━━━━━━━━━━\u001b[0m\u001b[37m━━\u001b[0m \u001b[1m0s\u001b[0m 2ms/step - accuracy: 0.6752 - loss: 1.0530\n",
            "Epoch 9: val_accuracy did not improve from 0.78670\n",
            "\u001b[1m175/175\u001b[0m \u001b[32m━━━━━━━━━━━━━━━━━━━━\u001b[0m\u001b[37m\u001b[0m \u001b[1m1s\u001b[0m 3ms/step - accuracy: 0.6758 - loss: 1.0504 - val_accuracy: 0.7842 - val_loss: 0.7406 - learning_rate: 0.0010\n",
            "Epoch 10/50\n",
            "\u001b[1m164/175\u001b[0m \u001b[32m━━━━━━━━━━━━━━━━━━\u001b[0m\u001b[37m━━\u001b[0m \u001b[1m0s\u001b[0m 2ms/step - accuracy: 0.6939 - loss: 0.9622\n",
            "Epoch 10: val_accuracy improved from 0.78670 to 0.80301, saving model to best_landmark_model.h5\n"
          ]
        },
        {
          "output_type": "stream",
          "name": "stderr",
          "text": [
            "WARNING:absl:You are saving your model as an HDF5 file via `model.save()` or `keras.saving.save_model(model)`. This file format is considered legacy. We recommend using instead the native Keras format, e.g. `model.save('my_model.keras')` or `keras.saving.save_model(model, 'my_model.keras')`. \n"
          ]
        },
        {
          "output_type": "stream",
          "name": "stdout",
          "text": [
            "\b\b\b\b\b\b\b\b\b\b\b\b\b\b\b\b\b\b\b\b\b\b\b\b\b\b\b\b\b\b\b\b\b\b\b\b\b\b\b\b\b\b\b\b\b\b\b\b\b\b\b\b\b\b\b\b\b\b\b\b\b\b\b\b\b\b\b\b\b\b\b\b\b\b\r\u001b[1m175/175\u001b[0m \u001b[32m━━━━━━━━━━━━━━━━━━━━\u001b[0m\u001b[37m\u001b[0m \u001b[1m1s\u001b[0m 3ms/step - accuracy: 0.6944 - loss: 0.9621 - val_accuracy: 0.8030 - val_loss: 0.6860 - learning_rate: 0.0010\n",
            "Epoch 11/50\n",
            "\u001b[1m167/175\u001b[0m \u001b[32m━━━━━━━━━━━━━━━━━━━\u001b[0m\u001b[37m━\u001b[0m \u001b[1m0s\u001b[0m 2ms/step - accuracy: 0.7196 - loss: 0.9008\n",
            "Epoch 11: val_accuracy did not improve from 0.80301\n",
            "\u001b[1m175/175\u001b[0m \u001b[32m━━━━━━━━━━━━━━━━━━━━\u001b[0m\u001b[37m\u001b[0m \u001b[1m1s\u001b[0m 3ms/step - accuracy: 0.7196 - loss: 0.9002 - val_accuracy: 0.8018 - val_loss: 0.6899 - learning_rate: 0.0010\n",
            "Epoch 12/50\n",
            "\u001b[1m165/175\u001b[0m \u001b[32m━━━━━━━━━━━━━━━━━━\u001b[0m\u001b[37m━━\u001b[0m \u001b[1m0s\u001b[0m 2ms/step - accuracy: 0.7119 - loss: 0.9004\n",
            "Epoch 12: val_accuracy improved from 0.80301 to 0.80928, saving model to best_landmark_model.h5\n"
          ]
        },
        {
          "output_type": "stream",
          "name": "stderr",
          "text": [
            "WARNING:absl:You are saving your model as an HDF5 file via `model.save()` or `keras.saving.save_model(model)`. This file format is considered legacy. We recommend using instead the native Keras format, e.g. `model.save('my_model.keras')` or `keras.saving.save_model(model, 'my_model.keras')`. \n"
          ]
        },
        {
          "output_type": "stream",
          "name": "stdout",
          "text": [
            "\b\b\b\b\b\b\b\b\b\b\b\b\b\b\b\b\b\b\b\b\b\b\b\b\b\b\b\b\b\b\b\b\b\b\b\b\b\b\b\b\b\b\b\b\b\b\b\b\b\b\b\b\b\b\b\b\b\b\b\b\b\b\b\b\b\b\b\b\b\b\b\b\b\b\r\u001b[1m175/175\u001b[0m \u001b[32m━━━━━━━━━━━━━━━━━━━━\u001b[0m\u001b[37m\u001b[0m \u001b[1m1s\u001b[0m 3ms/step - accuracy: 0.7126 - loss: 0.8992 - val_accuracy: 0.8093 - val_loss: 0.6495 - learning_rate: 0.0010\n",
            "Epoch 13/50\n",
            "\u001b[1m169/175\u001b[0m \u001b[32m━━━━━━━━━━━━━━━━━━━\u001b[0m\u001b[37m━\u001b[0m \u001b[1m0s\u001b[0m 2ms/step - accuracy: 0.7490 - loss: 0.8256\n",
            "Epoch 13: val_accuracy did not improve from 0.80928\n",
            "\u001b[1m175/175\u001b[0m \u001b[32m━━━━━━━━━━━━━━━━━━━━\u001b[0m\u001b[37m\u001b[0m \u001b[1m1s\u001b[0m 3ms/step - accuracy: 0.7488 - loss: 0.8257 - val_accuracy: 0.7967 - val_loss: 0.6738 - learning_rate: 0.0010\n",
            "Epoch 14/50\n",
            "\u001b[1m164/175\u001b[0m \u001b[32m━━━━━━━━━━━━━━━━━━\u001b[0m\u001b[37m━━\u001b[0m \u001b[1m0s\u001b[0m 2ms/step - accuracy: 0.7352 - loss: 0.8188\n",
            "Epoch 14: val_accuracy improved from 0.80928 to 0.82183, saving model to best_landmark_model.h5\n"
          ]
        },
        {
          "output_type": "stream",
          "name": "stderr",
          "text": [
            "WARNING:absl:You are saving your model as an HDF5 file via `model.save()` or `keras.saving.save_model(model)`. This file format is considered legacy. We recommend using instead the native Keras format, e.g. `model.save('my_model.keras')` or `keras.saving.save_model(model, 'my_model.keras')`. \n"
          ]
        },
        {
          "output_type": "stream",
          "name": "stdout",
          "text": [
            "\b\b\b\b\b\b\b\b\b\b\b\b\b\b\b\b\b\b\b\b\b\b\b\b\b\b\b\b\b\b\b\b\b\b\b\b\b\b\b\b\b\b\b\b\b\b\b\b\b\b\b\b\b\b\b\b\b\b\b\b\b\b\b\b\b\b\b\b\b\b\b\b\b\b\r\u001b[1m175/175\u001b[0m \u001b[32m━━━━━━━━━━━━━━━━━━━━\u001b[0m\u001b[37m\u001b[0m \u001b[1m1s\u001b[0m 3ms/step - accuracy: 0.7358 - loss: 0.8182 - val_accuracy: 0.8218 - val_loss: 0.6130 - learning_rate: 0.0010\n",
            "Epoch 15/50\n",
            "\u001b[1m169/175\u001b[0m \u001b[32m━━━━━━━━━━━━━━━━━━━\u001b[0m\u001b[37m━\u001b[0m \u001b[1m0s\u001b[0m 2ms/step - accuracy: 0.7656 - loss: 0.7700\n",
            "Epoch 15: val_accuracy improved from 0.82183 to 0.83312, saving model to best_landmark_model.h5\n"
          ]
        },
        {
          "output_type": "stream",
          "name": "stderr",
          "text": [
            "WARNING:absl:You are saving your model as an HDF5 file via `model.save()` or `keras.saving.save_model(model)`. This file format is considered legacy. We recommend using instead the native Keras format, e.g. `model.save('my_model.keras')` or `keras.saving.save_model(model, 'my_model.keras')`. \n"
          ]
        },
        {
          "output_type": "stream",
          "name": "stdout",
          "text": [
            "\b\b\b\b\b\b\b\b\b\b\b\b\b\b\b\b\b\b\b\b\b\b\b\b\b\b\b\b\b\b\b\b\b\b\b\b\b\b\b\b\b\b\b\b\b\b\b\b\b\b\b\b\b\b\b\b\b\b\b\b\b\b\b\b\b\b\b\b\b\b\b\b\b\b\r\u001b[1m175/175\u001b[0m \u001b[32m━━━━━━━━━━━━━━━━━━━━\u001b[0m\u001b[37m\u001b[0m \u001b[1m1s\u001b[0m 3ms/step - accuracy: 0.7654 - loss: 0.7705 - val_accuracy: 0.8331 - val_loss: 0.5869 - learning_rate: 0.0010\n",
            "Epoch 16/50\n",
            "\u001b[1m168/175\u001b[0m \u001b[32m━━━━━━━━━━━━━━━━━━━\u001b[0m\u001b[37m━\u001b[0m \u001b[1m0s\u001b[0m 2ms/step - accuracy: 0.7775 - loss: 0.7286\n",
            "Epoch 16: val_accuracy improved from 0.83312 to 0.83940, saving model to best_landmark_model.h5\n"
          ]
        },
        {
          "output_type": "stream",
          "name": "stderr",
          "text": [
            "WARNING:absl:You are saving your model as an HDF5 file via `model.save()` or `keras.saving.save_model(model)`. This file format is considered legacy. We recommend using instead the native Keras format, e.g. `model.save('my_model.keras')` or `keras.saving.save_model(model, 'my_model.keras')`. \n"
          ]
        },
        {
          "output_type": "stream",
          "name": "stdout",
          "text": [
            "\b\b\b\b\b\b\b\b\b\b\b\b\b\b\b\b\b\b\b\b\b\b\b\b\b\b\b\b\b\b\b\b\b\b\b\b\b\b\b\b\b\b\b\b\b\b\b\b\b\b\b\b\b\b\b\b\b\b\b\b\b\b\b\b\b\b\b\b\b\b\b\b\b\b\r\u001b[1m175/175\u001b[0m \u001b[32m━━━━━━━━━━━━━━━━━━━━\u001b[0m\u001b[37m\u001b[0m \u001b[1m1s\u001b[0m 3ms/step - accuracy: 0.7771 - loss: 0.7302 - val_accuracy: 0.8394 - val_loss: 0.5930 - learning_rate: 0.0010\n",
            "Epoch 17/50\n",
            "\u001b[1m169/175\u001b[0m \u001b[32m━━━━━━━━━━━━━━━━━━━\u001b[0m\u001b[37m━\u001b[0m \u001b[1m0s\u001b[0m 2ms/step - accuracy: 0.7598 - loss: 0.7634\n",
            "Epoch 17: val_accuracy improved from 0.83940 to 0.84944, saving model to best_landmark_model.h5\n"
          ]
        },
        {
          "output_type": "stream",
          "name": "stderr",
          "text": [
            "WARNING:absl:You are saving your model as an HDF5 file via `model.save()` or `keras.saving.save_model(model)`. This file format is considered legacy. We recommend using instead the native Keras format, e.g. `model.save('my_model.keras')` or `keras.saving.save_model(model, 'my_model.keras')`. \n"
          ]
        },
        {
          "output_type": "stream",
          "name": "stdout",
          "text": [
            "\b\b\b\b\b\b\b\b\b\b\b\b\b\b\b\b\b\b\b\b\b\b\b\b\b\b\b\b\b\b\b\b\b\b\b\b\b\b\b\b\b\b\b\b\b\b\b\b\b\b\b\b\b\b\b\b\b\b\b\b\b\b\b\b\b\b\b\b\b\b\b\b\b\b\r\u001b[1m175/175\u001b[0m \u001b[32m━━━━━━━━━━━━━━━━━━━━\u001b[0m\u001b[37m\u001b[0m \u001b[1m1s\u001b[0m 3ms/step - accuracy: 0.7602 - loss: 0.7625 - val_accuracy: 0.8494 - val_loss: 0.5494 - learning_rate: 0.0010\n",
            "Epoch 18/50\n",
            "\u001b[1m167/175\u001b[0m \u001b[32m━━━━━━━━━━━━━━━━━━━\u001b[0m\u001b[37m━\u001b[0m \u001b[1m0s\u001b[0m 2ms/step - accuracy: 0.7846 - loss: 0.7148\n",
            "Epoch 18: val_accuracy did not improve from 0.84944\n",
            "\u001b[1m175/175\u001b[0m \u001b[32m━━━━━━━━━━━━━━━━━━━━\u001b[0m\u001b[37m\u001b[0m \u001b[1m1s\u001b[0m 3ms/step - accuracy: 0.7842 - loss: 0.7148 - val_accuracy: 0.8281 - val_loss: 0.5522 - learning_rate: 0.0010\n",
            "Epoch 19/50\n",
            "\u001b[1m162/175\u001b[0m \u001b[32m━━━━━━━━━━━━━━━━━━\u001b[0m\u001b[37m━━\u001b[0m \u001b[1m0s\u001b[0m 2ms/step - accuracy: 0.7822 - loss: 0.6954\n",
            "Epoch 19: val_accuracy did not improve from 0.84944\n",
            "\u001b[1m175/175\u001b[0m \u001b[32m━━━━━━━━━━━━━━━━━━━━\u001b[0m\u001b[37m\u001b[0m \u001b[1m1s\u001b[0m 3ms/step - accuracy: 0.7823 - loss: 0.6955 - val_accuracy: 0.8469 - val_loss: 0.5021 - learning_rate: 0.0010\n",
            "Epoch 20/50\n",
            "\u001b[1m171/175\u001b[0m \u001b[32m━━━━━━━━━━━━━━━━━━━\u001b[0m\u001b[37m━\u001b[0m \u001b[1m0s\u001b[0m 2ms/step - accuracy: 0.7946 - loss: 0.6737\n",
            "Epoch 20: val_accuracy improved from 0.84944 to 0.85445, saving model to best_landmark_model.h5\n"
          ]
        },
        {
          "output_type": "stream",
          "name": "stderr",
          "text": [
            "WARNING:absl:You are saving your model as an HDF5 file via `model.save()` or `keras.saving.save_model(model)`. This file format is considered legacy. We recommend using instead the native Keras format, e.g. `model.save('my_model.keras')` or `keras.saving.save_model(model, 'my_model.keras')`. \n"
          ]
        },
        {
          "output_type": "stream",
          "name": "stdout",
          "text": [
            "\b\b\b\b\b\b\b\b\b\b\b\b\b\b\b\b\b\b\b\b\b\b\b\b\b\b\b\b\b\b\b\b\b\b\b\b\b\b\b\b\b\b\b\b\b\b\b\b\b\b\b\b\b\b\b\b\b\b\b\b\b\b\b\b\b\b\b\b\b\b\b\b\b\b\r\u001b[1m175/175\u001b[0m \u001b[32m━━━━━━━━━━━━━━━━━━━━\u001b[0m\u001b[37m\u001b[0m \u001b[1m1s\u001b[0m 3ms/step - accuracy: 0.7945 - loss: 0.6739 - val_accuracy: 0.8545 - val_loss: 0.5050 - learning_rate: 0.0010\n",
            "Epoch 21/50\n",
            "\u001b[1m169/175\u001b[0m \u001b[32m━━━━━━━━━━━━━━━━━━━\u001b[0m\u001b[37m━\u001b[0m \u001b[1m0s\u001b[0m 2ms/step - accuracy: 0.8009 - loss: 0.6415\n",
            "Epoch 21: val_accuracy improved from 0.85445 to 0.85947, saving model to best_landmark_model.h5\n"
          ]
        },
        {
          "output_type": "stream",
          "name": "stderr",
          "text": [
            "WARNING:absl:You are saving your model as an HDF5 file via `model.save()` or `keras.saving.save_model(model)`. This file format is considered legacy. We recommend using instead the native Keras format, e.g. `model.save('my_model.keras')` or `keras.saving.save_model(model, 'my_model.keras')`. \n"
          ]
        },
        {
          "output_type": "stream",
          "name": "stdout",
          "text": [
            "\b\b\b\b\b\b\b\b\b\b\b\b\b\b\b\b\b\b\b\b\b\b\b\b\b\b\b\b\b\b\b\b\b\b\b\b\b\b\b\b\b\b\b\b\b\b\b\b\b\b\b\b\b\b\b\b\b\b\b\b\b\b\b\b\b\b\b\b\b\b\b\b\b\b\r\u001b[1m175/175\u001b[0m \u001b[32m━━━━━━━━━━━━━━━━━━━━\u001b[0m\u001b[37m\u001b[0m \u001b[1m1s\u001b[0m 3ms/step - accuracy: 0.8007 - loss: 0.6419 - val_accuracy: 0.8595 - val_loss: 0.4876 - learning_rate: 0.0010\n",
            "Epoch 22/50\n",
            "\u001b[1m165/175\u001b[0m \u001b[32m━━━━━━━━━━━━━━━━━━\u001b[0m\u001b[37m━━\u001b[0m \u001b[1m0s\u001b[0m 2ms/step - accuracy: 0.7960 - loss: 0.6565\n",
            "Epoch 22: val_accuracy did not improve from 0.85947\n",
            "\u001b[1m175/175\u001b[0m \u001b[32m━━━━━━━━━━━━━━━━━━━━\u001b[0m\u001b[37m\u001b[0m \u001b[1m1s\u001b[0m 3ms/step - accuracy: 0.7960 - loss: 0.6566 - val_accuracy: 0.8532 - val_loss: 0.5024 - learning_rate: 0.0010\n",
            "Epoch 23/50\n",
            "\u001b[1m167/175\u001b[0m \u001b[32m━━━━━━━━━━━━━━━━━━━\u001b[0m\u001b[37m━\u001b[0m \u001b[1m0s\u001b[0m 2ms/step - accuracy: 0.7927 - loss: 0.6477\n",
            "Epoch 23: val_accuracy did not improve from 0.85947\n",
            "\u001b[1m175/175\u001b[0m \u001b[32m━━━━━━━━━━━━━━━━━━━━\u001b[0m\u001b[37m\u001b[0m \u001b[1m1s\u001b[0m 3ms/step - accuracy: 0.7931 - loss: 0.6477 - val_accuracy: 0.8557 - val_loss: 0.4987 - learning_rate: 0.0010\n",
            "Epoch 24/50\n",
            "\u001b[1m165/175\u001b[0m \u001b[32m━━━━━━━━━━━━━━━━━━\u001b[0m\u001b[37m━━\u001b[0m \u001b[1m0s\u001b[0m 2ms/step - accuracy: 0.7915 - loss: 0.6362\n",
            "Epoch 24: val_accuracy improved from 0.85947 to 0.87327, saving model to best_landmark_model.h5\n"
          ]
        },
        {
          "output_type": "stream",
          "name": "stderr",
          "text": [
            "WARNING:absl:You are saving your model as an HDF5 file via `model.save()` or `keras.saving.save_model(model)`. This file format is considered legacy. We recommend using instead the native Keras format, e.g. `model.save('my_model.keras')` or `keras.saving.save_model(model, 'my_model.keras')`. \n"
          ]
        },
        {
          "output_type": "stream",
          "name": "stdout",
          "text": [
            "\b\b\b\b\b\b\b\b\b\b\b\b\b\b\b\b\b\b\b\b\b\b\b\b\b\b\b\b\b\b\b\b\b\b\b\b\b\b\b\b\b\b\b\b\b\b\b\b\b\b\b\b\b\b\b\b\b\b\b\b\b\b\b\b\b\b\b\b\b\b\b\b\b\b\r\u001b[1m175/175\u001b[0m \u001b[32m━━━━━━━━━━━━━━━━━━━━\u001b[0m\u001b[37m\u001b[0m \u001b[1m1s\u001b[0m 3ms/step - accuracy: 0.7921 - loss: 0.6353 - val_accuracy: 0.8733 - val_loss: 0.4460 - learning_rate: 0.0010\n",
            "Epoch 25/50\n",
            "\u001b[1m169/175\u001b[0m \u001b[32m━━━━━━━━━━━━━━━━━━━\u001b[0m\u001b[37m━\u001b[0m \u001b[1m0s\u001b[0m 2ms/step - accuracy: 0.8060 - loss: 0.6170\n",
            "Epoch 25: val_accuracy did not improve from 0.87327\n",
            "\u001b[1m175/175\u001b[0m \u001b[32m━━━━━━━━━━━━━━━━━━━━\u001b[0m\u001b[37m\u001b[0m \u001b[1m1s\u001b[0m 3ms/step - accuracy: 0.8060 - loss: 0.6172 - val_accuracy: 0.8582 - val_loss: 0.4549 - learning_rate: 0.0010\n",
            "Epoch 26/50\n",
            "\u001b[1m164/175\u001b[0m \u001b[32m━━━━━━━━━━━━━━━━━━\u001b[0m\u001b[37m━━\u001b[0m \u001b[1m0s\u001b[0m 2ms/step - accuracy: 0.8153 - loss: 0.6059\n",
            "Epoch 26: val_accuracy did not improve from 0.87327\n",
            "\u001b[1m175/175\u001b[0m \u001b[32m━━━━━━━━━━━━━━━━━━━━\u001b[0m\u001b[37m\u001b[0m \u001b[1m1s\u001b[0m 3ms/step - accuracy: 0.8154 - loss: 0.6059 - val_accuracy: 0.8695 - val_loss: 0.4374 - learning_rate: 0.0010\n",
            "Epoch 27/50\n",
            "\u001b[1m168/175\u001b[0m \u001b[32m━━━━━━━━━━━━━━━━━━━\u001b[0m\u001b[37m━\u001b[0m \u001b[1m0s\u001b[0m 2ms/step - accuracy: 0.8084 - loss: 0.6049\n",
            "Epoch 27: val_accuracy did not improve from 0.87327\n",
            "\u001b[1m175/175\u001b[0m \u001b[32m━━━━━━━━━━━━━━━━━━━━\u001b[0m\u001b[37m\u001b[0m \u001b[1m1s\u001b[0m 3ms/step - accuracy: 0.8083 - loss: 0.6050 - val_accuracy: 0.8632 - val_loss: 0.4720 - learning_rate: 0.0010\n",
            "Epoch 28/50\n",
            "\u001b[1m162/175\u001b[0m \u001b[32m━━━━━━━━━━━━━━━━━━\u001b[0m\u001b[37m━━\u001b[0m \u001b[1m0s\u001b[0m 2ms/step - accuracy: 0.8242 - loss: 0.5789\n",
            "Epoch 28: val_accuracy did not improve from 0.87327\n",
            "\u001b[1m175/175\u001b[0m \u001b[32m━━━━━━━━━━━━━━━━━━━━\u001b[0m\u001b[37m\u001b[0m \u001b[1m1s\u001b[0m 3ms/step - accuracy: 0.8236 - loss: 0.5797 - val_accuracy: 0.8620 - val_loss: 0.4435 - learning_rate: 0.0010\n",
            "Epoch 29/50\n",
            "\u001b[1m166/175\u001b[0m \u001b[32m━━━━━━━━━━━━━━━━━━\u001b[0m\u001b[37m━━\u001b[0m \u001b[1m0s\u001b[0m 2ms/step - accuracy: 0.8328 - loss: 0.5521\n",
            "Epoch 29: val_accuracy did not improve from 0.87327\n",
            "\u001b[1m175/175\u001b[0m \u001b[32m━━━━━━━━━━━━━━━━━━━━\u001b[0m\u001b[37m\u001b[0m \u001b[1m1s\u001b[0m 3ms/step - accuracy: 0.8327 - loss: 0.5524 - val_accuracy: 0.8733 - val_loss: 0.4339 - learning_rate: 0.0010\n",
            "Epoch 30/50\n",
            "\u001b[1m157/175\u001b[0m \u001b[32m━━━━━━━━━━━━━━━━━\u001b[0m\u001b[37m━━━\u001b[0m \u001b[1m0s\u001b[0m 2ms/step - accuracy: 0.8321 - loss: 0.5545\n",
            "Epoch 30: val_accuracy did not improve from 0.87327\n",
            "\u001b[1m175/175\u001b[0m \u001b[32m━━━━━━━━━━━━━━━━━━━━\u001b[0m\u001b[37m\u001b[0m \u001b[1m1s\u001b[0m 3ms/step - accuracy: 0.8322 - loss: 0.5538 - val_accuracy: 0.8695 - val_loss: 0.4167 - learning_rate: 0.0010\n",
            "Epoch 31/50\n",
            "\u001b[1m164/175\u001b[0m \u001b[32m━━━━━━━━━━━━━━━━━━\u001b[0m\u001b[37m━━\u001b[0m \u001b[1m0s\u001b[0m 2ms/step - accuracy: 0.8311 - loss: 0.5500\n",
            "Epoch 31: val_accuracy improved from 0.87327 to 0.87578, saving model to best_landmark_model.h5\n"
          ]
        },
        {
          "output_type": "stream",
          "name": "stderr",
          "text": [
            "WARNING:absl:You are saving your model as an HDF5 file via `model.save()` or `keras.saving.save_model(model)`. This file format is considered legacy. We recommend using instead the native Keras format, e.g. `model.save('my_model.keras')` or `keras.saving.save_model(model, 'my_model.keras')`. \n"
          ]
        },
        {
          "output_type": "stream",
          "name": "stdout",
          "text": [
            "\b\b\b\b\b\b\b\b\b\b\b\b\b\b\b\b\b\b\b\b\b\b\b\b\b\b\b\b\b\b\b\b\b\b\b\b\b\b\b\b\b\b\b\b\b\b\b\b\b\b\b\b\b\b\b\b\b\b\b\b\b\b\b\b\b\b\b\b\b\b\b\b\b\b\r\u001b[1m175/175\u001b[0m \u001b[32m━━━━━━━━━━━━━━━━━━━━\u001b[0m\u001b[37m\u001b[0m \u001b[1m1s\u001b[0m 3ms/step - accuracy: 0.8307 - loss: 0.5509 - val_accuracy: 0.8758 - val_loss: 0.4379 - learning_rate: 0.0010\n",
            "Epoch 32/50\n",
            "\u001b[1m168/175\u001b[0m \u001b[32m━━━━━━━━━━━━━━━━━━━\u001b[0m\u001b[37m━\u001b[0m \u001b[1m0s\u001b[0m 2ms/step - accuracy: 0.8366 - loss: 0.5256\n",
            "Epoch 32: val_accuracy did not improve from 0.87578\n",
            "\u001b[1m175/175\u001b[0m \u001b[32m━━━━━━━━━━━━━━━━━━━━\u001b[0m\u001b[37m\u001b[0m \u001b[1m1s\u001b[0m 3ms/step - accuracy: 0.8364 - loss: 0.5264 - val_accuracy: 0.8620 - val_loss: 0.4512 - learning_rate: 0.0010\n",
            "Epoch 33/50\n",
            "\u001b[1m167/175\u001b[0m \u001b[32m━━━━━━━━━━━━━━━━━━━\u001b[0m\u001b[37m━\u001b[0m \u001b[1m0s\u001b[0m 2ms/step - accuracy: 0.8222 - loss: 0.5723\n",
            "Epoch 33: val_accuracy did not improve from 0.87578\n",
            "\u001b[1m175/175\u001b[0m \u001b[32m━━━━━━━━━━━━━━━━━━━━\u001b[0m\u001b[37m\u001b[0m \u001b[1m1s\u001b[0m 3ms/step - accuracy: 0.8226 - loss: 0.5709 - val_accuracy: 0.8758 - val_loss: 0.4117 - learning_rate: 0.0010\n",
            "Epoch 34/50\n",
            "\u001b[1m167/175\u001b[0m \u001b[32m━━━━━━━━━━━━━━━━━━━\u001b[0m\u001b[37m━\u001b[0m \u001b[1m0s\u001b[0m 2ms/step - accuracy: 0.8334 - loss: 0.5483\n",
            "Epoch 34: val_accuracy did not improve from 0.87578\n",
            "\u001b[1m175/175\u001b[0m \u001b[32m━━━━━━━━━━━━━━━━━━━━\u001b[0m\u001b[37m\u001b[0m \u001b[1m1s\u001b[0m 3ms/step - accuracy: 0.8333 - loss: 0.5482 - val_accuracy: 0.8758 - val_loss: 0.4100 - learning_rate: 0.0010\n",
            "Epoch 35/50\n",
            "\u001b[1m167/175\u001b[0m \u001b[32m━━━━━━━━━━━━━━━━━━━\u001b[0m\u001b[37m━\u001b[0m \u001b[1m0s\u001b[0m 2ms/step - accuracy: 0.8504 - loss: 0.5009\n",
            "Epoch 35: val_accuracy improved from 0.87578 to 0.88331, saving model to best_landmark_model.h5\n"
          ]
        },
        {
          "output_type": "stream",
          "name": "stderr",
          "text": [
            "WARNING:absl:You are saving your model as an HDF5 file via `model.save()` or `keras.saving.save_model(model)`. This file format is considered legacy. We recommend using instead the native Keras format, e.g. `model.save('my_model.keras')` or `keras.saving.save_model(model, 'my_model.keras')`. \n"
          ]
        },
        {
          "output_type": "stream",
          "name": "stdout",
          "text": [
            "\b\b\b\b\b\b\b\b\b\b\b\b\b\b\b\b\b\b\b\b\b\b\b\b\b\b\b\b\b\b\b\b\b\b\b\b\b\b\b\b\b\b\b\b\b\b\b\b\b\b\b\b\b\b\b\b\b\b\b\b\b\b\b\b\b\b\b\b\b\b\b\b\b\b\r\u001b[1m175/175\u001b[0m \u001b[32m━━━━━━━━━━━━━━━━━━━━\u001b[0m\u001b[37m\u001b[0m \u001b[1m1s\u001b[0m 3ms/step - accuracy: 0.8498 - loss: 0.5022 - val_accuracy: 0.8833 - val_loss: 0.3952 - learning_rate: 0.0010\n",
            "Epoch 36/50\n",
            "\u001b[1m167/175\u001b[0m \u001b[32m━━━━━━━━━━━━━━━━━━━\u001b[0m\u001b[37m━\u001b[0m \u001b[1m0s\u001b[0m 2ms/step - accuracy: 0.8374 - loss: 0.5195\n",
            "Epoch 36: val_accuracy did not improve from 0.88331\n",
            "\u001b[1m175/175\u001b[0m \u001b[32m━━━━━━━━━━━━━━━━━━━━\u001b[0m\u001b[37m\u001b[0m \u001b[1m1s\u001b[0m 3ms/step - accuracy: 0.8377 - loss: 0.5188 - val_accuracy: 0.8795 - val_loss: 0.3910 - learning_rate: 0.0010\n",
            "Epoch 37/50\n",
            "\u001b[1m166/175\u001b[0m \u001b[32m━━━━━━━━━━━━━━━━━━\u001b[0m\u001b[37m━━\u001b[0m \u001b[1m0s\u001b[0m 2ms/step - accuracy: 0.8439 - loss: 0.5060\n",
            "Epoch 37: val_accuracy did not improve from 0.88331\n",
            "\u001b[1m175/175\u001b[0m \u001b[32m━━━━━━━━━━━━━━━━━━━━\u001b[0m\u001b[37m\u001b[0m \u001b[1m1s\u001b[0m 3ms/step - accuracy: 0.8434 - loss: 0.5073 - val_accuracy: 0.8795 - val_loss: 0.4121 - learning_rate: 0.0010\n",
            "Epoch 38/50\n",
            "\u001b[1m164/175\u001b[0m \u001b[32m━━━━━━━━━━━━━━━━━━\u001b[0m\u001b[37m━━\u001b[0m \u001b[1m0s\u001b[0m 2ms/step - accuracy: 0.8444 - loss: 0.5223\n",
            "Epoch 38: val_accuracy did not improve from 0.88331\n",
            "\u001b[1m175/175\u001b[0m \u001b[32m━━━━━━━━━━━━━━━━━━━━\u001b[0m\u001b[37m\u001b[0m \u001b[1m1s\u001b[0m 3ms/step - accuracy: 0.8443 - loss: 0.5223 - val_accuracy: 0.8708 - val_loss: 0.4098 - learning_rate: 0.0010\n",
            "Epoch 39/50\n",
            "\u001b[1m166/175\u001b[0m \u001b[32m━━━━━━━━━━━━━━━━━━\u001b[0m\u001b[37m━━\u001b[0m \u001b[1m0s\u001b[0m 2ms/step - accuracy: 0.8312 - loss: 0.5300\n",
            "Epoch 39: val_accuracy improved from 0.88331 to 0.88708, saving model to best_landmark_model.h5\n"
          ]
        },
        {
          "output_type": "stream",
          "name": "stderr",
          "text": [
            "WARNING:absl:You are saving your model as an HDF5 file via `model.save()` or `keras.saving.save_model(model)`. This file format is considered legacy. We recommend using instead the native Keras format, e.g. `model.save('my_model.keras')` or `keras.saving.save_model(model, 'my_model.keras')`. \n"
          ]
        },
        {
          "output_type": "stream",
          "name": "stdout",
          "text": [
            "\b\b\b\b\b\b\b\b\b\b\b\b\b\b\b\b\b\b\b\b\b\b\b\b\b\b\b\b\b\b\b\b\b\b\b\b\b\b\b\b\b\b\b\b\b\b\b\b\b\b\b\b\b\b\b\b\b\b\b\b\b\b\b\b\b\b\b\b\b\b\b\b\b\b\r\u001b[1m175/175\u001b[0m \u001b[32m━━━━━━━━━━━━━━━━━━━━\u001b[0m\u001b[37m\u001b[0m \u001b[1m1s\u001b[0m 3ms/step - accuracy: 0.8320 - loss: 0.5281 - val_accuracy: 0.8871 - val_loss: 0.3694 - learning_rate: 0.0010\n",
            "Epoch 40/50\n",
            "\u001b[1m167/175\u001b[0m \u001b[32m━━━━━━━━━━━━━━━━━━━\u001b[0m\u001b[37m━\u001b[0m \u001b[1m0s\u001b[0m 2ms/step - accuracy: 0.8581 - loss: 0.4672\n",
            "Epoch 40: val_accuracy did not improve from 0.88708\n",
            "\u001b[1m175/175\u001b[0m \u001b[32m━━━━━━━━━━━━━━━━━━━━\u001b[0m\u001b[37m\u001b[0m \u001b[1m1s\u001b[0m 3ms/step - accuracy: 0.8579 - loss: 0.4679 - val_accuracy: 0.8808 - val_loss: 0.3956 - learning_rate: 0.0010\n",
            "Epoch 41/50\n",
            "\u001b[1m167/175\u001b[0m \u001b[32m━━━━━━━━━━━━━━━━━━━\u001b[0m\u001b[37m━\u001b[0m \u001b[1m0s\u001b[0m 2ms/step - accuracy: 0.8404 - loss: 0.5057\n",
            "Epoch 41: val_accuracy did not improve from 0.88708\n",
            "\u001b[1m175/175\u001b[0m \u001b[32m━━━━━━━━━━━━━━━━━━━━\u001b[0m\u001b[37m\u001b[0m \u001b[1m1s\u001b[0m 3ms/step - accuracy: 0.8406 - loss: 0.5049 - val_accuracy: 0.8808 - val_loss: 0.3796 - learning_rate: 0.0010\n",
            "Epoch 42/50\n",
            "\u001b[1m166/175\u001b[0m \u001b[32m━━━━━━━━━━━━━━━━━━\u001b[0m\u001b[37m━━\u001b[0m \u001b[1m0s\u001b[0m 2ms/step - accuracy: 0.8487 - loss: 0.4952\n",
            "Epoch 42: val_accuracy improved from 0.88708 to 0.89586, saving model to best_landmark_model.h5\n"
          ]
        },
        {
          "output_type": "stream",
          "name": "stderr",
          "text": [
            "WARNING:absl:You are saving your model as an HDF5 file via `model.save()` or `keras.saving.save_model(model)`. This file format is considered legacy. We recommend using instead the native Keras format, e.g. `model.save('my_model.keras')` or `keras.saving.save_model(model, 'my_model.keras')`. \n"
          ]
        },
        {
          "output_type": "stream",
          "name": "stdout",
          "text": [
            "\b\b\b\b\b\b\b\b\b\b\b\b\b\b\b\b\b\b\b\b\b\b\b\b\b\b\b\b\b\b\b\b\b\b\b\b\b\b\b\b\b\b\b\b\b\b\b\b\b\b\b\b\b\b\b\b\b\b\b\b\b\b\b\b\b\b\b\b\b\b\b\b\b\b\r\u001b[1m175/175\u001b[0m \u001b[32m━━━━━━━━━━━━━━━━━━━━\u001b[0m\u001b[37m\u001b[0m \u001b[1m1s\u001b[0m 3ms/step - accuracy: 0.8489 - loss: 0.4946 - val_accuracy: 0.8959 - val_loss: 0.3627 - learning_rate: 0.0010\n",
            "Epoch 43/50\n",
            "\u001b[1m167/175\u001b[0m \u001b[32m━━━━━━━━━━━━━━━━━━━\u001b[0m\u001b[37m━\u001b[0m \u001b[1m0s\u001b[0m 2ms/step - accuracy: 0.8469 - loss: 0.5024\n",
            "Epoch 43: val_accuracy did not improve from 0.89586\n",
            "\u001b[1m175/175\u001b[0m \u001b[32m━━━━━━━━━━━━━━━━━━━━\u001b[0m\u001b[37m\u001b[0m \u001b[1m1s\u001b[0m 3ms/step - accuracy: 0.8470 - loss: 0.5010 - val_accuracy: 0.8846 - val_loss: 0.3725 - learning_rate: 0.0010\n",
            "Epoch 44/50\n",
            "\u001b[1m164/175\u001b[0m \u001b[32m━━━━━━━━━━━━━━━━━━\u001b[0m\u001b[37m━━\u001b[0m \u001b[1m0s\u001b[0m 2ms/step - accuracy: 0.8540 - loss: 0.4599\n",
            "Epoch 44: val_accuracy improved from 0.89586 to 0.89962, saving model to best_landmark_model.h5\n"
          ]
        },
        {
          "output_type": "stream",
          "name": "stderr",
          "text": [
            "WARNING:absl:You are saving your model as an HDF5 file via `model.save()` or `keras.saving.save_model(model)`. This file format is considered legacy. We recommend using instead the native Keras format, e.g. `model.save('my_model.keras')` or `keras.saving.save_model(model, 'my_model.keras')`. \n"
          ]
        },
        {
          "output_type": "stream",
          "name": "stdout",
          "text": [
            "\b\b\b\b\b\b\b\b\b\b\b\b\b\b\b\b\b\b\b\b\b\b\b\b\b\b\b\b\b\b\b\b\b\b\b\b\b\b\b\b\b\b\b\b\b\b\b\b\b\b\b\b\b\b\b\b\b\b\b\b\b\b\b\b\b\b\b\b\b\b\b\b\b\b\r\u001b[1m175/175\u001b[0m \u001b[32m━━━━━━━━━━━━━━━━━━━━\u001b[0m\u001b[37m\u001b[0m \u001b[1m1s\u001b[0m 3ms/step - accuracy: 0.8538 - loss: 0.4610 - val_accuracy: 0.8996 - val_loss: 0.3634 - learning_rate: 0.0010\n",
            "Epoch 45/50\n",
            "\u001b[1m166/175\u001b[0m \u001b[32m━━━━━━━━━━━━━━━━━━\u001b[0m\u001b[37m━━\u001b[0m \u001b[1m0s\u001b[0m 2ms/step - accuracy: 0.8537 - loss: 0.4823\n",
            "Epoch 45: val_accuracy did not improve from 0.89962\n",
            "\u001b[1m175/175\u001b[0m \u001b[32m━━━━━━━━━━━━━━━━━━━━\u001b[0m\u001b[37m\u001b[0m \u001b[1m1s\u001b[0m 3ms/step - accuracy: 0.8541 - loss: 0.4811 - val_accuracy: 0.8896 - val_loss: 0.3483 - learning_rate: 0.0010\n",
            "Epoch 46/50\n",
            "\u001b[1m165/175\u001b[0m \u001b[32m━━━━━━━━━━━━━━━━━━\u001b[0m\u001b[37m━━\u001b[0m \u001b[1m0s\u001b[0m 2ms/step - accuracy: 0.8528 - loss: 0.4582\n",
            "Epoch 46: val_accuracy did not improve from 0.89962\n",
            "\u001b[1m175/175\u001b[0m \u001b[32m━━━━━━━━━━━━━━━━━━━━\u001b[0m\u001b[37m\u001b[0m \u001b[1m1s\u001b[0m 3ms/step - accuracy: 0.8528 - loss: 0.4583 - val_accuracy: 0.8984 - val_loss: 0.3418 - learning_rate: 0.0010\n",
            "Epoch 47/50\n",
            "\u001b[1m172/175\u001b[0m \u001b[32m━━━━━━━━━━━━━━━━━━━\u001b[0m\u001b[37m━\u001b[0m \u001b[1m0s\u001b[0m 2ms/step - accuracy: 0.8491 - loss: 0.4852\n",
            "Epoch 47: val_accuracy did not improve from 0.89962\n",
            "\u001b[1m175/175\u001b[0m \u001b[32m━━━━━━━━━━━━━━━━━━━━\u001b[0m\u001b[37m\u001b[0m \u001b[1m0s\u001b[0m 3ms/step - accuracy: 0.8493 - loss: 0.4846 - val_accuracy: 0.8921 - val_loss: 0.3692 - learning_rate: 0.0010\n",
            "Epoch 48/50\n",
            "\u001b[1m165/175\u001b[0m \u001b[32m━━━━━━━━━━━━━━━━━━\u001b[0m\u001b[37m━━\u001b[0m \u001b[1m0s\u001b[0m 2ms/step - accuracy: 0.8579 - loss: 0.4457\n",
            "Epoch 48: val_accuracy did not improve from 0.89962\n",
            "\u001b[1m175/175\u001b[0m \u001b[32m━━━━━━━━━━━━━━━━━━━━\u001b[0m\u001b[37m\u001b[0m \u001b[1m1s\u001b[0m 3ms/step - accuracy: 0.8579 - loss: 0.4461 - val_accuracy: 0.8908 - val_loss: 0.3644 - learning_rate: 0.0010\n",
            "Epoch 49/50\n",
            "\u001b[1m167/175\u001b[0m \u001b[32m━━━━━━━━━━━━━━━━━━━\u001b[0m\u001b[37m━\u001b[0m \u001b[1m0s\u001b[0m 2ms/step - accuracy: 0.8487 - loss: 0.4549\n",
            "Epoch 49: val_accuracy did not improve from 0.89962\n",
            "\u001b[1m175/175\u001b[0m \u001b[32m━━━━━━━━━━━━━━━━━━━━\u001b[0m\u001b[37m\u001b[0m \u001b[1m1s\u001b[0m 3ms/step - accuracy: 0.8489 - loss: 0.4547 - val_accuracy: 0.8984 - val_loss: 0.3415 - learning_rate: 0.0010\n",
            "Epoch 50/50\n",
            "\u001b[1m162/175\u001b[0m \u001b[32m━━━━━━━━━━━━━━━━━━\u001b[0m\u001b[37m━━\u001b[0m \u001b[1m0s\u001b[0m 2ms/step - accuracy: 0.8604 - loss: 0.4440\n",
            "Epoch 50: val_accuracy improved from 0.89962 to 0.90339, saving model to best_landmark_model.h5\n"
          ]
        },
        {
          "output_type": "stream",
          "name": "stderr",
          "text": [
            "WARNING:absl:You are saving your model as an HDF5 file via `model.save()` or `keras.saving.save_model(model)`. This file format is considered legacy. We recommend using instead the native Keras format, e.g. `model.save('my_model.keras')` or `keras.saving.save_model(model, 'my_model.keras')`. \n"
          ]
        },
        {
          "output_type": "stream",
          "name": "stdout",
          "text": [
            "\b\b\b\b\b\b\b\b\b\b\b\b\b\b\b\b\b\b\b\b\b\b\b\b\b\b\b\b\b\b\b\b\b\b\b\b\b\b\b\b\b\b\b\b\b\b\b\b\b\b\b\b\b\b\b\b\b\b\b\b\b\b\b\b\b\b\b\b\b\b\b\b\b\b\r\u001b[1m175/175\u001b[0m \u001b[32m━━━━━━━━━━━━━━━━━━━━\u001b[0m\u001b[37m\u001b[0m \u001b[1m1s\u001b[0m 3ms/step - accuracy: 0.8604 - loss: 0.4436 - val_accuracy: 0.9034 - val_loss: 0.3623 - learning_rate: 0.0010\n",
            "\n",
            "Training model video...\n",
            "Epoch 1/50\n",
            "\u001b[1m85/88\u001b[0m \u001b[32m━━━━━━━━━━━━━━━━━━━\u001b[0m\u001b[37m━\u001b[0m \u001b[1m0s\u001b[0m 8ms/step - accuracy: 0.0289 - loss: 3.6889\n",
            "Epoch 1: val_accuracy improved from -inf to 0.07500, saving model to best_video_model.h5\n"
          ]
        },
        {
          "output_type": "stream",
          "name": "stderr",
          "text": [
            "WARNING:absl:You are saving your model as an HDF5 file via `model.save()` or `keras.saving.save_model(model)`. This file format is considered legacy. We recommend using instead the native Keras format, e.g. `model.save('my_model.keras')` or `keras.saving.save_model(model, 'my_model.keras')`. \n"
          ]
        },
        {
          "output_type": "stream",
          "name": "stdout",
          "text": [
            "\b\b\b\b\b\b\b\b\b\b\b\b\b\b\b\b\b\b\b\b\b\b\b\b\b\b\b\b\b\b\b\b\b\b\b\b\b\b\b\b\b\b\b\b\b\b\b\b\b\b\b\b\b\b\b\b\b\b\b\b\b\b\b\b\b\b\b\b\b\b\b\b\r\u001b[1m88/88\u001b[0m \u001b[32m━━━━━━━━━━━━━━━━━━━━\u001b[0m\u001b[37m\u001b[0m \u001b[1m5s\u001b[0m 18ms/step - accuracy: 0.0292 - loss: 3.6868 - val_accuracy: 0.0750 - val_loss: 3.3867 - learning_rate: 0.0010\n",
            "Epoch 2/50\n",
            "\u001b[1m85/88\u001b[0m \u001b[32m━━━━━━━━━━━━━━━━━━━\u001b[0m\u001b[37m━\u001b[0m \u001b[1m0s\u001b[0m 8ms/step - accuracy: 0.0843 - loss: 3.3555\n",
            "Epoch 2: val_accuracy improved from 0.07500 to 0.17000, saving model to best_video_model.h5\n"
          ]
        },
        {
          "output_type": "stream",
          "name": "stderr",
          "text": [
            "WARNING:absl:You are saving your model as an HDF5 file via `model.save()` or `keras.saving.save_model(model)`. This file format is considered legacy. We recommend using instead the native Keras format, e.g. `model.save('my_model.keras')` or `keras.saving.save_model(model, 'my_model.keras')`. \n"
          ]
        },
        {
          "output_type": "stream",
          "name": "stdout",
          "text": [
            "\b\b\b\b\b\b\b\b\b\b\b\b\b\b\b\b\b\b\b\b\b\b\b\b\b\b\b\b\b\b\b\b\b\b\b\b\b\b\b\b\b\b\b\b\b\b\b\b\b\b\b\b\b\b\b\b\b\b\b\b\b\b\b\b\b\b\b\b\b\b\b\b\r\u001b[1m88/88\u001b[0m \u001b[32m━━━━━━━━━━━━━━━━━━━━\u001b[0m\u001b[37m\u001b[0m \u001b[1m1s\u001b[0m 9ms/step - accuracy: 0.0852 - loss: 3.3491 - val_accuracy: 0.1700 - val_loss: 2.7707 - learning_rate: 0.0010\n",
            "Epoch 3/50\n",
            "\u001b[1m83/88\u001b[0m \u001b[32m━━━━━━━━━━━━━━━━━━\u001b[0m\u001b[37m━━\u001b[0m \u001b[1m0s\u001b[0m 8ms/step - accuracy: 0.1807 - loss: 2.8496\n",
            "Epoch 3: val_accuracy improved from 0.17000 to 0.24500, saving model to best_video_model.h5\n"
          ]
        },
        {
          "output_type": "stream",
          "name": "stderr",
          "text": [
            "WARNING:absl:You are saving your model as an HDF5 file via `model.save()` or `keras.saving.save_model(model)`. This file format is considered legacy. We recommend using instead the native Keras format, e.g. `model.save('my_model.keras')` or `keras.saving.save_model(model, 'my_model.keras')`. \n"
          ]
        },
        {
          "output_type": "stream",
          "name": "stdout",
          "text": [
            "\b\b\b\b\b\b\b\b\b\b\b\b\b\b\b\b\b\b\b\b\b\b\b\b\b\b\b\b\b\b\b\b\b\b\b\b\b\b\b\b\b\b\b\b\b\b\b\b\b\b\b\b\b\b\b\b\b\b\b\b\b\b\b\b\b\b\b\b\b\b\b\b\r\u001b[1m88/88\u001b[0m \u001b[32m━━━━━━━━━━━━━━━━━━━━\u001b[0m\u001b[37m\u001b[0m \u001b[1m1s\u001b[0m 10ms/step - accuracy: 0.1813 - loss: 2.8411 - val_accuracy: 0.2450 - val_loss: 2.2698 - learning_rate: 0.0010\n",
            "Epoch 4/50\n",
            "\u001b[1m85/88\u001b[0m \u001b[32m━━━━━━━━━━━━━━━━━━━\u001b[0m\u001b[37m━\u001b[0m \u001b[1m0s\u001b[0m 8ms/step - accuracy: 0.2288 - loss: 2.4476\n",
            "Epoch 4: val_accuracy improved from 0.24500 to 0.44000, saving model to best_video_model.h5\n"
          ]
        },
        {
          "output_type": "stream",
          "name": "stderr",
          "text": [
            "WARNING:absl:You are saving your model as an HDF5 file via `model.save()` or `keras.saving.save_model(model)`. This file format is considered legacy. We recommend using instead the native Keras format, e.g. `model.save('my_model.keras')` or `keras.saving.save_model(model, 'my_model.keras')`. \n"
          ]
        },
        {
          "output_type": "stream",
          "name": "stdout",
          "text": [
            "\b\b\b\b\b\b\b\b\b\b\b\b\b\b\b\b\b\b\b\b\b\b\b\b\b\b\b\b\b\b\b\b\b\b\b\b\b\b\b\b\b\b\b\b\b\b\b\b\b\b\b\b\b\b\b\b\b\b\b\b\b\b\b\b\b\b\b\b\b\b\b\b\r\u001b[1m88/88\u001b[0m \u001b[32m━━━━━━━━━━━━━━━━━━━━\u001b[0m\u001b[37m\u001b[0m \u001b[1m1s\u001b[0m 9ms/step - accuracy: 0.2299 - loss: 2.4447 - val_accuracy: 0.4400 - val_loss: 1.8247 - learning_rate: 0.0010\n",
            "Epoch 5/50\n",
            "\u001b[1m85/88\u001b[0m \u001b[32m━━━━━━━━━━━━━━━━━━━\u001b[0m\u001b[37m━\u001b[0m \u001b[1m0s\u001b[0m 8ms/step - accuracy: 0.3805 - loss: 1.8693\n",
            "Epoch 5: val_accuracy improved from 0.44000 to 0.60500, saving model to best_video_model.h5\n"
          ]
        },
        {
          "output_type": "stream",
          "name": "stderr",
          "text": [
            "WARNING:absl:You are saving your model as an HDF5 file via `model.save()` or `keras.saving.save_model(model)`. This file format is considered legacy. We recommend using instead the native Keras format, e.g. `model.save('my_model.keras')` or `keras.saving.save_model(model, 'my_model.keras')`. \n"
          ]
        },
        {
          "output_type": "stream",
          "name": "stdout",
          "text": [
            "\b\b\b\b\b\b\b\b\b\b\b\b\b\b\b\b\b\b\b\b\b\b\b\b\b\b\b\b\b\b\b\b\b\b\b\b\b\b\b\b\b\b\b\b\b\b\b\b\b\b\b\b\b\b\b\b\b\b\b\b\b\b\b\b\b\b\b\b\b\b\b\b\r\u001b[1m88/88\u001b[0m \u001b[32m━━━━━━━━━━━━━━━━━━━━\u001b[0m\u001b[37m\u001b[0m \u001b[1m1s\u001b[0m 9ms/step - accuracy: 0.3809 - loss: 1.8671 - val_accuracy: 0.6050 - val_loss: 1.3947 - learning_rate: 0.0010\n",
            "Epoch 6/50\n",
            "\u001b[1m85/88\u001b[0m \u001b[32m━━━━━━━━━━━━━━━━━━━\u001b[0m\u001b[37m━\u001b[0m \u001b[1m0s\u001b[0m 8ms/step - accuracy: 0.4841 - loss: 1.5677\n",
            "Epoch 6: val_accuracy improved from 0.60500 to 0.62000, saving model to best_video_model.h5\n"
          ]
        },
        {
          "output_type": "stream",
          "name": "stderr",
          "text": [
            "WARNING:absl:You are saving your model as an HDF5 file via `model.save()` or `keras.saving.save_model(model)`. This file format is considered legacy. We recommend using instead the native Keras format, e.g. `model.save('my_model.keras')` or `keras.saving.save_model(model, 'my_model.keras')`. \n"
          ]
        },
        {
          "output_type": "stream",
          "name": "stdout",
          "text": [
            "\b\b\b\b\b\b\b\b\b\b\b\b\b\b\b\b\b\b\b\b\b\b\b\b\b\b\b\b\b\b\b\b\b\b\b\b\b\b\b\b\b\b\b\b\b\b\b\b\b\b\b\b\b\b\b\b\b\b\b\b\b\b\b\b\b\b\b\b\b\b\b\b\r\u001b[1m88/88\u001b[0m \u001b[32m━━━━━━━━━━━━━━━━━━━━\u001b[0m\u001b[37m\u001b[0m \u001b[1m1s\u001b[0m 9ms/step - accuracy: 0.4848 - loss: 1.5662 - val_accuracy: 0.6200 - val_loss: 1.2647 - learning_rate: 0.0010\n",
            "Epoch 7/50\n",
            "\u001b[1m85/88\u001b[0m \u001b[32m━━━━━━━━━━━━━━━━━━━\u001b[0m\u001b[37m━\u001b[0m \u001b[1m0s\u001b[0m 8ms/step - accuracy: 0.5525 - loss: 1.3344\n",
            "Epoch 7: val_accuracy did not improve from 0.62000\n",
            "\u001b[1m88/88\u001b[0m \u001b[32m━━━━━━━━━━━━━━━━━━━━\u001b[0m\u001b[37m\u001b[0m \u001b[1m1s\u001b[0m 9ms/step - accuracy: 0.5528 - loss: 1.3318 - val_accuracy: 0.6100 - val_loss: 1.2783 - learning_rate: 0.0010\n",
            "Epoch 8/50\n",
            "\u001b[1m85/88\u001b[0m \u001b[32m━━━━━━━━━━━━━━━━━━━\u001b[0m\u001b[37m━\u001b[0m \u001b[1m0s\u001b[0m 8ms/step - accuracy: 0.5993 - loss: 1.2244\n",
            "Epoch 8: val_accuracy improved from 0.62000 to 0.80500, saving model to best_video_model.h5\n"
          ]
        },
        {
          "output_type": "stream",
          "name": "stderr",
          "text": [
            "WARNING:absl:You are saving your model as an HDF5 file via `model.save()` or `keras.saving.save_model(model)`. This file format is considered legacy. We recommend using instead the native Keras format, e.g. `model.save('my_model.keras')` or `keras.saving.save_model(model, 'my_model.keras')`. \n"
          ]
        },
        {
          "output_type": "stream",
          "name": "stdout",
          "text": [
            "\b\b\b\b\b\b\b\b\b\b\b\b\b\b\b\b\b\b\b\b\b\b\b\b\b\b\b\b\b\b\b\b\b\b\b\b\b\b\b\b\b\b\b\b\b\b\b\b\b\b\b\b\b\b\b\b\b\b\b\b\b\b\b\b\b\b\b\b\b\b\b\b\r\u001b[1m88/88\u001b[0m \u001b[32m━━━━━━━━━━━━━━━━━━━━\u001b[0m\u001b[37m\u001b[0m \u001b[1m1s\u001b[0m 10ms/step - accuracy: 0.6003 - loss: 1.2198 - val_accuracy: 0.8050 - val_loss: 0.8038 - learning_rate: 0.0010\n",
            "Epoch 9/50\n",
            "\u001b[1m85/88\u001b[0m \u001b[32m━━━━━━━━━━━━━━━━━━━\u001b[0m\u001b[37m━\u001b[0m \u001b[1m0s\u001b[0m 8ms/step - accuracy: 0.7086 - loss: 0.8809\n",
            "Epoch 9: val_accuracy did not improve from 0.80500\n",
            "\u001b[1m88/88\u001b[0m \u001b[32m━━━━━━━━━━━━━━━━━━━━\u001b[0m\u001b[37m\u001b[0m \u001b[1m1s\u001b[0m 9ms/step - accuracy: 0.7078 - loss: 0.8826 - val_accuracy: 0.7200 - val_loss: 0.8876 - learning_rate: 0.0010\n",
            "Epoch 10/50\n",
            "\u001b[1m84/88\u001b[0m \u001b[32m━━━━━━━━━━━━━━━━━━━\u001b[0m\u001b[37m━\u001b[0m \u001b[1m0s\u001b[0m 8ms/step - accuracy: 0.7067 - loss: 0.8889\n",
            "Epoch 10: val_accuracy did not improve from 0.80500\n",
            "\u001b[1m88/88\u001b[0m \u001b[32m━━━━━━━━━━━━━━━━━━━━\u001b[0m\u001b[37m\u001b[0m \u001b[1m1s\u001b[0m 9ms/step - accuracy: 0.7065 - loss: 0.8895 - val_accuracy: 0.7750 - val_loss: 0.8024 - learning_rate: 0.0010\n",
            "Epoch 11/50\n",
            "\u001b[1m85/88\u001b[0m \u001b[32m━━━━━━━━━━━━━━━━━━━\u001b[0m\u001b[37m━\u001b[0m \u001b[1m0s\u001b[0m 8ms/step - accuracy: 0.7749 - loss: 0.6961\n",
            "Epoch 11: val_accuracy did not improve from 0.80500\n",
            "\u001b[1m88/88\u001b[0m \u001b[32m━━━━━━━━━━━━━━━━━━━━\u001b[0m\u001b[37m\u001b[0m \u001b[1m1s\u001b[0m 9ms/step - accuracy: 0.7741 - loss: 0.6980 - val_accuracy: 0.7500 - val_loss: 0.8521 - learning_rate: 0.0010\n",
            "Epoch 12/50\n",
            "\u001b[1m85/88\u001b[0m \u001b[32m━━━━━━━━━━━━━━━━━━━\u001b[0m\u001b[37m━\u001b[0m \u001b[1m0s\u001b[0m 8ms/step - accuracy: 0.7981 - loss: 0.6025\n",
            "Epoch 12: val_accuracy did not improve from 0.80500\n",
            "\u001b[1m88/88\u001b[0m \u001b[32m━━━━━━━━━━━━━━━━━━━━\u001b[0m\u001b[37m\u001b[0m \u001b[1m1s\u001b[0m 9ms/step - accuracy: 0.7985 - loss: 0.6011 - val_accuracy: 0.8050 - val_loss: 0.6894 - learning_rate: 0.0010\n",
            "Epoch 13/50\n",
            "\u001b[1m85/88\u001b[0m \u001b[32m━━━━━━━━━━━━━━━━━━━\u001b[0m\u001b[37m━\u001b[0m \u001b[1m0s\u001b[0m 8ms/step - accuracy: 0.7724 - loss: 0.6474\n",
            "Epoch 13: val_accuracy did not improve from 0.80500\n",
            "\u001b[1m88/88\u001b[0m \u001b[32m━━━━━━━━━━━━━━━━━━━━\u001b[0m\u001b[37m\u001b[0m \u001b[1m1s\u001b[0m 9ms/step - accuracy: 0.7728 - loss: 0.6463 - val_accuracy: 0.7700 - val_loss: 0.7285 - learning_rate: 0.0010\n",
            "Epoch 14/50\n",
            "\u001b[1m85/88\u001b[0m \u001b[32m━━━━━━━━━━━━━━━━━━━\u001b[0m\u001b[37m━\u001b[0m \u001b[1m0s\u001b[0m 8ms/step - accuracy: 0.7958 - loss: 0.5708\n",
            "Epoch 14: val_accuracy improved from 0.80500 to 0.85500, saving model to best_video_model.h5\n"
          ]
        },
        {
          "output_type": "stream",
          "name": "stderr",
          "text": [
            "WARNING:absl:You are saving your model as an HDF5 file via `model.save()` or `keras.saving.save_model(model)`. This file format is considered legacy. We recommend using instead the native Keras format, e.g. `model.save('my_model.keras')` or `keras.saving.save_model(model, 'my_model.keras')`. \n"
          ]
        },
        {
          "output_type": "stream",
          "name": "stdout",
          "text": [
            "\b\b\b\b\b\b\b\b\b\b\b\b\b\b\b\b\b\b\b\b\b\b\b\b\b\b\b\b\b\b\b\b\b\b\b\b\b\b\b\b\b\b\b\b\b\b\b\b\b\b\b\b\b\b\b\b\b\b\b\b\b\b\b\b\b\b\b\b\b\b\b\b\r\u001b[1m88/88\u001b[0m \u001b[32m━━━━━━━━━━━━━━━━━━━━\u001b[0m\u001b[37m\u001b[0m \u001b[1m1s\u001b[0m 9ms/step - accuracy: 0.7968 - loss: 0.5693 - val_accuracy: 0.8550 - val_loss: 0.5780 - learning_rate: 0.0010\n",
            "Epoch 15/50\n",
            "\u001b[1m85/88\u001b[0m \u001b[32m━━━━━━━━━━━━━━━━━━━\u001b[0m\u001b[37m━\u001b[0m \u001b[1m0s\u001b[0m 8ms/step - accuracy: 0.8539 - loss: 0.4353\n",
            "Epoch 15: val_accuracy improved from 0.85500 to 0.86000, saving model to best_video_model.h5\n"
          ]
        },
        {
          "output_type": "stream",
          "name": "stderr",
          "text": [
            "WARNING:absl:You are saving your model as an HDF5 file via `model.save()` or `keras.saving.save_model(model)`. This file format is considered legacy. We recommend using instead the native Keras format, e.g. `model.save('my_model.keras')` or `keras.saving.save_model(model, 'my_model.keras')`. \n"
          ]
        },
        {
          "output_type": "stream",
          "name": "stdout",
          "text": [
            "\b\b\b\b\b\b\b\b\b\b\b\b\b\b\b\b\b\b\b\b\b\b\b\b\b\b\b\b\b\b\b\b\b\b\b\b\b\b\b\b\b\b\b\b\b\b\b\b\b\b\b\b\b\b\b\b\b\b\b\b\b\b\b\b\b\b\b\b\b\b\b\b\r\u001b[1m88/88\u001b[0m \u001b[32m━━━━━━━━━━━━━━━━━━━━\u001b[0m\u001b[37m\u001b[0m \u001b[1m1s\u001b[0m 9ms/step - accuracy: 0.8538 - loss: 0.4357 - val_accuracy: 0.8600 - val_loss: 0.5667 - learning_rate: 0.0010\n",
            "Epoch 16/50\n",
            "\u001b[1m85/88\u001b[0m \u001b[32m━━━━━━━━━━━━━━━━━━━\u001b[0m\u001b[37m━\u001b[0m \u001b[1m0s\u001b[0m 8ms/step - accuracy: 0.8583 - loss: 0.3850\n",
            "Epoch 16: val_accuracy did not improve from 0.86000\n",
            "\u001b[1m88/88\u001b[0m \u001b[32m━━━━━━━━━━━━━━━━━━━━\u001b[0m\u001b[37m\u001b[0m \u001b[1m1s\u001b[0m 9ms/step - accuracy: 0.8576 - loss: 0.3881 - val_accuracy: 0.8350 - val_loss: 0.7222 - learning_rate: 0.0010\n",
            "Epoch 17/50\n",
            "\u001b[1m85/88\u001b[0m \u001b[32m━━━━━━━━━━━━━━━━━━━\u001b[0m\u001b[37m━\u001b[0m \u001b[1m0s\u001b[0m 8ms/step - accuracy: 0.8550 - loss: 0.4488\n",
            "Epoch 17: val_accuracy did not improve from 0.86000\n",
            "\u001b[1m88/88\u001b[0m \u001b[32m━━━━━━━━━━━━━━━━━━━━\u001b[0m\u001b[37m\u001b[0m \u001b[1m1s\u001b[0m 9ms/step - accuracy: 0.8559 - loss: 0.4459 - val_accuracy: 0.8350 - val_loss: 0.5653 - learning_rate: 0.0010\n",
            "Epoch 18/50\n",
            "\u001b[1m85/88\u001b[0m \u001b[32m━━━━━━━━━━━━━━━━━━━\u001b[0m\u001b[37m━\u001b[0m \u001b[1m0s\u001b[0m 8ms/step - accuracy: 0.8920 - loss: 0.2945\n",
            "Epoch 18: val_accuracy did not improve from 0.86000\n",
            "\u001b[1m88/88\u001b[0m \u001b[32m━━━━━━━━━━━━━━━━━━━━\u001b[0m\u001b[37m\u001b[0m \u001b[1m1s\u001b[0m 9ms/step - accuracy: 0.8916 - loss: 0.2959 - val_accuracy: 0.8000 - val_loss: 0.7507 - learning_rate: 0.0010\n",
            "Epoch 19/50\n",
            "\u001b[1m85/88\u001b[0m \u001b[32m━━━━━━━━━━━━━━━━━━━\u001b[0m\u001b[37m━\u001b[0m \u001b[1m0s\u001b[0m 8ms/step - accuracy: 0.8804 - loss: 0.3575\n",
            "Epoch 19: val_accuracy did not improve from 0.86000\n",
            "\u001b[1m88/88\u001b[0m \u001b[32m━━━━━━━━━━━━━━━━━━━━\u001b[0m\u001b[37m\u001b[0m \u001b[1m1s\u001b[0m 9ms/step - accuracy: 0.8809 - loss: 0.3562 - val_accuracy: 0.8250 - val_loss: 0.5806 - learning_rate: 0.0010\n",
            "Epoch 20/50\n",
            "\u001b[1m85/88\u001b[0m \u001b[32m━━━━━━━━━━━━━━━━━━━\u001b[0m\u001b[37m━\u001b[0m \u001b[1m0s\u001b[0m 8ms/step - accuracy: 0.8814 - loss: 0.3374\n",
            "Epoch 20: val_accuracy did not improve from 0.86000\n",
            "\u001b[1m88/88\u001b[0m \u001b[32m━━━━━━━━━━━━━━━━━━━━\u001b[0m\u001b[37m\u001b[0m \u001b[1m1s\u001b[0m 9ms/step - accuracy: 0.8821 - loss: 0.3360 - val_accuracy: 0.8550 - val_loss: 0.5469 - learning_rate: 0.0010\n",
            "Epoch 21/50\n",
            "\u001b[1m84/88\u001b[0m \u001b[32m━━━━━━━━━━━━━━━━━━━\u001b[0m\u001b[37m━\u001b[0m \u001b[1m0s\u001b[0m 8ms/step - accuracy: 0.9030 - loss: 0.3064\n",
            "Epoch 21: val_accuracy improved from 0.86000 to 0.86500, saving model to best_video_model.h5\n"
          ]
        },
        {
          "output_type": "stream",
          "name": "stderr",
          "text": [
            "WARNING:absl:You are saving your model as an HDF5 file via `model.save()` or `keras.saving.save_model(model)`. This file format is considered legacy. We recommend using instead the native Keras format, e.g. `model.save('my_model.keras')` or `keras.saving.save_model(model, 'my_model.keras')`. \n"
          ]
        },
        {
          "output_type": "stream",
          "name": "stdout",
          "text": [
            "\b\b\b\b\b\b\b\b\b\b\b\b\b\b\b\b\b\b\b\b\b\b\b\b\b\b\b\b\b\b\b\b\b\b\b\b\b\b\b\b\b\b\b\b\b\b\b\b\b\b\b\b\b\b\b\b\b\b\b\b\b\b\b\b\b\b\b\b\b\b\b\b\r\u001b[1m88/88\u001b[0m \u001b[32m━━━━━━━━━━━━━━━━━━━━\u001b[0m\u001b[37m\u001b[0m \u001b[1m1s\u001b[0m 9ms/step - accuracy: 0.9029 - loss: 0.3073 - val_accuracy: 0.8650 - val_loss: 0.6205 - learning_rate: 0.0010\n",
            "Epoch 22/50\n",
            "\u001b[1m85/88\u001b[0m \u001b[32m━━━━━━━━━━━━━━━━━━━\u001b[0m\u001b[37m━\u001b[0m \u001b[1m0s\u001b[0m 8ms/step - accuracy: 0.8693 - loss: 0.3699\n",
            "Epoch 22: val_accuracy improved from 0.86500 to 0.89500, saving model to best_video_model.h5\n"
          ]
        },
        {
          "output_type": "stream",
          "name": "stderr",
          "text": [
            "WARNING:absl:You are saving your model as an HDF5 file via `model.save()` or `keras.saving.save_model(model)`. This file format is considered legacy. We recommend using instead the native Keras format, e.g. `model.save('my_model.keras')` or `keras.saving.save_model(model, 'my_model.keras')`. \n"
          ]
        },
        {
          "output_type": "stream",
          "name": "stdout",
          "text": [
            "\b\b\b\b\b\b\b\b\b\b\b\b\b\b\b\b\b\b\b\b\b\b\b\b\b\b\b\b\b\b\b\b\b\b\b\b\b\b\b\b\b\b\b\b\b\b\b\b\b\b\b\b\b\b\b\b\b\b\b\b\b\b\b\b\b\b\b\b\b\b\b\b\r\u001b[1m88/88\u001b[0m \u001b[32m━━━━━━━━━━━━━━━━━━━━\u001b[0m\u001b[37m\u001b[0m \u001b[1m1s\u001b[0m 9ms/step - accuracy: 0.8701 - loss: 0.3686 - val_accuracy: 0.8950 - val_loss: 0.4633 - learning_rate: 0.0010\n",
            "Epoch 23/50\n",
            "\u001b[1m84/88\u001b[0m \u001b[32m━━━━━━━━━━━━━━━━━━━\u001b[0m\u001b[37m━\u001b[0m \u001b[1m0s\u001b[0m 8ms/step - accuracy: 0.9282 - loss: 0.2031\n",
            "Epoch 23: val_accuracy improved from 0.89500 to 0.90000, saving model to best_video_model.h5\n"
          ]
        },
        {
          "output_type": "stream",
          "name": "stderr",
          "text": [
            "WARNING:absl:You are saving your model as an HDF5 file via `model.save()` or `keras.saving.save_model(model)`. This file format is considered legacy. We recommend using instead the native Keras format, e.g. `model.save('my_model.keras')` or `keras.saving.save_model(model, 'my_model.keras')`. \n"
          ]
        },
        {
          "output_type": "stream",
          "name": "stdout",
          "text": [
            "\b\b\b\b\b\b\b\b\b\b\b\b\b\b\b\b\b\b\b\b\b\b\b\b\b\b\b\b\b\b\b\b\b\b\b\b\b\b\b\b\b\b\b\b\b\b\b\b\b\b\b\b\b\b\b\b\b\b\b\b\b\b\b\b\b\b\b\b\b\b\b\b\r\u001b[1m88/88\u001b[0m \u001b[32m━━━━━━━━━━━━━━━━━━━━\u001b[0m\u001b[37m\u001b[0m \u001b[1m1s\u001b[0m 10ms/step - accuracy: 0.9274 - loss: 0.2053 - val_accuracy: 0.9000 - val_loss: 0.4490 - learning_rate: 0.0010\n",
            "Epoch 24/50\n",
            "\u001b[1m84/88\u001b[0m \u001b[32m━━━━━━━━━━━━━━━━━━━\u001b[0m\u001b[37m━\u001b[0m \u001b[1m0s\u001b[0m 8ms/step - accuracy: 0.9518 - loss: 0.1657\n",
            "Epoch 24: val_accuracy did not improve from 0.90000\n",
            "\u001b[1m88/88\u001b[0m \u001b[32m━━━━━━━━━━━━━━━━━━━━\u001b[0m\u001b[37m\u001b[0m \u001b[1m1s\u001b[0m 9ms/step - accuracy: 0.9513 - loss: 0.1663 - val_accuracy: 0.9000 - val_loss: 0.3876 - learning_rate: 0.0010\n",
            "Epoch 25/50\n",
            "\u001b[1m85/88\u001b[0m \u001b[32m━━━━━━━━━━━━━━━━━━━\u001b[0m\u001b[37m━\u001b[0m \u001b[1m0s\u001b[0m 8ms/step - accuracy: 0.9386 - loss: 0.1855\n",
            "Epoch 25: val_accuracy did not improve from 0.90000\n",
            "\u001b[1m88/88\u001b[0m \u001b[32m━━━━━━━━━━━━━━━━━━━━\u001b[0m\u001b[37m\u001b[0m \u001b[1m1s\u001b[0m 9ms/step - accuracy: 0.9385 - loss: 0.1856 - val_accuracy: 0.9000 - val_loss: 0.4266 - learning_rate: 0.0010\n",
            "Epoch 26/50\n",
            "\u001b[1m85/88\u001b[0m \u001b[32m━━━━━━━━━━━━━━━━━━━\u001b[0m\u001b[37m━\u001b[0m \u001b[1m0s\u001b[0m 8ms/step - accuracy: 0.9664 - loss: 0.1191\n",
            "Epoch 26: val_accuracy improved from 0.90000 to 0.94500, saving model to best_video_model.h5\n"
          ]
        },
        {
          "output_type": "stream",
          "name": "stderr",
          "text": [
            "WARNING:absl:You are saving your model as an HDF5 file via `model.save()` or `keras.saving.save_model(model)`. This file format is considered legacy. We recommend using instead the native Keras format, e.g. `model.save('my_model.keras')` or `keras.saving.save_model(model, 'my_model.keras')`. \n"
          ]
        },
        {
          "output_type": "stream",
          "name": "stdout",
          "text": [
            "\b\b\b\b\b\b\b\b\b\b\b\b\b\b\b\b\b\b\b\b\b\b\b\b\b\b\b\b\b\b\b\b\b\b\b\b\b\b\b\b\b\b\b\b\b\b\b\b\b\b\b\b\b\b\b\b\b\b\b\b\b\b\b\b\b\b\b\b\b\b\b\b\r\u001b[1m88/88\u001b[0m \u001b[32m━━━━━━━━━━━━━━━━━━━━\u001b[0m\u001b[37m\u001b[0m \u001b[1m1s\u001b[0m 9ms/step - accuracy: 0.9662 - loss: 0.1195 - val_accuracy: 0.9450 - val_loss: 0.3359 - learning_rate: 0.0010\n",
            "Epoch 27/50\n",
            "\u001b[1m85/88\u001b[0m \u001b[32m━━━━━━━━━━━━━━━━━━━\u001b[0m\u001b[37m━\u001b[0m \u001b[1m0s\u001b[0m 8ms/step - accuracy: 0.9590 - loss: 0.1174\n",
            "Epoch 27: val_accuracy did not improve from 0.94500\n",
            "\u001b[1m88/88\u001b[0m \u001b[32m━━━━━━━━━━━━━━━━━━━━\u001b[0m\u001b[37m\u001b[0m \u001b[1m1s\u001b[0m 9ms/step - accuracy: 0.9582 - loss: 0.1194 - val_accuracy: 0.7150 - val_loss: 1.0968 - learning_rate: 0.0010\n",
            "Epoch 28/50\n",
            "\u001b[1m85/88\u001b[0m \u001b[32m━━━━━━━━━━━━━━━━━━━\u001b[0m\u001b[37m━\u001b[0m \u001b[1m0s\u001b[0m 8ms/step - accuracy: 0.8433 - loss: 0.4949\n",
            "Epoch 28: val_accuracy did not improve from 0.94500\n",
            "\u001b[1m88/88\u001b[0m \u001b[32m━━━━━━━━━━━━━━━━━━━━\u001b[0m\u001b[37m\u001b[0m \u001b[1m1s\u001b[0m 9ms/step - accuracy: 0.8452 - loss: 0.4886 - val_accuracy: 0.8850 - val_loss: 0.5953 - learning_rate: 0.0010\n",
            "Epoch 29/50\n",
            "\u001b[1m85/88\u001b[0m \u001b[32m━━━━━━━━━━━━━━━━━━━\u001b[0m\u001b[37m━\u001b[0m \u001b[1m0s\u001b[0m 8ms/step - accuracy: 0.9387 - loss: 0.1986\n",
            "Epoch 29: val_accuracy did not improve from 0.94500\n",
            "\u001b[1m88/88\u001b[0m \u001b[32m━━━━━━━━━━━━━━━━━━━━\u001b[0m\u001b[37m\u001b[0m \u001b[1m1s\u001b[0m 9ms/step - accuracy: 0.9387 - loss: 0.1979 - val_accuracy: 0.8600 - val_loss: 0.5009 - learning_rate: 0.0010\n",
            "Epoch 30/50\n",
            "\u001b[1m85/88\u001b[0m \u001b[32m━━━━━━━━━━━━━━━━━━━\u001b[0m\u001b[37m━\u001b[0m \u001b[1m0s\u001b[0m 8ms/step - accuracy: 0.9491 - loss: 0.1378\n",
            "Epoch 30: val_accuracy did not improve from 0.94500\n",
            "\u001b[1m88/88\u001b[0m \u001b[32m━━━━━━━━━━━━━━━━━━━━\u001b[0m\u001b[37m\u001b[0m \u001b[1m1s\u001b[0m 9ms/step - accuracy: 0.9492 - loss: 0.1377 - val_accuracy: 0.9000 - val_loss: 0.3856 - learning_rate: 0.0010\n",
            "Epoch 31/50\n",
            "\u001b[1m85/88\u001b[0m \u001b[32m━━━━━━━━━━━━━━━━━━━\u001b[0m\u001b[37m━\u001b[0m \u001b[1m0s\u001b[0m 8ms/step - accuracy: 0.9638 - loss: 0.1363\n",
            "Epoch 31: val_accuracy did not improve from 0.94500\n",
            "\u001b[1m88/88\u001b[0m \u001b[32m━━━━━━━━━━━━━━━━━━━━\u001b[0m\u001b[37m\u001b[0m \u001b[1m1s\u001b[0m 9ms/step - accuracy: 0.9633 - loss: 0.1369 - val_accuracy: 0.9250 - val_loss: 0.3482 - learning_rate: 0.0010\n",
            "Epoch 32/50\n",
            "\u001b[1m85/88\u001b[0m \u001b[32m━━━━━━━━━━━━━━━━━━━\u001b[0m\u001b[37m━\u001b[0m \u001b[1m0s\u001b[0m 8ms/step - accuracy: 0.9841 - loss: 0.0744\n",
            "Epoch 32: val_accuracy improved from 0.94500 to 0.96000, saving model to best_video_model.h5\n"
          ]
        },
        {
          "output_type": "stream",
          "name": "stderr",
          "text": [
            "WARNING:absl:You are saving your model as an HDF5 file via `model.save()` or `keras.saving.save_model(model)`. This file format is considered legacy. We recommend using instead the native Keras format, e.g. `model.save('my_model.keras')` or `keras.saving.save_model(model, 'my_model.keras')`. \n"
          ]
        },
        {
          "output_type": "stream",
          "name": "stdout",
          "text": [
            "\b\b\b\b\b\b\b\b\b\b\b\b\b\b\b\b\b\b\b\b\b\b\b\b\b\b\b\b\b\b\b\b\b\b\b\b\b\b\b\b\b\b\b\b\b\b\b\b\b\b\b\b\b\b\b\b\b\b\b\b\b\b\b\b\b\b\b\b\b\b\b\b\r\u001b[1m88/88\u001b[0m \u001b[32m━━━━━━━━━━━━━━━━━━━━\u001b[0m\u001b[37m\u001b[0m \u001b[1m1s\u001b[0m 9ms/step - accuracy: 0.9844 - loss: 0.0735 - val_accuracy: 0.9600 - val_loss: 0.2745 - learning_rate: 2.0000e-04\n",
            "Epoch 33/50\n",
            "\u001b[1m85/88\u001b[0m \u001b[32m━━━━━━━━━━━━━━━━━━━\u001b[0m\u001b[37m━\u001b[0m \u001b[1m0s\u001b[0m 8ms/step - accuracy: 0.9863 - loss: 0.0608\n",
            "Epoch 33: val_accuracy did not improve from 0.96000\n",
            "\u001b[1m88/88\u001b[0m \u001b[32m━━━━━━━━━━━━━━━━━━━━\u001b[0m\u001b[37m\u001b[0m \u001b[1m1s\u001b[0m 9ms/step - accuracy: 0.9865 - loss: 0.0603 - val_accuracy: 0.9600 - val_loss: 0.2684 - learning_rate: 2.0000e-04\n",
            "Epoch 34/50\n",
            "\u001b[1m85/88\u001b[0m \u001b[32m━━━━━━━━━━━━━━━━━━━\u001b[0m\u001b[37m━\u001b[0m \u001b[1m0s\u001b[0m 8ms/step - accuracy: 0.9931 - loss: 0.0326\n",
            "Epoch 34: val_accuracy did not improve from 0.96000\n",
            "\u001b[1m88/88\u001b[0m \u001b[32m━━━━━━━━━━━━━━━━━━━━\u001b[0m\u001b[37m\u001b[0m \u001b[1m1s\u001b[0m 9ms/step - accuracy: 0.9930 - loss: 0.0327 - val_accuracy: 0.9600 - val_loss: 0.2603 - learning_rate: 2.0000e-04\n",
            "Epoch 35/50\n",
            "\u001b[1m85/88\u001b[0m \u001b[32m━━━━━━━━━━━━━━━━━━━\u001b[0m\u001b[37m━\u001b[0m \u001b[1m0s\u001b[0m 8ms/step - accuracy: 0.9950 - loss: 0.0246\n",
            "Epoch 35: val_accuracy did not improve from 0.96000\n",
            "\u001b[1m88/88\u001b[0m \u001b[32m━━━━━━━━━━━━━━━━━━━━\u001b[0m\u001b[37m\u001b[0m \u001b[1m1s\u001b[0m 9ms/step - accuracy: 0.9949 - loss: 0.0247 - val_accuracy: 0.9600 - val_loss: 0.2572 - learning_rate: 2.0000e-04\n",
            "Epoch 36/50\n",
            "\u001b[1m84/88\u001b[0m \u001b[32m━━━━━━━━━━━━━━━━━━━\u001b[0m\u001b[37m━\u001b[0m \u001b[1m0s\u001b[0m 8ms/step - accuracy: 0.9977 - loss: 0.0253\n",
            "Epoch 36: val_accuracy improved from 0.96000 to 0.96500, saving model to best_video_model.h5\n"
          ]
        },
        {
          "output_type": "stream",
          "name": "stderr",
          "text": [
            "WARNING:absl:You are saving your model as an HDF5 file via `model.save()` or `keras.saving.save_model(model)`. This file format is considered legacy. We recommend using instead the native Keras format, e.g. `model.save('my_model.keras')` or `keras.saving.save_model(model, 'my_model.keras')`. \n"
          ]
        },
        {
          "output_type": "stream",
          "name": "stdout",
          "text": [
            "\b\b\b\b\b\b\b\b\b\b\b\b\b\b\b\b\b\b\b\b\b\b\b\b\b\b\b\b\b\b\b\b\b\b\b\b\b\b\b\b\b\b\b\b\b\b\b\b\b\b\b\b\b\b\b\b\b\b\b\b\b\b\b\b\b\b\b\b\b\b\b\b\r\u001b[1m88/88\u001b[0m \u001b[32m━━━━━━━━━━━━━━━━━━━━\u001b[0m\u001b[37m\u001b[0m \u001b[1m1s\u001b[0m 10ms/step - accuracy: 0.9977 - loss: 0.0252 - val_accuracy: 0.9650 - val_loss: 0.2592 - learning_rate: 2.0000e-04\n",
            "Epoch 37/50\n",
            "\u001b[1m85/88\u001b[0m \u001b[32m━━━━━━━━━━━━━━━━━━━\u001b[0m\u001b[37m━\u001b[0m \u001b[1m0s\u001b[0m 8ms/step - accuracy: 0.9961 - loss: 0.0265\n",
            "Epoch 37: val_accuracy did not improve from 0.96500\n",
            "\u001b[1m88/88\u001b[0m \u001b[32m━━━━━━━━━━━━━━━━━━━━\u001b[0m\u001b[37m\u001b[0m \u001b[1m1s\u001b[0m 9ms/step - accuracy: 0.9960 - loss: 0.0267 - val_accuracy: 0.9650 - val_loss: 0.2580 - learning_rate: 2.0000e-04\n",
            "Epoch 38/50\n",
            "\u001b[1m84/88\u001b[0m \u001b[32m━━━━━━━━━━━━━━━━━━━\u001b[0m\u001b[37m━\u001b[0m \u001b[1m0s\u001b[0m 8ms/step - accuracy: 0.9922 - loss: 0.0303\n",
            "Epoch 38: val_accuracy did not improve from 0.96500\n",
            "\u001b[1m88/88\u001b[0m \u001b[32m━━━━━━━━━━━━━━━━━━━━\u001b[0m\u001b[37m\u001b[0m \u001b[1m1s\u001b[0m 9ms/step - accuracy: 0.9923 - loss: 0.0300 - val_accuracy: 0.9550 - val_loss: 0.2721 - learning_rate: 2.0000e-04\n",
            "Epoch 39/50\n",
            "\u001b[1m85/88\u001b[0m \u001b[32m━━━━━━━━━━━━━━━━━━━\u001b[0m\u001b[37m━\u001b[0m \u001b[1m0s\u001b[0m 8ms/step - accuracy: 0.9969 - loss: 0.0230\n",
            "Epoch 39: val_accuracy did not improve from 0.96500\n",
            "\u001b[1m88/88\u001b[0m \u001b[32m━━━━━━━━━━━━━━━━━━━━\u001b[0m\u001b[37m\u001b[0m \u001b[1m1s\u001b[0m 9ms/step - accuracy: 0.9969 - loss: 0.0229 - val_accuracy: 0.9600 - val_loss: 0.2559 - learning_rate: 2.0000e-04\n",
            "Epoch 40/50\n",
            "\u001b[1m85/88\u001b[0m \u001b[32m━━━━━━━━━━━━━━━━━━━\u001b[0m\u001b[37m━\u001b[0m \u001b[1m0s\u001b[0m 8ms/step - accuracy: 0.9979 - loss: 0.0159\n",
            "Epoch 40: val_accuracy did not improve from 0.96500\n",
            "\u001b[1m88/88\u001b[0m \u001b[32m━━━━━━━━━━━━━━━━━━━━\u001b[0m\u001b[37m\u001b[0m \u001b[1m1s\u001b[0m 9ms/step - accuracy: 0.9979 - loss: 0.0159 - val_accuracy: 0.9650 - val_loss: 0.2524 - learning_rate: 2.0000e-04\n",
            "Epoch 41/50\n",
            "\u001b[1m84/88\u001b[0m \u001b[32m━━━━━━━━━━━━━━━━━━━\u001b[0m\u001b[37m━\u001b[0m \u001b[1m0s\u001b[0m 8ms/step - accuracy: 0.9967 - loss: 0.0182\n",
            "Epoch 41: val_accuracy improved from 0.96500 to 0.97000, saving model to best_video_model.h5\n"
          ]
        },
        {
          "output_type": "stream",
          "name": "stderr",
          "text": [
            "WARNING:absl:You are saving your model as an HDF5 file via `model.save()` or `keras.saving.save_model(model)`. This file format is considered legacy. We recommend using instead the native Keras format, e.g. `model.save('my_model.keras')` or `keras.saving.save_model(model, 'my_model.keras')`. \n"
          ]
        },
        {
          "output_type": "stream",
          "name": "stdout",
          "text": [
            "\b\b\b\b\b\b\b\b\b\b\b\b\b\b\b\b\b\b\b\b\b\b\b\b\b\b\b\b\b\b\b\b\b\b\b\b\b\b\b\b\b\b\b\b\b\b\b\b\b\b\b\b\b\b\b\b\b\b\b\b\b\b\b\b\b\b\b\b\b\b\b\b\r\u001b[1m88/88\u001b[0m \u001b[32m━━━━━━━━━━━━━━━━━━━━\u001b[0m\u001b[37m\u001b[0m \u001b[1m1s\u001b[0m 9ms/step - accuracy: 0.9968 - loss: 0.0182 - val_accuracy: 0.9700 - val_loss: 0.2626 - learning_rate: 2.0000e-04\n",
            "Epoch 42/50\n",
            "\u001b[1m85/88\u001b[0m \u001b[32m━━━━━━━━━━━━━━━━━━━\u001b[0m\u001b[37m━\u001b[0m \u001b[1m0s\u001b[0m 7ms/step - accuracy: 0.9973 - loss: 0.0165\n",
            "Epoch 42: val_accuracy did not improve from 0.97000\n",
            "\u001b[1m88/88\u001b[0m \u001b[32m━━━━━━━━━━━━━━━━━━━━\u001b[0m\u001b[37m\u001b[0m \u001b[1m1s\u001b[0m 9ms/step - accuracy: 0.9973 - loss: 0.0166 - val_accuracy: 0.9700 - val_loss: 0.2648 - learning_rate: 2.0000e-04\n",
            "Epoch 43/50\n",
            "\u001b[1m85/88\u001b[0m \u001b[32m━━━━━━━━━━━━━━━━━━━\u001b[0m\u001b[37m━\u001b[0m \u001b[1m0s\u001b[0m 8ms/step - accuracy: 0.9983 - loss: 0.0148\n",
            "Epoch 43: val_accuracy did not improve from 0.97000\n",
            "\u001b[1m88/88\u001b[0m \u001b[32m━━━━━━━━━━━━━━━━━━━━\u001b[0m\u001b[37m\u001b[0m \u001b[1m1s\u001b[0m 9ms/step - accuracy: 0.9983 - loss: 0.0148 - val_accuracy: 0.9600 - val_loss: 0.2689 - learning_rate: 2.0000e-04\n",
            "Epoch 44/50\n",
            "\u001b[1m84/88\u001b[0m \u001b[32m━━━━━━━━━━━━━━━━━━━\u001b[0m\u001b[37m━\u001b[0m \u001b[1m0s\u001b[0m 8ms/step - accuracy: 0.9997 - loss: 0.0096\n",
            "Epoch 44: val_accuracy improved from 0.97000 to 0.97500, saving model to best_video_model.h5\n"
          ]
        },
        {
          "output_type": "stream",
          "name": "stderr",
          "text": [
            "WARNING:absl:You are saving your model as an HDF5 file via `model.save()` or `keras.saving.save_model(model)`. This file format is considered legacy. We recommend using instead the native Keras format, e.g. `model.save('my_model.keras')` or `keras.saving.save_model(model, 'my_model.keras')`. \n"
          ]
        },
        {
          "output_type": "stream",
          "name": "stdout",
          "text": [
            "\b\b\b\b\b\b\b\b\b\b\b\b\b\b\b\b\b\b\b\b\b\b\b\b\b\b\b\b\b\b\b\b\b\b\b\b\b\b\b\b\b\b\b\b\b\b\b\b\b\b\b\b\b\b\b\b\b\b\b\b\b\b\b\b\b\b\b\b\b\b\b\b\r\u001b[1m88/88\u001b[0m \u001b[32m━━━━━━━━━━━━━━━━━━━━\u001b[0m\u001b[37m\u001b[0m \u001b[1m1s\u001b[0m 9ms/step - accuracy: 0.9997 - loss: 0.0097 - val_accuracy: 0.9750 - val_loss: 0.2627 - learning_rate: 2.0000e-04\n",
            "Epoch 45/50\n",
            "\u001b[1m85/88\u001b[0m \u001b[32m━━━━━━━━━━━━━━━━━━━\u001b[0m\u001b[37m━\u001b[0m \u001b[1m0s\u001b[0m 8ms/step - accuracy: 0.9953 - loss: 0.0118\n",
            "Epoch 45: val_accuracy did not improve from 0.97500\n",
            "\u001b[1m88/88\u001b[0m \u001b[32m━━━━━━━━━━━━━━━━━━━━\u001b[0m\u001b[37m\u001b[0m \u001b[1m1s\u001b[0m 9ms/step - accuracy: 0.9953 - loss: 0.0118 - val_accuracy: 0.9650 - val_loss: 0.2642 - learning_rate: 2.0000e-04\n",
            "Epoch 46/50\n",
            "\u001b[1m85/88\u001b[0m \u001b[32m━━━━━━━━━━━━━━━━━━━\u001b[0m\u001b[37m━\u001b[0m \u001b[1m0s\u001b[0m 8ms/step - accuracy: 0.9986 - loss: 0.0145\n",
            "Epoch 46: val_accuracy did not improve from 0.97500\n",
            "\u001b[1m88/88\u001b[0m \u001b[32m━━━━━━━━━━━━━━━━━━━━\u001b[0m\u001b[37m\u001b[0m \u001b[1m1s\u001b[0m 9ms/step - accuracy: 0.9986 - loss: 0.0145 - val_accuracy: 0.9600 - val_loss: 0.2800 - learning_rate: 4.0000e-05\n",
            "Epoch 47/50\n",
            "\u001b[1m85/88\u001b[0m \u001b[32m━━━━━━━━━━━━━━━━━━━\u001b[0m\u001b[37m━\u001b[0m \u001b[1m0s\u001b[0m 8ms/step - accuracy: 1.0000 - loss: 0.0087\n",
            "Epoch 47: val_accuracy did not improve from 0.97500\n",
            "\u001b[1m88/88\u001b[0m \u001b[32m━━━━━━━━━━━━━━━━━━━━\u001b[0m\u001b[37m\u001b[0m \u001b[1m1s\u001b[0m 9ms/step - accuracy: 1.0000 - loss: 0.0087 - val_accuracy: 0.9650 - val_loss: 0.2741 - learning_rate: 4.0000e-05\n",
            "Epoch 48/50\n",
            "\u001b[1m85/88\u001b[0m \u001b[32m━━━━━━━━━━━━━━━━━━━\u001b[0m\u001b[37m━\u001b[0m \u001b[1m0s\u001b[0m 8ms/step - accuracy: 0.9988 - loss: 0.0092\n",
            "Epoch 48: val_accuracy did not improve from 0.97500\n",
            "\u001b[1m88/88\u001b[0m \u001b[32m━━━━━━━━━━━━━━━━━━━━\u001b[0m\u001b[37m\u001b[0m \u001b[1m1s\u001b[0m 9ms/step - accuracy: 0.9987 - loss: 0.0093 - val_accuracy: 0.9550 - val_loss: 0.2660 - learning_rate: 4.0000e-05\n",
            "Epoch 49/50\n",
            "\u001b[1m85/88\u001b[0m \u001b[32m━━━━━━━━━━━━━━━━━━━\u001b[0m\u001b[37m━\u001b[0m \u001b[1m0s\u001b[0m 8ms/step - accuracy: 0.9999 - loss: 0.0083\n",
            "Epoch 49: val_accuracy did not improve from 0.97500\n",
            "\u001b[1m88/88\u001b[0m \u001b[32m━━━━━━━━━━━━━━━━━━━━\u001b[0m\u001b[37m\u001b[0m \u001b[1m1s\u001b[0m 9ms/step - accuracy: 0.9999 - loss: 0.0083 - val_accuracy: 0.9550 - val_loss: 0.2637 - learning_rate: 4.0000e-05\n",
            "Epoch 50/50\n",
            "\u001b[1m84/88\u001b[0m \u001b[32m━━━━━━━━━━━━━━━━━━━\u001b[0m\u001b[37m━\u001b[0m \u001b[1m0s\u001b[0m 8ms/step - accuracy: 0.9997 - loss: 0.0082\n",
            "Epoch 50: val_accuracy did not improve from 0.97500\n",
            "\u001b[1m88/88\u001b[0m \u001b[32m━━━━━━━━━━━━━━━━━━━━\u001b[0m\u001b[37m\u001b[0m \u001b[1m1s\u001b[0m 9ms/step - accuracy: 0.9996 - loss: 0.0083 - val_accuracy: 0.9550 - val_loss: 0.2654 - learning_rate: 4.0000e-05\n"
          ]
        }
      ]
    },
    {
      "cell_type": "markdown",
      "source": [
        "## 6. Evaluasi Model"
      ],
      "metadata": {
        "id": "6sSf0DSmvKba"
      }
    },
    {
      "cell_type": "code",
      "source": [
        "# 6.1 Plot training history\n",
        "def plot_training_history(history, title=\"Training History\"):\n",
        "    \"\"\"\n",
        "    Plot grafik training history\n",
        "\n",
        "    Args:\n",
        "        history: History object dari Keras\n",
        "        title: Judul plot\n",
        "    \"\"\"\n",
        "    plt.figure(figsize=(12, 5))\n",
        "\n",
        "    # Plot accuracy\n",
        "    plt.subplot(1, 2, 1)\n",
        "    plt.plot(history.history['accuracy'], label='Training Accuracy')\n",
        "    plt.plot(history.history['val_accuracy'], label='Validation Accuracy')\n",
        "    plt.xlabel('Epoch')\n",
        "    plt.ylabel('Accuracy')\n",
        "    plt.legend()\n",
        "    plt.grid(True)\n",
        "\n",
        "    # Plot loss\n",
        "    plt.subplot(1, 2, 2)\n",
        "    plt.plot(history.history['loss'], label='Training Loss')\n",
        "    plt.plot(history.history['val_loss'], label='Validation Loss')\n",
        "    plt.xlabel('Epoch')\n",
        "    plt.ylabel('Loss')\n",
        "    plt.legend()\n",
        "    plt.grid(True)\n",
        "\n",
        "    plt.suptitle(title)\n",
        "    plt.tight_layout()\n",
        "    plt.show()\n",
        "\n",
        "# Plot histories\n",
        "print(\"Hasil training model CNN gambar:\")\n",
        "plot_training_history(image_history, \"Training History - Image CNN Model\")\n",
        "\n",
        "print(\"\\nHasil training model landmark:\")\n",
        "plot_training_history(landmark_history, \"Training History - Landmark Model\")\n",
        "\n",
        "print(\"\\nHasil training model video:\")\n",
        "plot_training_history(video_history, \"Training History - Video Model\")\n",
        "\n",
        "# 6.2 Evaluasi model pada data test\n",
        "print(\"Evaluasi model CNN gambar:\")\n",
        "image_evaluation = image_model.evaluate(X_test, y_test)\n",
        "print(f\"Test loss: {image_evaluation[0]:.4f}\")\n",
        "print(f\"Test accuracy: {image_evaluation[1]:.4f}\")\n",
        "\n",
        "print(\"\\nEvaluasi model landmark:\")\n",
        "landmark_evaluation = landmark_model.evaluate(X_landmarks_test, y_landmarks_test)\n",
        "print(f\"Test loss: {landmark_evaluation[0]:.4f}\")\n",
        "print(f\"Test accuracy: {landmark_evaluation[1]:.4f}\")\n",
        "\n",
        "print(\"\\nEvaluasi model video:\")\n",
        "video_evaluation = video_model.evaluate(X_video_test, y_video_test)\n",
        "print(f\"Test loss: {video_evaluation[0]:.4f}\")\n",
        "print(f\"Test accuracy: {video_evaluation[1]:.4f}\")\n",
        "\n",
        "# 6.3 Confusion Matrix dan Classification Report\n",
        "def evaluate_model(model, X_test, y_test, class_names, title=\"Model Evaluation\"):\n",
        "    \"\"\"\n",
        "    Evaluasi model dengan confusion matrix dan classification report\n",
        "\n",
        "    Args:\n",
        "        model: Model Keras yang ingin dievaluasi\n",
        "        X_test: Data test\n",
        "        y_test: Label test (one-hot encoded)\n",
        "        class_names: Nama kelas\n",
        "        title: Judul evaluasi\n",
        "    \"\"\"\n",
        "    # Prediksi\n",
        "    y_pred = model.predict(X_test)\n",
        "    y_pred_classes = np.argmax(y_pred, axis=1)\n",
        "    y_true_classes = np.argmax(y_test, axis=1)\n",
        "\n",
        "    # Classification report\n",
        "    print(f\"\\n{title} - Classification Report:\")\n",
        "    print(classification_report(y_true_classes, y_pred_classes, target_names=class_names))\n",
        "\n",
        "    # Confusion Matrix (hanya tampilkan jika jumlah kelas < 20 untuk keterbacaan)\n",
        "    if len(class_names) < 20:\n",
        "        conf_mat = confusion_matrix(y_true_classes, y_pred_classes)\n",
        "        plt.figure(figsize=(10, 8))\n",
        "        plt.imshow(conf_mat, cmap='Blues')\n",
        "        plt.colorbar()\n",
        "        plt.xlabel('Predicted Label')\n",
        "        plt.ylabel('True Label')\n",
        "        plt.title(f'{title} - Confusion Matrix')\n",
        "\n",
        "        # Tambahkan label\n",
        "        tick_marks = np.arange(len(class_names))\n",
        "        plt.xticks(tick_marks, class_names, rotation=90)\n",
        "        plt.yticks(tick_marks, class_names)\n",
        "\n",
        "        # Tambahkan nilai\n",
        "        thresh = conf_mat.max() / 2\n",
        "        for i in range(conf_mat.shape[0]):\n",
        "            for j in range(conf_mat.shape[1]):\n",
        "                plt.text(j, i, format(conf_mat[i, j], 'd'),\n",
        "                        ha=\"center\", va=\"center\",\n",
        "                        color=\"white\" if conf_mat[i, j] > thresh else \"black\")\n",
        "\n",
        "        plt.tight_layout()\n",
        "        plt.show()\n",
        "\n",
        "# Evaluasi detail untuk setiap model\n",
        "evaluate_model(image_model, X_test, y_test, class_names, \"Image CNN Model\")\n",
        "evaluate_model(landmark_model, X_landmarks_test, y_landmarks_test, class_names, \"Landmark Model\")\n",
        "evaluate_model(video_model, X_video_test, y_video_test, video_class_names, \"Video Model\")"
      ],
      "metadata": {
        "colab": {
          "base_uri": "https://localhost:8080/",
          "height": 1000
        },
        "id": "_avrHwsQtboU",
        "outputId": "d38fe365-ca1c-4087-fdc6-22e37f14458d"
      },
      "execution_count": null,
      "outputs": [
        {
          "output_type": "stream",
          "name": "stdout",
          "text": [
            "Hasil training model CNN gambar:\n"
          ]
        },
        {
          "output_type": "display_data",
          "data": {
            "text/plain": [
              "<Figure size 1200x500 with 2 Axes>"
            ],
            "image/png": "[encoded data removed]"
          },
          "metadata": {}
        },
        {
          "output_type": "stream",
          "name": "stdout",
          "text": [
            "\n",
            "Hasil training model landmark:\n"
          ]
        },
        {
          "output_type": "display_data",
          "data": {
            "text/plain": [
              "<Figure size 1200x500 with 2 Axes>"
            ],
            "image/png": "[encoded data removed]"
          },
          "metadata": {}
        },
        {
          "output_type": "stream",
          "name": "stdout",
          "text": [
            "\n",
            "Hasil training model video:\n"
          ]
        },
        {
          "output_type": "display_data",
          "data": {
            "text/plain": [
              "<Figure size 1200x500 with 2 Axes>"
            ],
            "image/png": "[encoded data removed]"
          },
          "metadata": {}
        },
        {
          "output_type": "stream",
          "name": "stdout",
          "text": [
            "Evaluasi model CNN gambar:\n",
            "\u001b[1m50/50\u001b[0m \u001b[32m━━━━━━━━━━━━━━━━━━━━\u001b[0m\u001b[37m\u001b[0m \u001b[1m8s\u001b[0m 156ms/step - accuracy: 0.9984 - loss: 0.0078\n",
            "Test loss: 0.0091\n",
            "Test accuracy: 0.9981\n",
            "\n",
            "Evaluasi model landmark:\n",
            "\u001b[1m50/50\u001b[0m \u001b[32m━━━━━━━━━━━━━━━━━━━━\u001b[0m\u001b[37m\u001b[0m \u001b[1m2s\u001b[0m 50ms/step - accuracy: 0.8867 - loss: 0.3510\n",
            "Test loss: 0.3560\n",
            "Test accuracy: 0.8858\n",
            "\n",
            "Evaluasi model video:\n",
            "\u001b[1m13/13\u001b[0m \u001b[32m━━━━━━━━━━━━━━━━━━━━\u001b[0m\u001b[37m\u001b[0m \u001b[1m0s\u001b[0m 5ms/step - accuracy: 0.9566 - loss: 0.1755 \n",
            "Test loss: 0.1917\n",
            "Test accuracy: 0.9550\n",
            "\u001b[1m50/50\u001b[0m \u001b[32m━━━━━━━━━━━━━━━━━━━━\u001b[0m\u001b[37m\u001b[0m \u001b[1m8s\u001b[0m 88ms/step\n",
            "\n",
            "Image CNN Model - Classification Report:\n",
            "              precision    recall  f1-score   support\n",
            "\n",
            "           A       1.00      0.98      0.99        48\n",
            "           B       1.00      1.00      1.00        65\n",
            "           C       1.00      1.00      1.00        69\n",
            "           D       1.00      1.00      1.00        75\n",
            "           E       1.00      1.00      1.00        65\n",
            "           F       1.00      1.00      1.00        64\n",
            "           G       1.00      1.00      1.00        65\n",
            "           H       1.00      1.00      1.00        56\n",
            "           I       1.00      1.00      1.00        73\n",
            "           J       0.98      1.00      0.99        63\n",
            "           K       1.00      1.00      1.00        59\n",
            "           L       1.00      1.00      1.00        59\n",
            "           M       1.00      1.00      1.00        63\n",
            "           N       1.00      1.00      1.00        63\n",
            "           O       1.00      1.00      1.00        62\n",
            "           P       0.99      1.00      0.99        78\n",
            "           Q       1.00      0.98      0.99        42\n",
            "           R       1.00      1.00      1.00        69\n",
            "           S       1.00      1.00      1.00        73\n",
            "           T       1.00      1.00      1.00        48\n",
            "           U       1.00      1.00      1.00        67\n",
            "           V       0.99      1.00      0.99        69\n",
            "           W       1.00      1.00      1.00        53\n",
            "           X       1.00      1.00      1.00        47\n",
            "           Y       1.00      1.00      1.00        46\n",
            "           Z       1.00      0.98      0.99        53\n",
            "\n",
            "    accuracy                           1.00      1594\n",
            "   macro avg       1.00      1.00      1.00      1594\n",
            "weighted avg       1.00      1.00      1.00      1594\n",
            "\n",
            "\u001b[1m50/50\u001b[0m \u001b[32m━━━━━━━━━━━━━━━━━━━━\u001b[0m\u001b[37m\u001b[0m \u001b[1m1s\u001b[0m 13ms/step\n",
            "\n",
            "Landmark Model - Classification Report:\n",
            "              precision    recall  f1-score   support\n",
            "\n",
            "           A       0.97      0.79      0.87        48\n",
            "           B       0.90      0.80      0.85        65\n",
            "           C       0.85      0.84      0.85        69\n",
            "           D       0.69      0.75      0.72        75\n",
            "           E       0.87      0.94      0.90        65\n",
            "           F       0.98      0.88      0.93        64\n",
            "           G       0.90      1.00      0.95        65\n",
            "           H       0.86      0.79      0.82        56\n",
            "           I       1.00      1.00      1.00        73\n",
            "           J       1.00      0.95      0.98        63\n",
            "           K       0.76      0.76      0.76        59\n",
            "           L       0.91      1.00      0.95        59\n",
            "           M       0.90      0.71      0.80        63\n",
            "           N       0.77      0.95      0.85        63\n",
            "           O       0.98      0.97      0.98        62\n",
            "           P       0.87      0.79      0.83        78\n",
            "           Q       1.00      0.86      0.92        42\n",
            "           R       0.94      0.94      0.94        69\n",
            "           S       0.84      0.74      0.79        73\n",
            "           T       0.64      0.94      0.76        48\n",
            "           U       0.97      0.99      0.98        67\n",
            "           V       1.00      0.99      0.99        69\n",
            "           W       0.98      0.92      0.95        53\n",
            "           X       0.70      0.89      0.79        47\n",
            "           Y       0.95      0.87      0.91        46\n",
            "           Z       0.98      1.00      0.99        53\n",
            "\n",
            "    accuracy                           0.89      1594\n",
            "   macro avg       0.89      0.89      0.89      1594\n",
            "weighted avg       0.89      0.89      0.89      1594\n",
            "\n",
            "\u001b[1m13/13\u001b[0m \u001b[32m━━━━━━━━━━━━━━━━━━━━\u001b[0m\u001b[37m\u001b[0m \u001b[1m0s\u001b[0m 18ms/step\n",
            "\n",
            "Video Model - Classification Report:\n",
            "               precision    recall  f1-score   support\n",
            "\n",
            "          Apa       1.00      1.00      1.00         7\n",
            "    Apa Kabar       1.00      1.00      1.00        11\n",
            "    Bagaimana       1.00      0.89      0.94         9\n",
            "         Baik       1.00      0.89      0.94         9\n",
            "      Belajar       1.00      1.00      1.00        11\n",
            "       Berapa       0.90      0.82      0.86        11\n",
            "      Berdiri       0.85      1.00      0.92        11\n",
            "      Bingung       1.00      0.93      0.96        14\n",
            "          Dia       0.90      1.00      0.95         9\n",
            "       Dimana       0.92      0.92      0.92        12\n",
            "        Duduk       0.88      0.58      0.70        12\n",
            "         Halo       1.00      1.00      1.00        13\n",
            "       Kalian       1.00      1.00      1.00        11\n",
            "         Kami       1.00      1.00      1.00         7\n",
            "         Kamu       1.00      1.00      1.00         7\n",
            "        Kapan       1.00      1.00      1.00        11\n",
            "       Kemana       1.00      1.00      1.00         7\n",
            "         Kita       0.90      1.00      0.95         9\n",
            "        Makan       1.00      0.90      0.95        10\n",
            "        Mandi       1.00      0.88      0.93         8\n",
            "        Marah       0.80      0.80      0.80         5\n",
            "      Melihat       0.91      1.00      0.95        10\n",
            "      Membaca       0.80      0.89      0.84         9\n",
            "      Menulis       0.77      1.00      0.87        10\n",
            "       Mereka       1.00      1.00      1.00         7\n",
            "        Minum       0.90      1.00      0.95         9\n",
            "       Pendek       1.00      1.00      1.00         9\n",
            "        Ramah       1.00      1.00      1.00         8\n",
            "        Sabar       1.00      1.00      1.00         9\n",
            "         Saya       1.00      1.00      1.00        12\n",
            "        Sedih       1.00      1.00      1.00        11\n",
            "Selamat Malam       1.00      1.00      1.00        12\n",
            " Selamat Pagi       0.93      0.93      0.93        14\n",
            "Selamat Siang       0.93      0.93      0.93        14\n",
            " Selamat Sore       1.00      1.00      1.00        11\n",
            "       Senang       0.89      0.89      0.89         9\n",
            "        Siapa       1.00      1.00      1.00        11\n",
            " Terima Kasih       1.00      1.00      1.00         7\n",
            "        Tidur       1.00      1.00      1.00        15\n",
            "       Tinggi       1.00      1.00      1.00         9\n",
            "\n",
            "     accuracy                           0.95       400\n",
            "    macro avg       0.96      0.96      0.95       400\n",
            " weighted avg       0.96      0.95      0.95       400\n",
            "\n"
          ]
        }
      ]
    },
    {
      "cell_type": "markdown",
      "source": [],
      "metadata": {
        "id": "c73uodfWc7qT"
      }
    },
    {
      "cell_type": "markdown",
      "source": [
        "## 7. Konversi Model untuk Deployment"
      ],
      "metadata": {
        "id": "FPpCZckAvM-R"
      }
    },
    {
      "cell_type": "code",
      "execution_count": null,
      "metadata": {
        "colab": {
          "base_uri": "https://localhost:8080/"
        },
        "id": "coUzyJjItLKq",
        "outputId": "c8a2d304-2b26-4397-e58d-fc16cefeeb12"
      },
      "outputs": [
        {
          "output_type": "stream",
          "name": "stderr",
          "text": [
            "WARNING:absl:You are saving your model as an HDF5 file via `model.save()` or `keras.saving.save_model(model)`. This file format is considered legacy. We recommend using instead the native Keras format, e.g. `model.save('my_model.keras')` or `keras.saving.save_model(model, 'my_model.keras')`. \n",
            "WARNING:absl:You are saving your model as an HDF5 file via `model.save()` or `keras.saving.save_model(model)`. This file format is considered legacy. We recommend using instead the native Keras format, e.g. `model.save('my_model.keras')` or `keras.saving.save_model(model, 'my_model.keras')`. \n",
            "WARNING:absl:You are saving your model as an HDF5 file via `model.save()` or `keras.saving.save_model(model)`. This file format is considered legacy. We recommend using instead the native Keras format, e.g. `model.save('my_model.keras')` or `keras.saving.save_model(model, 'my_model.keras')`. \n"
          ]
        },
        {
          "output_type": "stream",
          "name": "stdout",
          "text": [
            "Saved artifact at '/tmp/tmps088wnma'. The following endpoints are available:\n",
            "\n",
            "* Endpoint 'serve'\n",
            "  args_0 (POSITIONAL_ONLY): TensorSpec(shape=(None, 224, 224, 3), dtype=tf.float32, name='keras_tensor_308')\n",
            "Output Type:\n",
            "  TensorSpec(shape=(None, 26), dtype=tf.float32, name=None)\n",
            "Captures:\n",
            "  134222560518672: TensorSpec(shape=(), dtype=tf.resource, name=None)\n",
            "  134222560522320: TensorSpec(shape=(), dtype=tf.resource, name=None)\n",
            "  134225284937488: TensorSpec(shape=(), dtype=tf.resource, name=None)\n",
            "  134222560518864: TensorSpec(shape=(), dtype=tf.resource, name=None)\n",
            "  134222560510416: TensorSpec(shape=(), dtype=tf.resource, name=None)\n",
            "  134225284937296: TensorSpec(shape=(), dtype=tf.resource, name=None)\n",
            "  134220016534160: TensorSpec(shape=(), dtype=tf.resource, name=None)\n",
            "  134220016534544: TensorSpec(shape=(), dtype=tf.resource, name=None)\n",
            "  134225284935568: TensorSpec(shape=(), dtype=tf.resource, name=None)\n",
            "  134225284936912: TensorSpec(shape=(), dtype=tf.resource, name=None)\n",
            "  134220016535696: TensorSpec(shape=(), dtype=tf.resource, name=None)\n",
            "  134220016536080: TensorSpec(shape=(), dtype=tf.resource, name=None)\n",
            "  134220016536464: TensorSpec(shape=(), dtype=tf.resource, name=None)\n",
            "  134220016536272: TensorSpec(shape=(), dtype=tf.resource, name=None)\n",
            "  134220016533584: TensorSpec(shape=(), dtype=tf.resource, name=None)\n",
            "  134220016537616: TensorSpec(shape=(), dtype=tf.resource, name=None)\n",
            "  134220016538000: TensorSpec(shape=(), dtype=tf.resource, name=None)\n",
            "  134220016538384: TensorSpec(shape=(), dtype=tf.resource, name=None)\n",
            "  134220016538192: TensorSpec(shape=(), dtype=tf.resource, name=None)\n",
            "  134220016533968: TensorSpec(shape=(), dtype=tf.resource, name=None)\n",
            "  134220016539536: TensorSpec(shape=(), dtype=tf.resource, name=None)\n",
            "  134220016539920: TensorSpec(shape=(), dtype=tf.resource, name=None)\n",
            "  134220016540304: TensorSpec(shape=(), dtype=tf.resource, name=None)\n",
            "  134220016540112: TensorSpec(shape=(), dtype=tf.resource, name=None)\n",
            "  134220016535312: TensorSpec(shape=(), dtype=tf.resource, name=None)\n",
            "  134220016541456: TensorSpec(shape=(), dtype=tf.resource, name=None)\n",
            "  134220016541840: TensorSpec(shape=(), dtype=tf.resource, name=None)\n",
            "  134220016542224: TensorSpec(shape=(), dtype=tf.resource, name=None)\n",
            "  134220016542032: TensorSpec(shape=(), dtype=tf.resource, name=None)\n",
            "  134220016537232: TensorSpec(shape=(), dtype=tf.resource, name=None)\n",
            "  134220016543376: TensorSpec(shape=(), dtype=tf.resource, name=None)\n",
            "  134220016543760: TensorSpec(shape=(), dtype=tf.resource, name=None)\n",
            "  134220016544144: TensorSpec(shape=(), dtype=tf.resource, name=None)\n",
            "  134220016543952: TensorSpec(shape=(), dtype=tf.resource, name=None)\n",
            "  134220016539152: TensorSpec(shape=(), dtype=tf.resource, name=None)\n",
            "  134220016545296: TensorSpec(shape=(), dtype=tf.resource, name=None)\n",
            "  134220016545680: TensorSpec(shape=(), dtype=tf.resource, name=None)\n",
            "  134220016546064: TensorSpec(shape=(), dtype=tf.resource, name=None)\n",
            "  134220016545872: TensorSpec(shape=(), dtype=tf.resource, name=None)\n",
            "  134220016541072: TensorSpec(shape=(), dtype=tf.resource, name=None)\n",
            "  134220016547216: TensorSpec(shape=(), dtype=tf.resource, name=None)\n",
            "  134220016547600: TensorSpec(shape=(), dtype=tf.resource, name=None)\n",
            "  134220016547984: TensorSpec(shape=(), dtype=tf.resource, name=None)\n",
            "  134220016547792: TensorSpec(shape=(), dtype=tf.resource, name=None)\n",
            "  134220016542992: TensorSpec(shape=(), dtype=tf.resource, name=None)\n",
            "  134220016549136: TensorSpec(shape=(), dtype=tf.resource, name=None)\n",
            "  134220016549712: TensorSpec(shape=(), dtype=tf.resource, name=None)\n",
            "  134220016548368: TensorSpec(shape=(), dtype=tf.resource, name=None)\n",
            "  134220016549520: TensorSpec(shape=(), dtype=tf.resource, name=None)\n",
            "  134220016546832: TensorSpec(shape=(), dtype=tf.resource, name=None)\n",
            "  134220016354128: TensorSpec(shape=(), dtype=tf.resource, name=None)\n",
            "  134220016354896: TensorSpec(shape=(), dtype=tf.resource, name=None)\n",
            "  134220016355280: TensorSpec(shape=(), dtype=tf.resource, name=None)\n",
            "  134220016355088: TensorSpec(shape=(), dtype=tf.resource, name=None)\n",
            "  134220016354512: TensorSpec(shape=(), dtype=tf.resource, name=None)\n",
            "  134220016356432: TensorSpec(shape=(), dtype=tf.resource, name=None)\n",
            "  134220016356816: TensorSpec(shape=(), dtype=tf.resource, name=None)\n",
            "  134220016357200: TensorSpec(shape=(), dtype=tf.resource, name=None)\n",
            "  134220016357008: TensorSpec(shape=(), dtype=tf.resource, name=None)\n",
            "  134220016353552: TensorSpec(shape=(), dtype=tf.resource, name=None)\n",
            "  134220016358352: TensorSpec(shape=(), dtype=tf.resource, name=None)\n",
            "  134220016358736: TensorSpec(shape=(), dtype=tf.resource, name=None)\n",
            "  134220016359120: TensorSpec(shape=(), dtype=tf.resource, name=None)\n",
            "  134220016358928: TensorSpec(shape=(), dtype=tf.resource, name=None)\n",
            "  134220016353360: TensorSpec(shape=(), dtype=tf.resource, name=None)\n",
            "  134220016360272: TensorSpec(shape=(), dtype=tf.resource, name=None)\n",
            "  134220016360656: TensorSpec(shape=(), dtype=tf.resource, name=None)\n",
            "  134220016361040: TensorSpec(shape=(), dtype=tf.resource, name=None)\n",
            "  134220016360848: TensorSpec(shape=(), dtype=tf.resource, name=None)\n",
            "  134220016356048: TensorSpec(shape=(), dtype=tf.resource, name=None)\n",
            "  134220016362192: TensorSpec(shape=(), dtype=tf.resource, name=None)\n",
            "  134220016362576: TensorSpec(shape=(), dtype=tf.resource, name=None)\n",
            "  134220016362960: TensorSpec(shape=(), dtype=tf.resource, name=None)\n",
            "  134220016362768: TensorSpec(shape=(), dtype=tf.resource, name=None)\n",
            "  134220016357968: TensorSpec(shape=(), dtype=tf.resource, name=None)\n",
            "  134220016364112: TensorSpec(shape=(), dtype=tf.resource, name=None)\n",
            "  134220016364496: TensorSpec(shape=(), dtype=tf.resource, name=None)\n",
            "  134220016364880: TensorSpec(shape=(), dtype=tf.resource, name=None)\n",
            "  134220016364688: TensorSpec(shape=(), dtype=tf.resource, name=None)\n",
            "  134220016359888: TensorSpec(shape=(), dtype=tf.resource, name=None)\n",
            "  134220016366032: TensorSpec(shape=(), dtype=tf.resource, name=None)\n",
            "  134220016366416: TensorSpec(shape=(), dtype=tf.resource, name=None)\n",
            "  134220016366800: TensorSpec(shape=(), dtype=tf.resource, name=None)\n",
            "  134220016366608: TensorSpec(shape=(), dtype=tf.resource, name=None)\n",
            "  134220016361808: TensorSpec(shape=(), dtype=tf.resource, name=None)\n",
            "  134220016367952: TensorSpec(shape=(), dtype=tf.resource, name=None)\n",
            "  134220016368336: TensorSpec(shape=(), dtype=tf.resource, name=None)\n",
            "  134220016368720: TensorSpec(shape=(), dtype=tf.resource, name=None)\n",
            "  134220016368528: TensorSpec(shape=(), dtype=tf.resource, name=None)\n",
            "  134220016363728: TensorSpec(shape=(), dtype=tf.resource, name=None)\n",
            "  134220016367184: TensorSpec(shape=(), dtype=tf.resource, name=None)\n",
            "  134220016878224: TensorSpec(shape=(), dtype=tf.resource, name=None)\n",
            "  134220016877648: TensorSpec(shape=(), dtype=tf.resource, name=None)\n",
            "  134220016369488: TensorSpec(shape=(), dtype=tf.resource, name=None)\n",
            "  134220016365648: TensorSpec(shape=(), dtype=tf.resource, name=None)\n",
            "  134220016879760: TensorSpec(shape=(), dtype=tf.resource, name=None)\n",
            "  134220016880144: TensorSpec(shape=(), dtype=tf.resource, name=None)\n",
            "  134220016880528: TensorSpec(shape=(), dtype=tf.resource, name=None)\n",
            "  134220016880336: TensorSpec(shape=(), dtype=tf.resource, name=None)\n",
            "  134220016877840: TensorSpec(shape=(), dtype=tf.resource, name=None)\n",
            "  134220016881680: TensorSpec(shape=(), dtype=tf.resource, name=None)\n",
            "  134220016882064: TensorSpec(shape=(), dtype=tf.resource, name=None)\n",
            "  134220016882448: TensorSpec(shape=(), dtype=tf.resource, name=None)\n",
            "  134220016882256: TensorSpec(shape=(), dtype=tf.resource, name=None)\n",
            "  134220016878416: TensorSpec(shape=(), dtype=tf.resource, name=None)\n",
            "  134220016883600: TensorSpec(shape=(), dtype=tf.resource, name=None)\n",
            "  134220016883984: TensorSpec(shape=(), dtype=tf.resource, name=None)\n",
            "  134220016884368: TensorSpec(shape=(), dtype=tf.resource, name=None)\n",
            "  134220016884176: TensorSpec(shape=(), dtype=tf.resource, name=None)\n",
            "  134220016879376: TensorSpec(shape=(), dtype=tf.resource, name=None)\n",
            "  134220016885520: TensorSpec(shape=(), dtype=tf.resource, name=None)\n",
            "  134220016885904: TensorSpec(shape=(), dtype=tf.resource, name=None)\n",
            "  134220016886288: TensorSpec(shape=(), dtype=tf.resource, name=None)\n",
            "  134220016886096: TensorSpec(shape=(), dtype=tf.resource, name=None)\n",
            "  134220016881296: TensorSpec(shape=(), dtype=tf.resource, name=None)\n",
            "  134220016887440: TensorSpec(shape=(), dtype=tf.resource, name=None)\n",
            "  134220016887824: TensorSpec(shape=(), dtype=tf.resource, name=None)\n",
            "  134220016888208: TensorSpec(shape=(), dtype=tf.resource, name=None)\n",
            "  134220016888016: TensorSpec(shape=(), dtype=tf.resource, name=None)\n",
            "  134220016883216: TensorSpec(shape=(), dtype=tf.resource, name=None)\n",
            "  134220016889360: TensorSpec(shape=(), dtype=tf.resource, name=None)\n",
            "  134220016889744: TensorSpec(shape=(), dtype=tf.resource, name=None)\n",
            "  134220016890128: TensorSpec(shape=(), dtype=tf.resource, name=None)\n",
            "  134220016889936: TensorSpec(shape=(), dtype=tf.resource, name=None)\n",
            "  134220016885136: TensorSpec(shape=(), dtype=tf.resource, name=None)\n",
            "  134220016891280: TensorSpec(shape=(), dtype=tf.resource, name=None)\n",
            "  134220016891664: TensorSpec(shape=(), dtype=tf.resource, name=None)\n",
            "  134220016892048: TensorSpec(shape=(), dtype=tf.resource, name=None)\n",
            "  134220016891856: TensorSpec(shape=(), dtype=tf.resource, name=None)\n",
            "  134220016887056: TensorSpec(shape=(), dtype=tf.resource, name=None)\n",
            "  134220016893200: TensorSpec(shape=(), dtype=tf.resource, name=None)\n",
            "  134220016893776: TensorSpec(shape=(), dtype=tf.resource, name=None)\n",
            "  134220016892432: TensorSpec(shape=(), dtype=tf.resource, name=None)\n",
            "  134220016893584: TensorSpec(shape=(), dtype=tf.resource, name=None)\n",
            "  134220016890896: TensorSpec(shape=(), dtype=tf.resource, name=None)\n",
            "  134220217909520: TensorSpec(shape=(), dtype=tf.resource, name=None)\n",
            "  134220217910864: TensorSpec(shape=(), dtype=tf.resource, name=None)\n",
            "  134220217911248: TensorSpec(shape=(), dtype=tf.resource, name=None)\n",
            "  134220217911056: TensorSpec(shape=(), dtype=tf.resource, name=None)\n",
            "  134220217909712: TensorSpec(shape=(), dtype=tf.resource, name=None)\n",
            "  134220217912400: TensorSpec(shape=(), dtype=tf.resource, name=None)\n",
            "  134220217912784: TensorSpec(shape=(), dtype=tf.resource, name=None)\n",
            "  134220217913168: TensorSpec(shape=(), dtype=tf.resource, name=None)\n",
            "  134220217912976: TensorSpec(shape=(), dtype=tf.resource, name=None)\n",
            "  134220217910288: TensorSpec(shape=(), dtype=tf.resource, name=None)\n",
            "  134220217914320: TensorSpec(shape=(), dtype=tf.resource, name=None)\n",
            "  134220217914704: TensorSpec(shape=(), dtype=tf.resource, name=None)\n",
            "  134220217915088: TensorSpec(shape=(), dtype=tf.resource, name=None)\n",
            "  134220217914896: TensorSpec(shape=(), dtype=tf.resource, name=None)\n",
            "  134220217910480: TensorSpec(shape=(), dtype=tf.resource, name=None)\n",
            "  134220217916240: TensorSpec(shape=(), dtype=tf.resource, name=None)\n",
            "  134220217916624: TensorSpec(shape=(), dtype=tf.resource, name=None)\n",
            "  134220217917008: TensorSpec(shape=(), dtype=tf.resource, name=None)\n",
            "  134220217916816: TensorSpec(shape=(), dtype=tf.resource, name=None)\n",
            "  134220217912016: TensorSpec(shape=(), dtype=tf.resource, name=None)\n",
            "  134220217918160: TensorSpec(shape=(), dtype=tf.resource, name=None)\n",
            "  134220217918544: TensorSpec(shape=(), dtype=tf.resource, name=None)\n",
            "  134220217918928: TensorSpec(shape=(), dtype=tf.resource, name=None)\n",
            "  134220217918736: TensorSpec(shape=(), dtype=tf.resource, name=None)\n",
            "  134220217913936: TensorSpec(shape=(), dtype=tf.resource, name=None)\n",
            "  134220217920080: TensorSpec(shape=(), dtype=tf.resource, name=None)\n",
            "  134220217920464: TensorSpec(shape=(), dtype=tf.resource, name=None)\n",
            "  134220217920848: TensorSpec(shape=(), dtype=tf.resource, name=None)\n",
            "  134220217920656: TensorSpec(shape=(), dtype=tf.resource, name=None)\n",
            "  134220217915856: TensorSpec(shape=(), dtype=tf.resource, name=None)\n",
            "  134220217922000: TensorSpec(shape=(), dtype=tf.resource, name=None)\n",
            "  134220217922384: TensorSpec(shape=(), dtype=tf.resource, name=None)\n",
            "  134220217922768: TensorSpec(shape=(), dtype=tf.resource, name=None)\n",
            "  134220217922576: TensorSpec(shape=(), dtype=tf.resource, name=None)\n",
            "  134220217917776: TensorSpec(shape=(), dtype=tf.resource, name=None)\n",
            "  134220217923920: TensorSpec(shape=(), dtype=tf.resource, name=None)\n",
            "  134220217924304: TensorSpec(shape=(), dtype=tf.resource, name=None)\n",
            "  134220217924688: TensorSpec(shape=(), dtype=tf.resource, name=None)\n",
            "  134220217924496: TensorSpec(shape=(), dtype=tf.resource, name=None)\n",
            "  134220217919696: TensorSpec(shape=(), dtype=tf.resource, name=None)\n",
            "  134220217923152: TensorSpec(shape=(), dtype=tf.resource, name=None)\n",
            "  134220218286736: TensorSpec(shape=(), dtype=tf.resource, name=None)\n",
            "  134220218287120: TensorSpec(shape=(), dtype=tf.resource, name=None)\n",
            "  134220217925456: TensorSpec(shape=(), dtype=tf.resource, name=None)\n",
            "  134220217921616: TensorSpec(shape=(), dtype=tf.resource, name=None)\n",
            "  134220218288272: TensorSpec(shape=(), dtype=tf.resource, name=None)\n",
            "  134220218288656: TensorSpec(shape=(), dtype=tf.resource, name=None)\n",
            "  134220218289040: TensorSpec(shape=(), dtype=tf.resource, name=None)\n",
            "  134220218288848: TensorSpec(shape=(), dtype=tf.resource, name=None)\n",
            "  134220218286160: TensorSpec(shape=(), dtype=tf.resource, name=None)\n",
            "  134220218290192: TensorSpec(shape=(), dtype=tf.resource, name=None)\n",
            "  134220218290576: TensorSpec(shape=(), dtype=tf.resource, name=None)\n",
            "  134220218290960: TensorSpec(shape=(), dtype=tf.resource, name=None)\n",
            "  134220218290768: TensorSpec(shape=(), dtype=tf.resource, name=None)\n",
            "  134220218286544: TensorSpec(shape=(), dtype=tf.resource, name=None)\n",
            "  134220218292112: TensorSpec(shape=(), dtype=tf.resource, name=None)\n",
            "  134220218292496: TensorSpec(shape=(), dtype=tf.resource, name=None)\n",
            "  134220218292880: TensorSpec(shape=(), dtype=tf.resource, name=None)\n",
            "  134220218292688: TensorSpec(shape=(), dtype=tf.resource, name=None)\n",
            "  134220218287888: TensorSpec(shape=(), dtype=tf.resource, name=None)\n",
            "  134220218294032: TensorSpec(shape=(), dtype=tf.resource, name=None)\n",
            "  134220218294416: TensorSpec(shape=(), dtype=tf.resource, name=None)\n",
            "  134220218294800: TensorSpec(shape=(), dtype=tf.resource, name=None)\n",
            "  134220218294608: TensorSpec(shape=(), dtype=tf.resource, name=None)\n",
            "  134220218289808: TensorSpec(shape=(), dtype=tf.resource, name=None)\n",
            "  134220218295952: TensorSpec(shape=(), dtype=tf.resource, name=None)\n",
            "  134220218296336: TensorSpec(shape=(), dtype=tf.resource, name=None)\n",
            "  134220218296720: TensorSpec(shape=(), dtype=tf.resource, name=None)\n",
            "  134220218296528: TensorSpec(shape=(), dtype=tf.resource, name=None)\n",
            "  134220218291728: TensorSpec(shape=(), dtype=tf.resource, name=None)\n",
            "  134220218297872: TensorSpec(shape=(), dtype=tf.resource, name=None)\n",
            "  134220218298256: TensorSpec(shape=(), dtype=tf.resource, name=None)\n",
            "  134220218298640: TensorSpec(shape=(), dtype=tf.resource, name=None)\n",
            "  134220218298448: TensorSpec(shape=(), dtype=tf.resource, name=None)\n",
            "  134220218293648: TensorSpec(shape=(), dtype=tf.resource, name=None)\n",
            "  134220218299792: TensorSpec(shape=(), dtype=tf.resource, name=None)\n",
            "  134220218300176: TensorSpec(shape=(), dtype=tf.resource, name=None)\n",
            "  134220218300560: TensorSpec(shape=(), dtype=tf.resource, name=None)\n",
            "  134220218300368: TensorSpec(shape=(), dtype=tf.resource, name=None)\n",
            "  134220218295568: TensorSpec(shape=(), dtype=tf.resource, name=None)\n",
            "  134220218301712: TensorSpec(shape=(), dtype=tf.resource, name=None)\n",
            "  134220218302288: TensorSpec(shape=(), dtype=tf.resource, name=None)\n",
            "  134220218300944: TensorSpec(shape=(), dtype=tf.resource, name=None)\n",
            "  134220218302096: TensorSpec(shape=(), dtype=tf.resource, name=None)\n",
            "  134220218299408: TensorSpec(shape=(), dtype=tf.resource, name=None)\n",
            "  134219996119312: TensorSpec(shape=(), dtype=tf.resource, name=None)\n",
            "  134219996120656: TensorSpec(shape=(), dtype=tf.resource, name=None)\n",
            "  134219996121040: TensorSpec(shape=(), dtype=tf.resource, name=None)\n",
            "  134219996120848: TensorSpec(shape=(), dtype=tf.resource, name=None)\n",
            "  134219996119504: TensorSpec(shape=(), dtype=tf.resource, name=None)\n",
            "  134219996122192: TensorSpec(shape=(), dtype=tf.resource, name=None)\n",
            "  134219996122576: TensorSpec(shape=(), dtype=tf.resource, name=None)\n",
            "  134219996122960: TensorSpec(shape=(), dtype=tf.resource, name=None)\n",
            "  134219996122768: TensorSpec(shape=(), dtype=tf.resource, name=None)\n",
            "  134219996120080: TensorSpec(shape=(), dtype=tf.resource, name=None)\n",
            "  134219996124112: TensorSpec(shape=(), dtype=tf.resource, name=None)\n",
            "  134219996124496: TensorSpec(shape=(), dtype=tf.resource, name=None)\n",
            "  134219996124880: TensorSpec(shape=(), dtype=tf.resource, name=None)\n",
            "  134219996124688: TensorSpec(shape=(), dtype=tf.resource, name=None)\n",
            "  134219996120272: TensorSpec(shape=(), dtype=tf.resource, name=None)\n",
            "  134219996126032: TensorSpec(shape=(), dtype=tf.resource, name=None)\n",
            "  134219996126416: TensorSpec(shape=(), dtype=tf.resource, name=None)\n",
            "  134219996126800: TensorSpec(shape=(), dtype=tf.resource, name=None)\n",
            "  134219996126608: TensorSpec(shape=(), dtype=tf.resource, name=None)\n",
            "  134219996121808: TensorSpec(shape=(), dtype=tf.resource, name=None)\n",
            "  134219996127952: TensorSpec(shape=(), dtype=tf.resource, name=None)\n",
            "  134219996128336: TensorSpec(shape=(), dtype=tf.resource, name=None)\n",
            "  134219996128720: TensorSpec(shape=(), dtype=tf.resource, name=None)\n",
            "  134219996128528: TensorSpec(shape=(), dtype=tf.resource, name=None)\n",
            "  134219996123728: TensorSpec(shape=(), dtype=tf.resource, name=None)\n",
            "  134219996129872: TensorSpec(shape=(), dtype=tf.resource, name=None)\n",
            "  134219996130256: TensorSpec(shape=(), dtype=tf.resource, name=None)\n",
            "  134219996130640: TensorSpec(shape=(), dtype=tf.resource, name=None)\n",
            "  134219996130448: TensorSpec(shape=(), dtype=tf.resource, name=None)\n",
            "  134219996125648: TensorSpec(shape=(), dtype=tf.resource, name=None)\n",
            "  134219996131792: TensorSpec(shape=(), dtype=tf.resource, name=None)\n",
            "  134219996132176: TensorSpec(shape=(), dtype=tf.resource, name=None)\n",
            "  134219996132560: TensorSpec(shape=(), dtype=tf.resource, name=None)\n",
            "  134219996132368: TensorSpec(shape=(), dtype=tf.resource, name=None)\n",
            "  134219996127568: TensorSpec(shape=(), dtype=tf.resource, name=None)\n",
            "  134219996133712: TensorSpec(shape=(), dtype=tf.resource, name=None)\n",
            "  134219996134096: TensorSpec(shape=(), dtype=tf.resource, name=None)\n",
            "  134219996134480: TensorSpec(shape=(), dtype=tf.resource, name=None)\n",
            "  134219996134288: TensorSpec(shape=(), dtype=tf.resource, name=None)\n",
            "  134219996129488: TensorSpec(shape=(), dtype=tf.resource, name=None)\n",
            "  134219996758096: TensorSpec(shape=(), dtype=tf.resource, name=None)\n",
            "  134219996760016: TensorSpec(shape=(), dtype=tf.resource, name=None)\n",
            "  134219996759440: TensorSpec(shape=(), dtype=tf.resource, name=None)\n",
            "  134219996760784: TensorSpec(shape=(), dtype=tf.resource, name=None)\n",
            "  134219996760208: TensorSpec(shape=(), dtype=tf.resource, name=None)\n",
            "  134219996761552: TensorSpec(shape=(), dtype=tf.resource, name=None)\n",
            "Model berhasil dikonversi dan disimpan sebagai bisindo_image_model.tflite\n",
            "Saved artifact at '/tmp/tmpnw2onfw3'. The following endpoints are available:\n",
            "\n",
            "* Endpoint 'serve'\n",
            "  args_0 (POSITIONAL_ONLY): TensorSpec(shape=(None, 63), dtype=tf.float32, name='keras_tensor_316')\n",
            "Output Type:\n",
            "  TensorSpec(shape=(None, 26), dtype=tf.float32, name=None)\n",
            "Captures:\n",
            "  134219996763664: TensorSpec(shape=(), dtype=tf.resource, name=None)\n",
            "  134219996765200: TensorSpec(shape=(), dtype=tf.resource, name=None)\n",
            "  134219996764624: TensorSpec(shape=(), dtype=tf.resource, name=None)\n",
            "  134219996765968: TensorSpec(shape=(), dtype=tf.resource, name=None)\n",
            "  134219996765392: TensorSpec(shape=(), dtype=tf.resource, name=None)\n",
            "  134219996766736: TensorSpec(shape=(), dtype=tf.resource, name=None)\n",
            "  134219996766160: TensorSpec(shape=(), dtype=tf.resource, name=None)\n",
            "  134219996767504: TensorSpec(shape=(), dtype=tf.resource, name=None)\n",
            "Model berhasil dikonversi dan disimpan sebagai bisindo_landmark_model.tflite\n",
            "Saved artifact at '/tmp/tmpb1fv8j9_'. The following endpoints are available:\n",
            "\n",
            "* Endpoint 'serve'\n",
            "  args_0 (POSITIONAL_ONLY): TensorSpec(shape=(None, 30, 63), dtype=tf.float32, name='keras_tensor_324')\n",
            "Output Type:\n",
            "  TensorSpec(shape=(None, 40), dtype=tf.float32, name=None)\n",
            "Captures:\n",
            "  134219996770576: TensorSpec(shape=(), dtype=tf.resource, name=None)\n",
            "  134219996772304: TensorSpec(shape=(), dtype=tf.resource, name=None)\n",
            "  134219996772880: TensorSpec(shape=(), dtype=tf.resource, name=None)\n",
            "  134219996771920: TensorSpec(shape=(), dtype=tf.resource, name=None)\n",
            "  134219996773456: TensorSpec(shape=(), dtype=tf.resource, name=None)\n",
            "  134219996774032: TensorSpec(shape=(), dtype=tf.resource, name=None)\n",
            "  134219996771344: TensorSpec(shape=(), dtype=tf.resource, name=None)\n",
            "  134219996772112: TensorSpec(shape=(), dtype=tf.resource, name=None)\n",
            "  134219996774224: TensorSpec(shape=(), dtype=tf.resource, name=None)\n",
            "  134219996771536: TensorSpec(shape=(), dtype=tf.resource, name=None)\n",
            "Error converting bisindo_video_model to TFLite: Could not translate MLIR to FlatBuffer.<unknown>:0: error: loc(callsite(callsite(fused[\"CudnnRNNV3:\", \"sequential_2_1/lstm_1/CudnnRNNV3@__inference_function_271950\"] at fused[\"StatefulPartitionedCall:\", \"StatefulPartitionedCall@__inference_signature_wrapper_272001\"]) at fused[\"StatefulPartitionedCall:\", \"StatefulPartitionedCall_1\"])): 'tf.CudnnRNNV3' op is neither a custom op nor a flex op\n",
            "<unknown>:0: note: loc(fused[\"StatefulPartitionedCall:\", \"StatefulPartitionedCall_1\"]): called from\n",
            "<unknown>:0: note: loc(callsite(callsite(fused[\"CudnnRNNV3:\", \"sequential_2_1/lstm_1/CudnnRNNV3@__inference_function_271950\"] at fused[\"StatefulPartitionedCall:\", \"StatefulPartitionedCall@__inference_signature_wrapper_272001\"]) at fused[\"StatefulPartitionedCall:\", \"StatefulPartitionedCall_1\"])): see current operation: %1:5 = \"tf.CudnnRNNV3\"(%arg0, %arg1, %arg2, %arg3, %arg4) {T = f32, device = \"\", direction = \"unidirectional\", dropout = 0.000000e+00 : f32, input_mode = \"linear_input\", is_training = true, num_proj = 0 : i64, rnn_mode = \"lstm\", seed = 0 : i64, seed2 = 0 : i64, time_major = false} : (tensor<?x30x63xf32>, tensor<?x1x128xf32>, tensor<?x1x128xf32>, tensor<98816xf32>, tensor<?xi32>) -> (tensor<?x30x128xf32>, tensor<?x1x128xf32>, tensor<?x1x128xf32>, tensor<*xf32>, tensor<*xi8>)\n",
            "<unknown>:0: note: loc(callsite(callsite(fused[\"CudnnRNNV3:\", \"sequential_2_1/lstm_1/CudnnRNNV3@__inference_function_271950\"] at fused[\"StatefulPartitionedCall:\", \"StatefulPartitionedCall@__inference_signature_wrapper_272001\"]) at fused[\"StatefulPartitionedCall:\", \"StatefulPartitionedCall_1\"])): Error code: ERROR_NEEDS_CUSTOM_OPS\n",
            "<unknown>:0: error: loc(callsite(callsite(fused[\"CudnnRNNV3:\", \"sequential_2_1/lstm_1_2/CudnnRNNV3@__inference_function_271950\"] at fused[\"StatefulPartitionedCall:\", \"StatefulPartitionedCall@__inference_signature_wrapper_272001\"]) at fused[\"StatefulPartitionedCall:\", \"StatefulPartitionedCall_1\"])): 'tf.CudnnRNNV3' op is neither a custom op nor a flex op\n",
            "<unknown>:0: note: loc(fused[\"StatefulPartitionedCall:\", \"StatefulPartitionedCall_1\"]): called from\n",
            "<unknown>:0: note: loc(callsite(callsite(fused[\"CudnnRNNV3:\", \"sequential_2_1/lstm_1_2/CudnnRNNV3@__inference_function_271950\"] at fused[\"StatefulPartitionedCall:\", \"StatefulPartitionedCall@__inference_signature_wrapper_272001\"]) at fused[\"StatefulPartitionedCall:\", \"StatefulPartitionedCall_1\"])): see current operation: %1:5 = \"tf.CudnnRNNV3\"(%arg0, %arg1, %arg2, %arg3, %arg4) {T = f32, device = \"\", direction = \"unidirectional\", dropout = 0.000000e+00 : f32, input_mode = \"linear_input\", is_training = true, num_proj = 0 : i64, rnn_mode = \"lstm\", seed = 0 : i64, seed2 = 0 : i64, time_major = false} : (tensor<?x30x128xf32>, tensor<?x1x256xf32>, tensor<?x1x256xf32>, tensor<395264xf32>, tensor<?xi32>) -> (tensor<?x30x256xf32>, tensor<?x1x256xf32>, tensor<?x1x256xf32>, tensor<*xf32>, tensor<*xi8>)\n",
            "<unknown>:0: note: loc(callsite(callsite(fused[\"CudnnRNNV3:\", \"sequential_2_1/lstm_1_2/CudnnRNNV3@__inference_function_271950\"] at fused[\"StatefulPartitionedCall:\", \"StatefulPartitionedCall@__inference_signature_wrapper_272001\"]) at fused[\"StatefulPartitionedCall:\", \"StatefulPartitionedCall_1\"])): Error code: ERROR_NEEDS_CUSTOM_OPS\n",
            "<unknown>:0: error: failed while converting: 'main': \n",
            "Some ops in the model are custom ops, See instructions to implement custom ops: https://www.tensorflow.org/lite/guide/ops_custom \n",
            "Custom ops: CudnnRNNV3\n",
            "Details:\n",
            "\ttf.CudnnRNNV3(tensor<?x30x128xf32>, tensor<?x1x256xf32>, tensor<?x1x256xf32>, tensor<395264xf32>, tensor<?xi32>) -> (tensor<?x30x256xf32>, tensor<?x1x256xf32>, tensor<?x1x256xf32>, tensor<*xf32>, tensor<*xi8>) : {T = f32, device = \"\", direction = \"unidirectional\", dropout = 0.000000e+00 : f32, input_mode = \"linear_input\", is_training = true, num_proj = 0 : i64, rnn_mode = \"lstm\", seed = 0 : i64, seed2 = 0 : i64, time_major = false}\n",
            "\ttf.CudnnRNNV3(tensor<?x30x63xf32>, tensor<?x1x128xf32>, tensor<?x1x128xf32>, tensor<98816xf32>, tensor<?xi32>) -> (tensor<?x30x128xf32>, tensor<?x1x128xf32>, tensor<?x1x128xf32>, tensor<*xf32>, tensor<*xi8>) : {T = f32, device = \"\", direction = \"unidirectional\", dropout = 0.000000e+00 : f32, input_mode = \"linear_input\", is_training = true, num_proj = 0 : i64, rnn_mode = \"lstm\", seed = 0 : i64, seed2 = 0 : i64, time_major = false}\n",
            "\n",
            "<unknown>:0: note: see current operation: \n",
            "\"func.func\"() <{arg_attrs = [{tf_saved_model.index_path = [\"keras_tensor_324\"]}], function_type = (tensor<?x30x63xf32>) -> tensor<?x40xf32>, res_attrs = [{tf_saved_model.index_path = [\"output_0\"]}], sym_name = \"main\"}> ({\n",
            "^bb0(%arg0: tensor<?x30x63xf32>):\n",
            "  %0 = \"arith.constant\"() <{value = dense<1> : tensor<i32>}> : () -> tensor<i32>\n",
            "  %1 = \"arith.constant\"() <{value = dense<0> : tensor<1xi32>}> : () -> tensor<1xi32>\n",
            "  %2 = \"arith.constant\"() <{value = dense<1> : tensor<1xi32>}> : () -> tensor<1xi32>\n",
            "  %3 = \"arith.constant\"() <{value = dense<0.000000e+00> : tensor<f32>}> : () -> tensor<f32>\n",
            "  %4 = \"arith.constant\"() <{value = dense<128> : tensor<i32>}> : () -> tensor<i32>\n",
            "  %5 = \"arith.constant\"() <{value = dense<256> : tensor<i32>}> : () -> tensor<i32>\n",
            "  %6 = \"arith.constant\"() <{value = dense<30> : tensor<i32>}> : () -> tensor<i32>\n",
            "  %7 = \"arith.constant\"() <{value = dense_resource<__elided__> : tensor<128xf32>}> : () -> tensor<128xf32>\n",
            "  %8 = \"arith.constant\"() <{value = dense_resource<__elided__> : tensor<40xf32>}> : () -> tensor<40xf32>\n",
            "  %9 = \"arith.constant\"() <{value = dense_resource<__elided__> : tensor<395264xf32>}> : () -> tensor<395264xf32>\n",
            "  %10 = \"arith.constant\"() <{value = dense_resource<__elided__> : tensor<98816xf32>}> : () -> tensor<98816xf32>\n",
            "  %11 = \"arith.constant\"() <{value = dense<[-1, 256]> : tensor<2xi32>}> : () -> tensor<2xi32>\n",
            "  %12 = \"tfl.pseudo_qconst\"() <{qtype = tensor<40x128x!quant.uniform<i8<-127:127>:f32:0, {0.0027534353920793909,0.0028009632910330463,0.0040678076856718289,0.0028403894169124091,0.0036154900948832352,0.0030272490396274355,0.0027985793399059864,0.0038992633500437098,0.0029716418953392451,0.0035331455741341657,0.0025842987646268107,0.0033095422692186252,0.0033364002629527895,0.0029082028415259413,0.0035297736877531517,0.0038701331052254503,0.0038532377697351409,0.0038295432807892325,0.0031822626515636294,0.0035729096161098931,0.0032828229618823437,0.0029370909131418064,0.0026549938626176731,0.0040602327331783266,0.0035154488612347701,0.0035932458291842244,0.0035519423916583926,0.0038124245452129933,0.0032040863994538316,0.0040009387834804263,0.0029254619061477539,0.0028143623682457632,0.003063243674481009,0.003245058960801973,0.0029548765636804534,0.0020268101861157756,0.002877071382492546,0.0035771054076397511,0.0028474736870743159,0.0023274109588833306}>>, value = dense_resource<__elided__> : tensor<40x128xi8>}> : () -> tensor<40x128x!quant.uniform<i8<-127:127>:f32:0, {0.0027534353920793909,0.0028009632910330463,0.0040678076856718289,0.0028403894169124091,0.0036154900948832352,0.0030272490396274355,0.0027985793399059864,0.0038992633500437098,0.0029716418953392451,0.0035331455741341657,0.0025842987646268107,0.0033095422692186252,0.0033364002629527895,0.0029082028415259413,0.0035297736877531517,0.0038701331052254503,0.0038532377697351409,0.0038295432807892325,0.0031822626515636294,0.0035729096161098931,0.0032828229618823437,0.0029370909131418064,0.0026549938626176731,0.0040602327331783266,0.0035154488612347701,0.0035932458291842244,0.0035519423916583926,0.0038124245452129933,0.0032040863994538316,0.0040009387834804263,0.0029254619061477539,0.0028143623682457632,0.003063243674481009,0.003245058960801973,0.0029548765636804534,0.0020268101861157756,0.002877071382492546,0.0035771054076397511,0.0028474736870743159,0.0023274109588833306}>>\n",
            "  %13 = \"tfl.pseudo_qconst\"() <{qtype = tensor<128x256x!quant.uniform<i8<-127:127>:f32:0, {0.0025209420778619963,0.0020739867931275856,0.0021879386714124304,0.0020011140136268193,0.0018013295695537656,0.0020307506632617138,0.0024894229539736048,0.0020983139360983539,0.0019180446159182572,0.001903571951107716,0.0020471060369897077,0.0019862515719856802,0.0018809105702272551,0.00184986699284531,0.0021806819232430045,0.0024129361148894301,0.0021013624555482639,0.001973776601430938,0.0020553518937328668,0.0018195492310786811,0.0020881084006602372,0.0019005336395398838,0.0019475868133109386,0.0020454258430661178,0.0024390851888130968,0.0022125765094606893,0.0019368541052960974,0.0020697466501100794,0.0017922192107974076,0.0021127544519469496,0.0019273879959827334,0.0021103620529174805,0.0017823836230856226,0.0017137917007986954,0.0019518206204016378,0.0021016250445148139,0.0018929693642563707,0.0020539436753340594,0.0019845528396095816,0.0020362791113966092,0.0022989518529786838,0.0020534858459562767,0.0019786714568851499,0.0025467440837950218,0.0020038307182432161,0.0018780855681952528,0.0022630135374745045,0.0018609048813346802,0.0023483138854109398,0.0016860809382491224,0.0021447698901018758,0.0023678069508920505,0.0018368649670458216,0.0017823675486046498,0.0020364166244747134,0.0018040878096903404,0.0018399628832584292,0.0019818959743019165,0.0019383204030239676,0.0020825550781460259,0.0020028251831925759,0.0022904652310168651,0.0019294997369210551,0.0025325835220457063,0.0017502801859472681,0.0021752797243163344,0.0020088863185071569,0.0020738966821685551,0.0019365772018282432,0.0024718595302011086,0.0022229296485270101,0.0022785963974599763,0.0016633421182632446,0.0019425402476092961,0.0019470182225460142,0.0018289498691483744,0.0020685407120411788,0.0019857078556000719,0.0020188341929217963,0.0024196374134754571,0.0018439112216468872,0.0017065812987605417,0.0017784741215818511,0.0018455785090529073,0.0022892142374684493,0.0020620461524002197,0.0020908713340759277,0.0018264305169188131,0.001844035124215554,0.0022716477630645273,0.0019187209174388975,0.0018375649696259987,0.002327749109643651,0.0022853347729510209,0.0019630503466748815,0.0018277239846432303,0.0017317763463718684,0.0022750252813804805,0.0019768880108210047,0.0022169536962283877,0.0018980223832167978,0.0019041245847236452,0.0021308078540591743,0.0022776905945905549,0.0020574070806578387,0.0018162613543938463,0.0017727277879639872,0.0017395739949594333,0.0019280348471769197,0.0020103264512039546,0.00200142470870431,0.0020472226649757446,0.002030164472700104,0.0019460442497974306,0.0020625905727776955,0.0019674664876592439,0.0017159154095987635,0.0023140940140551469,0.002529123636681264,0.0020940202896989235,0.0021555590347980889,0.0021289995336157132,0.0020825100226665107,0.0020457508526449128,0.0022926515950931338,0.0016734478041881651,0.0020829713720036305,0.0018123191172682393}>>, value = dense_resource<__elided__> : tensor<128x256xi8>}> : () -> tensor<128x256x!quant.uniform<i8<-127:127>:f32:0, {0.0025209420778619963,0.0020739867931275856,0.0021879386714124304,0.0020011140136268193,0.0018013295695537656,0.0020307506632617138,0.0024894229539736048,0.0020983139360983539,0.0019180446159182572,0.001903571951107716,0.0020471060369897077,0.0019862515719856802,0.0018809105702272551,0.00184986699284531,0.0021806819232430045,0.0024129361148894301,0.0021013624555482639,0.001973776601430938,0.0020553518937328668,0.0018195492310786811,0.0020881084006602372,0.0019005336395398838,0.0019475868133109386,0.0020454258430661178,0.0024390851888130968,0.0022125765094606893,0.0019368541052960974,0.0020697466501100794,0.0017922192107974076,0.0021127544519469496,0.0019273879959827334,0.0021103620529174805,0.0017823836230856226,0.0017137917007986954,0.0019518206204016378,0.0021016250445148139,0.0018929693642563707,0.0020539436753340594,0.0019845528396095816,0.0020362791113966092,0.0022989518529786838,0.0020534858459562767,0.0019786714568851499,0.0025467440837950218,0.0020038307182432161,0.0018780855681952528,0.0022630135374745045,0.0018609048813346802,0.0023483138854109398,0.0016860809382491224,0.0021447698901018758,0.0023678069508920505,0.0018368649670458216,0.0017823675486046498,0.0020364166244747134,0.0018040878096903404,0.0018399628832584292,0.0019818959743019165,0.0019383204030239676,0.0020825550781460259,0.0020028251831925759,0.0022904652310168651,0.0019294997369210551,0.0025325835220457063,0.0017502801859472681,0.0021752797243163344,0.0020088863185071569,0.0020738966821685551,0.0019365772018282432,0.0024718595302011086,0.0022229296485270101,0.0022785963974599763,0.0016633421182632446,0.0019425402476092961,0.0019470182225460142,0.0018289498691483744,0.0020685407120411788,0.0019857078556000719,0.0020188341929217963,0.0024196374134754571,0.0018439112216468872,0.0017065812987605417,0.0017784741215818511,0.0018455785090529073,0.0022892142374684493,0.0020620461524002197,0.0020908713340759277,0.0018264305169188131,0.001844035124215554,0.0022716477630645273,0.0019187209174388975,0.0018375649696259987,0.002327749109643651,0.0022853347729510209,0.0019630503466748815,0.0018277239846432303,0.0017317763463718684,0.0022750252813804805,0.0019768880108210047,0.0022169536962283877,0.0018980223832167978,0.0019041245847236452,0.0021308078540591743,0.0022776905945905549,0.0020574070806578387,0.0018162613543938463,0.0017727277879639872,0.0017395739949594333,0.0019280348471769197,0.0020103264512039546,0.00200142470870431,0.0020472226649757446,0.002030164472700104,0.0019460442497974306,0.0020625905727776955,0.0019674664876592439,0.0017159154095987635,0.0023140940140551469,0.002529123636681264,0.0020940202896989235,0.0021555590347980889,0.0021289995336157132,0.0020825100226665107,0.0020457508526449128,0.0022926515950931338,0.0016734478041881651,0.0020829713720036305,0.0018123191172682393}>>\n",
            "  %14 = \"tfl.shape\"(%arg0) : (tensor<?x30x63xf32>) -> tensor<3xi32>\n",
            "  %15 = \"tfl.strided_slice\"(%14, %1, %2, %2) <{begin_mask = 0 : i32, ellipsis_mask = 0 : i32, end_mask = 0 : i32, new_axis_mask = 0 : i32, offset = false, shrink_axis_mask = 1 : i32}> : (tensor<3xi32>, tensor<1xi32>, tensor<1xi32>, tensor<1xi32>) -> tensor<i32>\n",
            "  %16 = \"tfl.reshape\"(%15, %2) : (tensor<i32>, tensor<1xi32>) -> tensor<1xi32>\n",
            "  %17 = \"tfl.fill\"(%16, %6) : (tensor<1xi32>, tensor<i32>) -> tensor<?xi32>\n",
            "  %18 = \"tfl.pack\"(%15, %4) <{axis = 0 : i32, values_count = 2 : i32}> : (tensor<i32>, tensor<i32>) -> tensor<2xi32>\n",
            "  %19 = \"tfl.fill\"(%18, %3) : (tensor<2xi32>, tensor<f32>) -> tensor<?x128xf32>\n",
            "  %20 = \"tfl.expand_dims\"(%19, %0) : (tensor<?x128xf32>, tensor<i32>) -> tensor<?x1x128xf32>\n",
            "  %21:5 = \"tfl.custom_tf\"(%arg0, %20, %20, %10, %17) ({\n",
            "  ^bb0(%arg6: tensor<?x30x63xf32>, %arg7: tensor<?x1x128xf32>, %arg8: tensor<?x1x128xf32>, %arg9: tensor<98816xf32>, %arg10: tensor<?xi32>):\n",
            "    %35:5 = \"tf.CudnnRNNV3\"(%arg6, %arg7, %arg8, %arg9, %arg10) {T = f32, device = \"\", direction = \"unidirectional\", dropout = 0.000000e+00 : f32, input_mode = \"linear_input\", is_training = true, num_proj = 0 : i64, rnn_mode = \"lstm\", seed = 0 : i64, seed2 = 0 : i64, time_major = false} : (tensor<?x30x63xf32>, tensor<?x1x128xf32>, tensor<?x1x128xf32>, tensor<98816xf32>, tensor<?xi32>) -> (tensor<?x30x128xf32>, tensor<?x1x128xf32>, tensor<?x1x128xf32>, tensor<*xf32>, tensor<*xi8>)\n",
            "    \"tfl.yield\"(%35#0, %35#1, %35#2, %35#3, %35#4) : (tensor<?x30x128xf32>, tensor<?x1x128xf32>, tensor<?x1x128xf32>, tensor<*xf32>, tensor<*xi8>) -> ()\n",
            "  }) {T = f32, device = \"\", direction = \"unidirectional\", dropout = 0.000000e+00 : f32, input_mode = \"linear_input\", is_training = true, num_proj = 0 : i64, rnn_mode = \"lstm\", seed = 0 : i64, seed2 = 0 : i64, time_major = false} : (tensor<?x30x63xf32>, tensor<?x1x128xf32>, tensor<?x1x128xf32>, tensor<98816xf32>, tensor<?xi32>) -> (tensor<?x30x128xf32>, tensor<?x1x128xf32>, tensor<?x1x128xf32>, tensor<*xf32>, tensor<*xi8>)\n",
            "  %22 = \"tfl.shape\"(%21#0) : (tensor<?x30x128xf32>) -> tensor<3xi32>\n",
            "  %23 = \"tfl.strided_slice\"(%22, %1, %2, %2) <{begin_mask = 0 : i32, ellipsis_mask = 0 : i32, end_mask = 0 : i32, new_axis_mask = 0 : i32, offset = false, shrink_axis_mask = 1 : i32}> : (tensor<3xi32>, tensor<1xi32>, tensor<1xi32>, tensor<1xi32>) -> tensor<i32>\n",
            "  %24 = \"tfl.pack\"(%23, %5) <{axis = 0 : i32, values_count = 2 : i32}> : (tensor<i32>, tensor<i32>) -> tensor<2xi32>\n",
            "  %25 = \"tfl.fill\"(%24, %3) : (tensor<2xi32>, tensor<f32>) -> tensor<?x256xf32>\n",
            "  %26 = \"tfl.expand_dims\"(%25, %0) : (tensor<?x256xf32>, tensor<i32>) -> tensor<?x1x256xf32>\n",
            "  %27 = \"tfl.reshape\"(%23, %2) : (tensor<i32>, tensor<1xi32>) -> tensor<1xi32>\n",
            "  %28 = \"tfl.fill\"(%27, %6) : (tensor<1xi32>, tensor<i32>) -> tensor<?xi32>\n",
            "  %29:5 = \"tfl.custom_tf\"(%21#0, %26, %26, %9, %28) ({\n",
            "  ^bb0(%arg1: tensor<?x30x128xf32>, %arg2: tensor<?x1x256xf32>, %arg3: tensor<?x1x256xf32>, %arg4: tensor<395264xf32>, %arg5: tensor<?xi32>):\n",
            "    %34:5 = \"tf.CudnnRNNV3\"(%arg1, %arg2, %arg3, %arg4, %arg5) {T = f32, device = \"\", direction = \"unidirectional\", dropout = 0.000000e+00 : f32, input_mode = \"linear_input\", is_training = true, num_proj = 0 : i64, rnn_mode = \"lstm\", seed = 0 : i64, seed2 = 0 : i64, time_major = false} : (tensor<?x30x128xf32>, tensor<?x1x256xf32>, tensor<?x1x256xf32>, tensor<395264xf32>, tensor<?xi32>) -> (tensor<?x30x256xf32>, tensor<?x1x256xf32>, tensor<?x1x256xf32>, tensor<*xf32>, tensor<*xi8>)\n",
            "    \"tfl.yield\"(%34#0, %34#1, %34#2, %34#3, %34#4) : (tensor<?x30x256xf32>, tensor<?x1x256xf32>, tensor<?x1x256xf32>, tensor<*xf32>, tensor<*xi8>) -> ()\n",
            "  }) {T = f32, device = \"\", direction = \"unidirectional\", dropout = 0.000000e+00 : f32, input_mode = \"linear_input\", is_training = true, num_proj = 0 : i64, rnn_mode = \"lstm\", seed = 0 : i64, seed2 = 0 : i64, time_major = false} : (tensor<?x30x128xf32>, tensor<?x1x256xf32>, tensor<?x1x256xf32>, tensor<395264xf32>, tensor<?xi32>) -> (tensor<?x30x256xf32>, tensor<?x1x256xf32>, tensor<?x1x256xf32>, tensor<*xf32>, tensor<*xi8>)\n",
            "  %30 = \"tfl.reshape\"(%29#1, %11) : (tensor<?x1x256xf32>, tensor<2xi32>) -> tensor<?x256xf32>\n",
            "  %31 = \"tfl.fully_connected\"(%30, %13, %7) <{asymmetric_quantize_inputs = true, fused_activation_function = \"RELU\", keep_num_dims = false, weights_format = \"DEFAULT\"}> : (tensor<?x256xf32>, tensor<128x256x!quant.uniform<i8<-127:127>:f32:0, {0.0025209420778619963,0.0020739867931275856,0.0021879386714124304,0.0020011140136268193,0.0018013295695537656,0.0020307506632617138,0.0024894229539736048,0.0020983139360983539,0.0019180446159182572,0.001903571951107716,0.0020471060369897077,0.0019862515719856802,0.0018809105702272551,0.00184986699284531,0.0021806819232430045,0.0024129361148894301,0.0021013624555482639,0.001973776601430938,0.0020553518937328668,0.0018195492310786811,0.0020881084006602372,0.0019005336395398838,0.0019475868133109386,0.0020454258430661178,0.0024390851888130968,0.0022125765094606893,0.0019368541052960974,0.0020697466501100794,0.0017922192107974076,0.0021127544519469496,0.0019273879959827334,0.0021103620529174805,0.0017823836230856226,0.0017137917007986954,0.0019518206204016378,0.0021016250445148139,0.0018929693642563707,0.0020539436753340594,0.0019845528396095816,0.0020362791113966092,0.0022989518529786838,0.0020534858459562767,0.0019786714568851499,0.0025467440837950218,0.0020038307182432161,0.0018780855681952528,0.0022630135374745045,0.0018609048813346802,0.0023483138854109398,0.0016860809382491224,0.0021447698901018758,0.0023678069508920505,0.0018368649670458216,0.0017823675486046498,0.0020364166244747134,0.0018040878096903404,0.0018399628832584292,0.0019818959743019165,0.0019383204030239676,0.0020825550781460259,0.0020028251831925759,0.0022904652310168651,0.0019294997369210551,0.0025325835220457063,0.0017502801859472681,0.0021752797243163344,0.0020088863185071569,0.0020738966821685551,0.0019365772018282432,0.0024718595302011086,0.0022229296485270101,0.0022785963974599763,0.0016633421182632446,0.0019425402476092961,0.0019470182225460142,0.0018289498691483744,0.0020685407120411788,0.0019857078556000719,0.0020188341929217963,0.0024196374134754571,0.0018439112216468872,0.0017065812987605417,0.0017784741215818511,0.0018455785090529073,0.0022892142374684493,0.0020620461524002197,0.0020908713340759277,0.0018264305169188131,0.001844035124215554,0.0022716477630645273,0.0019187209174388975,0.0018375649696259987,0.002327749109643651,0.0022853347729510209,0.0019630503466748815,0.0018277239846432303,0.0017317763463718684,0.0022750252813804805,0.0019768880108210047,0.0022169536962283877,0.0018980223832167978,0.0019041245847236452,0.0021308078540591743,0.0022776905945905549,0.0020574070806578387,0.0018162613543938463,0.0017727277879639872,0.0017395739949594333,0.0019280348471769197,0.0020103264512039546,0.00200142470870431,0.0020472226649757446,0.002030164472700104,0.0019460442497974306,0.0020625905727776955,0.0019674664876592439,0.0017159154095987635,0.0023140940140551469,0.002529123636681264,0.0020940202896989235,0.0021555590347980889,0.0021289995336157132,0.0020825100226665107,0.0020457508526449128,0.0022926515950931338,0.0016734478041881651,0.0020829713720036305,0.0018123191172682393}>>, tensor<128xf32>) -> tensor<?x128xf32>\n",
            "  %32 = \"tfl.fully_connected\"(%31, %12, %8) <{asymmetric_quantize_inputs = true, fused_activation_function = \"NONE\", keep_num_dims = false, weights_format = \"DEFAULT\"}> : (tensor<?x128xf32>, tensor<40x128x!quant.uniform<i8<-127:127>:f32:0, {0.0027534353920793909,0.0028009632910330463,0.0040678076856718289,0.0028403894169124091,0.0036154900948832352,0.0030272490396274355,0.0027985793399059864,0.0038992633500437098,0.0029716418953392451,0.0035331455741341657,0.0025842987646268107,0.0033095422692186252,0.0033364002629527895,0.0029082028415259413,0.0035297736877531517,0.0038701331052254503,0.0038532377697351409,0.0038295432807892325,0.0031822626515636294,0.0035729096161098931,0.0032828229618823437,0.0029370909131418064,0.0026549938626176731,0.0040602327331783266,0.0035154488612347701,0.0035932458291842244,0.0035519423916583926,0.0038124245452129933,0.0032040863994538316,0.0040009387834804263,0.0029254619061477539,0.0028143623682457632,0.003063243674481009,0.003245058960801973,0.0029548765636804534,0.0020268101861157756,0.002877071382492546,0.0035771054076397511,0.0028474736870743159,0.0023274109588833306}>>, tensor<40xf32>) -> tensor<?x40xf32>\n",
            "  %33 = \"tfl.softmax\"(%32) <{beta = 1.000000e+00 : f32}> : (tensor<?x40xf32>) -> tensor<?x40xf32>\n",
            "  \"func.return\"(%33) : (tensor<?x40xf32>) -> ()\n",
            "}) {tf.entry_function = {control_outputs = \"\", inputs = \"serving_default_keras_tensor_324:0\", outputs = \"StatefulPartitionedCall_1:0\"}, tf_saved_model.exported_names = [\"serving_default\"]} : () -> ()\n",
            "\n",
            "Attempting conversion with allow_custom_ops=True (requires Flex delegate)\n",
            "Saved artifact at '/tmp/tmpw76p_zo7'. The following endpoints are available:\n",
            "\n",
            "* Endpoint 'serve'\n",
            "  args_0 (POSITIONAL_ONLY): TensorSpec(shape=(None, 30, 63), dtype=tf.float32, name='keras_tensor_324')\n",
            "Output Type:\n",
            "  TensorSpec(shape=(None, 40), dtype=tf.float32, name=None)\n",
            "Captures:\n",
            "  134219996770576: TensorSpec(shape=(), dtype=tf.resource, name=None)\n",
            "  134219996772304: TensorSpec(shape=(), dtype=tf.resource, name=None)\n",
            "  134219996772880: TensorSpec(shape=(), dtype=tf.resource, name=None)\n",
            "  134219996771920: TensorSpec(shape=(), dtype=tf.resource, name=None)\n",
            "  134219996773456: TensorSpec(shape=(), dtype=tf.resource, name=None)\n",
            "  134219996774032: TensorSpec(shape=(), dtype=tf.resource, name=None)\n",
            "  134219996771344: TensorSpec(shape=(), dtype=tf.resource, name=None)\n",
            "  134219996772112: TensorSpec(shape=(), dtype=tf.resource, name=None)\n",
            "  134219996774224: TensorSpec(shape=(), dtype=tf.resource, name=None)\n",
            "  134219996771536: TensorSpec(shape=(), dtype=tf.resource, name=None)\n",
            "Model berhasil dikonversi dan disimpan sebagai bisindo_video_model_flex.tflite (using Flex delegate)\n"
          ]
        }
      ],
      "source": [
        "# 7.1 Save model dalam format HDF5\n",
        "image_model.save('bisindo_image_model.h5')\n",
        "landmark_model.save('bisindo_landmark_model.h5')\n",
        "video_model.save('bisindo_video_model.h5')\n",
        "\n",
        "# 7.2 Konversi ke TFLite untuk deployment mobile/web\n",
        "def convert_to_tflite(model, model_name):\n",
        "    \"\"\"\n",
        "    Konversi model Keras ke format TFLite\n",
        "\n",
        "    Args:\n",
        "        model: Model Keras\n",
        "        model_name: Nama file output TFLite\n",
        "    \"\"\"\n",
        "    # Konversi ke TFLite\n",
        "    converter = tf.lite.TFLiteConverter.from_keras_model(model)\n",
        "\n",
        "    # Added: Enable built-in TFLite operations and optimize\n",
        "    converter.optimizations = [tf.lite.Optimize.DEFAULT]\n",
        "    # Added: Explicitly disallow custom ops to force conversion to built-in if possible\n",
        "    converter.allow_custom_ops = False\n",
        "\n",
        "    try:\n",
        "        tflite_model = converter.convert()\n",
        "\n",
        "        # Simpan model\n",
        "        with open(f'{model_name}.tflite', 'wb') as f:\n",
        "            f.write(tflite_model)\n",
        "\n",
        "        print(f\"Model berhasil dikonversi dan disimpan sebagai {model_name}.tflite\")\n",
        "\n",
        "    except Exception as e:\n",
        "        print(f\"Error converting {model_name} to TFLite: {e}\")\n",
        "        print(\"Attempting conversion with allow_custom_ops=True (requires Flex delegate)\")\n",
        "        # Fallback to allowing custom ops if built-in conversion fails\n",
        "        converter.allow_custom_ops = True\n",
        "        try:\n",
        "            tflite_model = converter.convert()\n",
        "            with open(f'{model_name}_flex.tflite', 'wb') as f:\n",
        "                f.write(tflite_model)\n",
        "            print(f\"Model berhasil dikonversi dan disimpan sebagai {model_name}_flex.tflite (using Flex delegate)\")\n",
        "        except Exception as flex_e:\n",
        "            print(f\"Error converting {model_name} even with Flex delegate: {flex_e}\")\n",
        "\n",
        "\n",
        "# Konversi setiap model ke TFLite\n",
        "convert_to_tflite(image_model, 'bisindo_image_model')\n",
        "convert_to_tflite(landmark_model, 'bisindo_landmark_model')\n",
        "convert_to_tflite(video_model, 'bisindo_video_model')"
      ]
    },
    {
      "cell_type": "markdown",
      "source": [
        "## 8. Inferensi Real-Time"
      ],
      "metadata": {
        "id": "exsECnh3vPJ2"
      }
    },
    {
      "cell_type": "code",
      "source": [
        "# 8.1 Fungsi inferensi untuk gambar\n",
        "def predict_image(image_path, model=None, preprocessing_func=None, class_mapping=None):\n",
        "    \"\"\"\n",
        "    Lakukan prediksi pada gambar input\n",
        "\n",
        "    Args:\n",
        "        image_path: Path ke gambar atau array gambar\n",
        "        model: Model untuk prediksi\n",
        "        preprocessing_func: Fungsi preprocessing (optional)\n",
        "        class_mapping: Mapping indeks ke nama kelas\n",
        "\n",
        "    Returns:\n",
        "        predicted_class: Nama kelas prediksi\n",
        "        confidence: Nilai confidence prediksi\n",
        "    \"\"\"\n",
        "    # Load model jika tidak diberikan\n",
        "    if model is None:\n",
        "        model = keras.models.load_model('bisindo_image_model.h5')\n",
        "\n",
        "    # Load class mapping jika tidak diberikan\n",
        "    if class_mapping is None:\n",
        "        with open('image_class_mapping.json', 'r') as f:\n",
        "            class_mapping = json.load(f)\n",
        "\n",
        "    # Load dan preprocess gambar\n",
        "    if isinstance(image_path, str):\n",
        "        image = cv2.imread(image_path)\n",
        "    else:\n",
        "        image = image_path\n",
        "\n",
        "    if image is None:\n",
        "        return \"Error: Tidak dapat membaca gambar\", 0.0\n",
        "\n",
        "    # Resize gambar\n",
        "    image = cv2.resize(image, (224, 224))\n",
        "\n",
        "    # Ekstrak landmark tangan jika diperlukan\n",
        "    if preprocessing_func:\n",
        "        with mp_hands.Hands(static_image_mode=True, max_num_hands=2, min_detection_confidence=0.5) as hands:\n",
        "            landmarks_list, _ = extract_hand_landmarks(image, hands)\n",
        "\n",
        "            if not landmarks_list:\n",
        "                return \"Tidak ada tangan terdeteksi\", 0.0\n",
        "\n",
        "            # Gunakan landmark sebagai input\n",
        "            X = np.array([landmarks_list[0]])\n",
        "    else:\n",
        "        # Gunakan gambar sebagai input\n",
        "        X = np.array([image / 255.0])\n",
        "\n",
        "    # Prediksi\n",
        "    prediction = model.predict(X)\n",
        "\n",
        "    # Ambil kelas dengan probabilitas tertinggi\n",
        "    predicted_class_idx = np.argmax(prediction[0])\n",
        "    confidence = prediction[0][predicted_class_idx]\n",
        "\n",
        "    # Konversi indeks ke nama kelas\n",
        "    predicted_class = class_mapping[str(predicted_class_idx)]\n",
        "\n",
        "    return predicted_class, float(confidence)\n",
        "\n",
        "# 8.2 Fungsi inferensi untuk video\n",
        "def predict_video(video_path, model=None, class_mapping=None, num_frames=30):\n",
        "    \"\"\"\n",
        "    Lakukan prediksi pada video input\n",
        "\n",
        "    Args:\n",
        "        video_path: Path ke video\n",
        "        model: Model untuk prediksi\n",
        "        class_mapping: Mapping indeks ke nama kelas\n",
        "        num_frames: Jumlah frame yang diekstrak\n",
        "\n",
        "    Returns:\n",
        "        predicted_class: Nama kelas prediksi\n",
        "        confidence: Nilai confidence prediksi\n",
        "    \"\"\"\n",
        "    # Load model jika tidak diberikan\n",
        "    if model is None:\n",
        "        model = keras.models.load_model('bisindo_video_model.h5')\n",
        "\n",
        "    # Load class mapping jika tidak diberikan\n",
        "    if class_mapping is None:\n",
        "        with open('video_class_mapping.json', 'r') as f:\n",
        "            class_mapping = json.load(f)\n",
        "\n",
        "    # Buka video\n",
        "    cap = cv2.VideoCapture(video_path)\n",
        "\n",
        "    if not cap.isOpened():\n",
        "        return \"Error: Tidak dapat membuka video\", 0.0\n",
        "\n",
        "    # Hitung jumlah frame\n",
        "    total_frames = int(cap.get(cv2.CAP_PROP_FRAME_COUNT))\n",
        "\n",
        "    # Hitung interval untuk mengambil frame\n",
        "    if total_frames <= num_frames:\n",
        "        frame_indices = range(total_frames)\n",
        "    else:\n",
        "        frame_indices = np.linspace(0, total_frames-1, num_frames, dtype=int)\n",
        "\n",
        "    # Ekstrak landmark dari setiap frame\n",
        "    video_landmarks_sequence = []\n",
        "\n",
        "    with mp_hands.Hands(static_image_mode=False, max_num_hands=2, min_detection_confidence=0.5) as hands:\n",
        "        for frame_idx in range(total_frames):\n",
        "            ret, frame = cap.read()\n",
        "\n",
        "            if not ret:\n",
        "                break\n",
        "\n",
        "            if frame_idx in frame_indices:\n",
        "                # Resize frame\n",
        "                frame = cv2.resize(frame, (224, 224))\n",
        "\n",
        "                # Ekstrak landmark\n",
        "                landmarks_list, _ = extract_hand_landmarks(frame, hands)\n",
        "\n",
        "                if landmarks_list:\n",
        "                    # Gunakan landmark tangan pertama\n",
        "                    video_landmarks_sequence.append(landmarks_list[0])\n",
        "                else:\n",
        "                    # Jika tidak ada landmark terdeteksi, gunakan zeros\n",
        "                    video_landmarks_sequence.append(np.zeros(63))\n",
        "\n",
        "    cap.release()\n",
        "\n",
        "    # Pastikan sequence memiliki panjang yang sama dengan num_frames\n",
        "    if len(video_landmarks_sequence) < num_frames:\n",
        "        # Padding sequence\n",
        "        padding = [np.zeros(63) for _ in range(num_frames - len(video_landmarks_sequence))]\n",
        "        video_landmarks_sequence.extend(padding)\n",
        "    elif len(video_landmarks_sequence) > num_frames:\n",
        "        video_landmarks_sequence = video_landmarks_sequence[:num_frames]\n",
        "\n",
        "    # Tambahkan dimensi batch\n",
        "    X = np.array([video_landmarks_sequence])\n",
        "\n",
        "    # Prediksi\n",
        "    prediction = model.predict(X)\n",
        "\n",
        "    # Ambil kelas dengan probabilitas tertinggi\n",
        "    predicted_class_idx = np.argmax(prediction[0])\n",
        "    confidence = prediction[0][predicted_class_idx]\n",
        "\n",
        "    # Konversi indeks ke nama kelas\n",
        "    predicted_class = class_mapping[str(predicted_class_idx)]\n",
        "\n",
        "    return predicted_class, float(confidence)\n",
        "\n",
        "# 8.3 Inferensi real-time menggunakan webcam\n",
        "def realtime_prediction():\n",
        "    \"\"\"\n",
        "    Melakukan prediksi real-time menggunakan webcam\n",
        "\n",
        "    Returns:\n",
        "        None\n",
        "    \"\"\"\n",
        "    # Load model dan class mapping\n",
        "    try:\n",
        "        landmark_model = keras.models.load_model('bisindo_landmark_model.h5')\n",
        "        with open('image_class_mapping.json', 'r') as f:\n",
        "            class_mapping = json.load(f)\n",
        "    except:\n",
        "        print(\"Error: Model atau class mapping tidak ditemukan. Pastikan model sudah dilatih dan disimpan.\")\n",
        "        return\n",
        "\n",
        "    # Inisialisasi MediaPipe Hands\n",
        "    mp_hands = mp.solutions.hands\n",
        "    mp_drawing = mp.solutions.drawing_utils\n",
        "    hands = mp_hands.Hands(\n",
        "        static_image_mode=False,\n",
        "        max_num_hands=2,\n",
        "        min_detection_confidence=0.5,\n",
        "        min_tracking_confidence=0.5)\n",
        "\n",
        "    # Buka webcam\n",
        "    cap = cv2.VideoCapture(0)\n",
        "\n",
        "    if not cap.isOpened():\n",
        "        print(\"Error: Tidak dapat mengakses webcam.\")\n",
        "        return\n",
        "\n",
        "    # Inisialisasi variabel\n",
        "    start_time = time.time()\n",
        "    pred_class = \"\"\n",
        "    confidence = 0.0\n",
        "    frame_count = 0\n",
        "    pred_interval = 10  # Prediksi setiap 10 frame\n",
        "\n",
        "    while cap.isOpened():\n",
        "        # Baca frame dari webcam\n",
        "        ret, frame = cap.read()\n",
        "        if not ret:\n",
        "            print(\"Error: Tidak dapat membaca frame dari webcam.\")\n",
        "            break\n",
        "\n",
        "        # Flip horizontal untuk tampilan mirror\n",
        "        frame = cv2.flip(frame, 1)\n",
        "        frame_rgb = cv2.cvtColor(frame, cv2.COLOR_BGR2RGB)\n",
        "\n",
        "        # Deteksi tangan\n",
        "        results = hands.process(frame_rgb)\n",
        "\n",
        "        # Gambar landmark tangan\n",
        "        if results.multi_hand_landmarks:\n",
        "            for hand_landmarks in results.multi_hand_landmarks:\n",
        "                mp_drawing.draw_landmarks(\n",
        "                    frame,\n",
        "                    hand_landmarks,\n",
        "                    mp_hands.HAND_CONNECTIONS,\n",
        "                    mp_drawing_styles.get_default_hand_landmarks_style(),\n",
        "                    mp_drawing_styles.get_default_hand_connections_style())\n",
        "\n",
        "            # Prediksi setiap pred_interval frame\n",
        "            if frame_count % pred_interval == 0:\n",
        "                landmarks_list = []\n",
        "                for hand_landmarks in results.multi_hand_landmarks:\n",
        "                    landmarks = []\n",
        "                    for landmark in hand_landmarks.landmark:\n",
        "                        landmarks.extend([landmark.x, landmark.y, landmark.z])\n",
        "                    landmarks_list.append(landmarks)\n",
        "\n",
        "                if landmarks_list:\n",
        "                    # Prediksi menggunakan landmark model\n",
        "                    X = np.array([landmarks_list[0]])\n",
        "                    prediction = landmark_model.predict(X, verbose=0)\n",
        "                    predicted_class_idx = np.argmax(prediction[0])\n",
        "                    confidence = prediction[0][predicted_class_idx]\n",
        "                    pred_class = class_mapping[str(predicted_class_idx)]\n",
        "\n",
        "        # Tampilkan FPS\n",
        "        current_time = time.time()\n",
        "        fps = 1 / (current_time - start_time) if (current_time - start_time) > 0 else 0\n",
        "        start_time = current_time\n",
        "\n",
        "        # Tampilkan hasil prediksi pada frame\n",
        "        cv2.putText(frame, f\"FPS: {fps:.1f}\", (10, 30), cv2.FONT_HERSHEY_SIMPLEX, 1, (0, 255, 0), 2)\n",
        "        cv2.putText(frame, f\"Prediksi: {pred_class}\", (10, 70), cv2.FONT_HERSHEY_SIMPLEX, 1, (0, 255, 0), 2)\n",
        "        cv2.putText(frame, f\"Confidence: {confidence:.2f}\", (10, 110), cv2.FONT_HERSHEY_SIMPLEX, 1, (0, 255, 0), 2)\n",
        "\n",
        "        # Tampilkan frame\n",
        "        cv2.imshow(\"BISINDO Sign Language Translator\", frame)\n",
        "\n",
        "        # Keluar dengan menekan 'q'\n",
        "        if cv2.waitKey(1) & 0xFF == ord('q'):\n",
        "            break\n",
        "\n",
        "        frame_count += 1\n",
        "\n",
        "    # Clean up\n",
        "    cap.release()\n",
        "    cv2.destroyAllWindows()\n",
        "    hands.close()"
      ],
      "metadata": {
        "id": "xUqPNsykufcW"
      },
      "execution_count": null,
      "outputs": []
    },
    {
      "cell_type": "markdown",
      "source": [
        "## 9. Implementasi API Sederhana dengan Flask"
      ],
      "metadata": {
        "id": "m4W6zViivSSg"
      }
    },
    {
      "cell_type": "code",
      "source": [
        "# 9.1 API Flask untuk prediksi gambar dan video\n",
        "def create_flask_api():\n",
        "    \"\"\"\n",
        "    Buat API sederhana dengan Flask\n",
        "    \"\"\"\n",
        "    from flask import Flask, request, jsonify\n",
        "    from werkzeug.utils import secure_filename\n",
        "    import os\n",
        "\n",
        "    app = Flask(__name__)\n",
        "    app.config['UPLOAD_FOLDER'] = 'uploads'\n",
        "    os.makedirs(app.config['UPLOAD_FOLDER'], exist_ok=True)\n",
        "\n",
        "    # Load model dan class mapping\n",
        "    image_model = keras.models.load_model('bisindo_image_model.h5')\n",
        "    landmark_model = keras.models.load_model('bisindo_landmark_model.h5')\n",
        "    video_model = keras.models.load_model('bisindo_video_model.h5')\n",
        "\n",
        "    with open('image_class_mapping.json', 'r') as f:\n",
        "        image_class_mapping = json.load(f)\n",
        "\n",
        "    with open('video_class_mapping.json', 'r') as f:\n",
        "        video_class_mapping = json.load(f)\n",
        "\n",
        "    @app.route('/')\n",
        "    def home():\n",
        "        return \"\"\"\n",
        "        <h1>BISINDO Sign Language Translator API</h1>\n",
        "        <p>API sederhana untuk menerjemahkan Bahasa Isyarat Indonesia (BISINDO)</p>\n",
        "        <h2>Endpoint:</h2>\n",
        "        <ul>\n",
        "            <li>POST /predict_image - Prediksi dari gambar</li>\n",
        "            <li>POST /predict_video - Prediksi dari video</li>\n",
        "        </ul>\n",
        "        \"\"\"\n",
        "\n",
        "    @app.route('/predict_image', methods=['POST'])\n",
        "    def api_predict_image():\n",
        "        if 'file' not in request.files:\n",
        "            return jsonify({'error': 'Tidak ada file yang diunggah'}), 400\n",
        "\n",
        "        file = request.files['file']\n",
        "        if file.filename == '':\n",
        "            return jsonify({'error': 'Tidak ada file yang dipilih'}), 400\n",
        "\n",
        "        if file:\n",
        "            filename = secure_filename(file.filename)\n",
        "            filepath = os.path.join(app.config['UPLOAD_FOLDER'], filename)\n",
        "            file.save(filepath)\n",
        "\n",
        "            # Prediksi\n",
        "            try:\n",
        "                predicted_class, confidence = predict_image(\n",
        "                    filepath, model=image_model, class_mapping=image_class_mapping)\n",
        "\n",
        "                return jsonify({\n",
        "                    'predicted_class': predicted_class,\n",
        "                    'confidence': confidence\n",
        "                })\n",
        "            except Exception as e:\n",
        "                return jsonify({'error': str(e)}), 500\n",
        "\n",
        "    @app.route('/predict_video', methods=['POST'])\n",
        "    def api_predict_video():\n",
        "        if 'file' not in request.files:\n",
        "            return jsonify({'error': 'Tidak ada file yang diunggah'}), 400\n",
        "\n",
        "        file = request.files['file']\n",
        "        if file.filename == '':\n",
        "            return jsonify({'error': 'Tidak ada file yang dipilih'}), 400\n",
        "\n",
        "        if file:\n",
        "            filename = secure_filename(file.filename)\n",
        "            filepath = os.path.join(app.config['UPLOAD_FOLDER'], filename)\n",
        "            file.save(filepath)\n",
        "\n",
        "            # Prediksi\n",
        "            try:\n",
        "                predicted_class, confidence = predict_video(\n",
        "                    filepath, model=video_model, class_mapping=video_class_mapping)\n",
        "\n",
        "                return jsonify({\n",
        "                    'predicted_class': predicted_class,\n",
        "                    'confidence': confidence\n",
        "                })\n",
        "            except Exception as e:\n",
        "                return jsonify({'error': str(e)}), 500\n",
        "\n",
        "    # Jalankan server Flask\n",
        "    # Change the port to something else, e.g., 8081, 5000, etc.\n",
        "    # Make sure to pick a port that is not commonly used.\n",
        "    app.run(host='0.0.0.0', port=8081) # Changed port to 8081\n",
        "\n",
        "# Fungsi ini akan menjalankan Flask API di Colab\n",
        "create_flask_api()"
      ],
      "metadata": {
        "colab": {
          "base_uri": "https://localhost:8080/"
        },
        "id": "9JHATgOzufBn",
        "outputId": "076de8e7-395e-4449-dfe3-1437d65ae71b"
      },
      "execution_count": null,
      "outputs": [
        {
          "output_type": "stream",
          "name": "stderr",
          "text": [
            "WARNING:absl:Compiled the loaded model, but the compiled metrics have yet to be built. `model.compile_metrics` will be empty until you train or evaluate the model.\n",
            "WARNING:absl:Compiled the loaded model, but the compiled metrics have yet to be built. `model.compile_metrics` will be empty until you train or evaluate the model.\n",
            "WARNING:absl:Compiled the loaded model, but the compiled metrics have yet to be built. `model.compile_metrics` will be empty until you train or evaluate the model.\n"
          ]
        },
        {
          "output_type": "stream",
          "name": "stdout",
          "text": [
            " * Serving Flask app '__main__'\n",
            " * Debug mode: off\n"
          ]
        },
        {
          "output_type": "stream",
          "name": "stderr",
          "text": [
            "INFO:werkzeug:\u001b[31m\u001b[1mWARNING: This is a development server. Do not use it in a production deployment. Use a production WSGI server instead.\u001b[0m\n",
            " * Running on all addresses (0.0.0.0)\n",
            " * Running on http://127.0.0.1:8081\n",
            " * Running on http://172.28.0.12:8081\n",
            "INFO:werkzeug:\u001b[33mPress CTRL+C to quit\u001b[0m\n"
          ]
        }
      ]
    },
    {
      "cell_type": "markdown",
      "source": [
        "## 10. Demo UI dengan Gradio"
      ],
      "metadata": {
        "id": "5Kv_dYoovVpt"
      }
    },
    {
      "cell_type": "code",
      "source": [
        "def create_gradio_ui():\n",
        "    \"\"\"\n",
        "    Buat UI demo dengan Gradio (versi terbaru)\n",
        "    \"\"\"\n",
        "    # Load model dan class mapping\n",
        "    try:\n",
        "        image_model = keras.models.load_model('bisindo_image_model.h5')\n",
        "        landmark_model = keras.models.load_model('bisindo_landmark_model.h5')\n",
        "        video_model = keras.models.load_model('bisindo_video_model.h5')\n",
        "\n",
        "        with open('image_class_mapping.json', 'r') as f:\n",
        "            image_class_mapping = json.load(f)\n",
        "\n",
        "        with open('video_class_mapping.json', 'r') as f:\n",
        "            video_class_mapping = json.load(f)\n",
        "    except Exception as e:\n",
        "        print(f\"Error loading models: {str(e)}\")\n",
        "        return\n",
        "\n",
        "    # Fungsi prediksi gambar\n",
        "    def predict_from_image(image):\n",
        "        if image is None:\n",
        "            return \"Tidak ada gambar yang diunggah\", None\n",
        "\n",
        "        try:\n",
        "            image_np = np.array(image)\n",
        "            image_bgr = cv2.cvtColor(image_np, cv2.COLOR_RGB2BGR)\n",
        "\n",
        "            with mp_hands.Hands(static_image_mode=True, max_num_hands=2, min_detection_confidence=0.5) as hands:\n",
        "                landmarks_list, processed_img = extract_hand_landmarks(image_bgr, hands)\n",
        "\n",
        "            if not landmarks_list:\n",
        "                return \"Tidak ada tangan terdeteksi\", cv2.cvtColor(image_bgr, cv2.COLOR_BGR2RGB)\n",
        "\n",
        "            X = np.array([landmarks_list[0]])\n",
        "            prediction = landmark_model.predict(X, verbose=0)\n",
        "            predicted_class_idx = np.argmax(prediction[0])\n",
        "            confidence = prediction[0][predicted_class_idx]\n",
        "            pred_class = image_class_mapping[str(predicted_class_idx)]\n",
        "\n",
        "            return f\"Prediksi: {pred_class} (Confidence: {confidence:.2f})\", cv2.cvtColor(processed_img, cv2.COLOR_BGR2RGB)\n",
        "        except Exception as e:\n",
        "            return f\"Error: {str(e)}\", None\n",
        "\n",
        "    # Fungsi prediksi webcam\n",
        "    def predict_from_webcam(image):\n",
        "        return predict_from_image(image)\n",
        "\n",
        "    # Fungsi prediksi video\n",
        "    def predict_from_video(video_path):\n",
        "        if video_path is None:\n",
        "            return \"Tidak ada video yang diunggah\"\n",
        "\n",
        "        try:\n",
        "            with mp_hands.Hands(static_image_mode=False, max_num_hands=2, min_detection_confidence=0.5) as hands:\n",
        "                predicted_class, confidence = predict_video(video_path, model=video_model,\n",
        "                                                          class_mapping=video_class_mapping,\n",
        "                                                          hands_detector=hands)\n",
        "            return f\"Prediksi: {predicted_class} (Confidence: {confidence:.2f})\"\n",
        "        except Exception as e:\n",
        "            return f\"Error: {str(e)}\"\n",
        "\n",
        "    # Fungsi teks ke isyarat\n",
        "    def text_to_sign(text):\n",
        "        if not text:\n",
        "            return \"Masukkan teks untuk diterjemahkan\"\n",
        "\n",
        "        try:\n",
        "            words = text.lower().split()\n",
        "            all_classes = set()\n",
        "\n",
        "            with open('image_class_mapping.json', 'r') as f:\n",
        "                img_map = json.load(f)\n",
        "                all_classes.update(v.lower() for v in img_map.values())\n",
        "\n",
        "            with open('video_class_mapping.json', 'r') as f:\n",
        "                video_map = json.load(f)\n",
        "                all_classes.update(v.lower() for v in video_map.values())\n",
        "\n",
        "            found = [w for w in words if w in all_classes]\n",
        "            not_found = [w for w in words if w not in all_classes]\n",
        "\n",
        "            result = f\"Kata yang ditemukan: {', '.join(found)}\" if found else \"Tidak ada kata yang ditemukan\"\n",
        "            if not_found:\n",
        "                result += f\"\\nKata tidak dikenal: {', '.join(not_found)}\"\n",
        "\n",
        "            return result\n",
        "        except Exception as e:\n",
        "            return f\"Error: {str(e)}\"\n",
        "\n",
        "    # Buat interface Gradio\n",
        "    with gr.Blocks(title=\"BISINDO Translator\") as demo:\n",
        "        gr.Markdown(\"# Artisign\")\n",
        "\n",
        "        with gr.Tabs():\n",
        "            with gr.Tab(\"Gambar\"):\n",
        "                with gr.Row():\n",
        "                    img_input = gr.Image(label=\"Upload Gambar\")\n",
        "                    img_button = gr.Button(\"Terjemahkan\")\n",
        "                with gr.Row():\n",
        "                    img_output = gr.Text(label=\"Hasil\")\n",
        "                    img_vis = gr.Image(label=\"Landmark\")\n",
        "                img_button.click(predict_from_image, inputs=img_input, outputs=[img_output, img_vis])\n",
        "\n",
        "            with gr.Tab(\"Webcam\"):\n",
        "                with gr.Row():\n",
        "                    webcam = gr.Image(label=\"Kamera\", streaming=True)\n",
        "                    webcam_button = gr.Button(\"Terjemahkan\")\n",
        "                with gr.Row():\n",
        "                    webcam_output = gr.Text(label=\"Hasil\")\n",
        "                    webcam_vis = gr.Image(label=\"Landmark\")\n",
        "                webcam_button.click(predict_from_webcam, inputs=webcam, outputs=[webcam_output, webcam_vis])\n",
        "\n",
        "            with gr.Tab(\"Video\"):\n",
        "                with gr.Row():\n",
        "                    video = gr.Video(label=\"Upload Video\")\n",
        "                    video_button = gr.Button(\"Terjemahkan\")\n",
        "                video_output = gr.Text(label=\"Hasil\")\n",
        "                video_button.click(predict_from_video, inputs=video, outputs=video_output)\n",
        "\n",
        "            with gr.Tab(\"Teks ke Isyarat\"):\n",
        "                with gr.Row():\n",
        "                    text = gr.Textbox(label=\"Masukkan Teks\")\n",
        "                    text_button = gr.Button(\"Cari\")\n",
        "                text_output = gr.Text(label=\"Hasil\")\n",
        "                text_button.click(text_to_sign, inputs=text, outputs=text_output)\n",
        "\n",
        "        gr.Markdown(\"\"\"\n",
        "        ### Cara Penggunaan:\n",
        "        1. **Gambar**: Unggah foto isyarat tangan\n",
        "        2. **Webcam**: Gunakan kamera real-time\n",
        "        3. **Video**: Unggah video isyarat\n",
        "        4. **Teks**: Cari isyarat untuk kata tertentu\n",
        "        \"\"\")\n",
        "\n",
        "    demo.launch(share=True)\n",
        "\n",
        "create_gradio_ui()"
      ],
      "metadata": {
        "colab": {
          "base_uri": "https://localhost:8080/",
          "height": 666
        },
        "id": "PjgLL_DJuvDE",
        "outputId": "f9ece514-bca1-4d3a-a93d-c32a970de11e"
      },
      "execution_count": null,
      "outputs": [
        {
          "output_type": "stream",
          "name": "stderr",
          "text": [
            "WARNING:absl:Compiled the loaded model, but the compiled metrics have yet to be built. `model.compile_metrics` will be empty until you train or evaluate the model.\n",
            "WARNING:absl:Compiled the loaded model, but the compiled metrics have yet to be built. `model.compile_metrics` will be empty until you train or evaluate the model.\n",
            "WARNING:absl:Compiled the loaded model, but the compiled metrics have yet to be built. `model.compile_metrics` will be empty until you train or evaluate the model.\n"
          ]
        },
        {
          "output_type": "stream",
          "name": "stdout",
          "text": [
            "Colab notebook detected. To show errors in colab notebook, set debug=True in launch()\n",
            "* Running on public URL: https://5efdf16885d0ee343a.gradio.live\n",
            "\n",
            "This share link expires in 1 week. For free permanent hosting and GPU upgrades, run `gradio deploy` from the terminal in the working directory to deploy to Hugging Face Spaces (https://huggingface.co/spaces)\n"
          ]
        },
        {
          "output_type": "display_data",
          "data": {
            "text/plain": [
              "<IPython.core.display.HTML object>"
            ],
            "text/html": [
              "<div><iframe src=\"https://5efdf16885d0ee343a.gradio.live\" width=\"100%\" height=\"500\" allow=\"autoplay; camera; microphone; clipboard-read; clipboard-write;\" frameborder=\"0\" allowfullscreen></iframe></div>"
            ]
          },
          "metadata": {}
        }
      ]
    },
    {
      "cell_type": "markdown",
      "source": [
        "# komen\n",
        "\n",
        "menurut saya ini sudah aman mas untuk modelnya,ditambah lagi precisionnya rata-rata sudah bagus semua dan hanya sedikit yang di bawah 80% precisionnya itu saja dari saya mas.bebas dari masnya kalau menambahkan model lain lagi\n",
        "\n",
        "```\n",
        "ha"
      ],
      "metadata": {
        "id": "-JvWuUaZdYTV"
      }
    },
    {
      "cell_type": "code",
      "source": [],
      "metadata": {
        "id": "ESxRos9ghpW_"
      },
      "execution_count": null,
      "outputs": []
    }
  ]
}